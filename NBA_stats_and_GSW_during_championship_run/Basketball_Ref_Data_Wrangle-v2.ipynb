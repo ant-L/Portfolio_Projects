{
 "cells": [
  {
   "cell_type": "markdown",
   "metadata": {},
   "source": [
    "## NBA Statistics During Golden State Warriors (GSW) Championship Run Project  - Data Wrangling"
   ]
  },
  {
   "cell_type": "markdown",
   "metadata": {},
   "source": [
    "### Introduction:"
   ]
  },
  {
   "cell_type": "markdown",
   "metadata": {},
   "source": [
    "In this first section of the project, raw data will be scraped from the basketball-reference website for all 30 NBA teams. Once the raw data has been extracted, the data will be cleaned and formatted, and then converted into a CSV file for the next section of the project &mdash; exploratory analysis.\n",
    "\n",
    "Imported libraries are BeautifulSoup, Requests, and Pandas; in addition, the time module has been imported. "
   ]
  },
  {
   "cell_type": "code",
   "execution_count": 1,
   "metadata": {},
   "outputs": [],
   "source": [
    "from bs4 import BeautifulSoup # library to pull data from web and parse data \n",
    "import requests # library for http requests to retrieve data\n",
    "import time # module providing functions to work with time\n",
    "import pandas as pd # library for data manipulation and analysis"
   ]
  },
  {
   "cell_type": "markdown",
   "metadata": {},
   "source": [
    "Below are functions to scrape data from the Basketball Rerence website and organize acquired data to be converted into a Pandas dataframe for future use."
   ]
  },
  {
   "cell_type": "code",
   "execution_count": 2,
   "metadata": {},
   "outputs": [],
   "source": [
    "def get_soup(team_list):\n",
    "    \"\"\"\n",
    "    Request data from website and parse data using BeautifulSoup; \n",
    "    returns a soup object.\n",
    "    \n",
    "    Takes a list of teams to identify the specific web-page to scrape team data.\n",
    "    \"\"\"\n",
    "    # create dictionary of page response requests for each team using team list abbreviations\n",
    "    page_list = {}\n",
    "    for i, team in enumerate(team_list):\n",
    "        url = \"https://www.basketball-reference.com/teams/{}/stats_basic_totals.html\".format(team)\n",
    "        page_list[team] = requests.get(url)\n",
    "#         time.sleep(15) # time is in seconds; adjust sleep time as needed for cycling through requests\n",
    "    \n",
    "    # create list to append soup object texts from scrape\n",
    "    soup_list = []\n",
    "    for i, item in enumerate(team_list):\n",
    "        soup_list.append(BeautifulSoup(page_list[item].text, \"html.parser\"))\n",
    "        \n",
    "    return soup_list"
   ]
  },
  {
   "cell_type": "code",
   "execution_count": 3,
   "metadata": {},
   "outputs": [],
   "source": [
    "def get_dataframe(soup_obj):\n",
    "    \"\"\"\n",
    "    Extract text data from an html soup object and convert the text to a list; \n",
    "    returns a list of text data.\n",
    "    \n",
    "    Takes a soup object.\n",
    "    \"\"\"\n",
    "    # create list of row elements searching for 'tr' (table row) tag in each NBA team text data\n",
    "    row_values = []\n",
    "    for i, item in enumerate(soup_list):\n",
    "        row_values.append(soup_list[i].find_all('tr'))\n",
    "        \n",
    "    # create list of stats elements in each NBA team searching for all 'td' (table data) tag\n",
    "    stats_value = []\n",
    "    for i, item in enumerate(row_values):\n",
    "        for e, item2 in enumerate(row_values[i]):\n",
    "            stats_value.append(row_values[i][e].find_all('td'))\n",
    "            \n",
    "    # create list of season elements in each NBA team searching for all 'th' (table header) tag\n",
    "    season_values = []\n",
    "    for i, item in enumerate(row_values):\n",
    "        for e, item2 in enumerate(row_values[i]):\n",
    "            season_values.append(row_values[i][e].find_all('th'))\n",
    "            \n",
    "    # create list of season elements extracting text from previous tag in season_values variable\n",
    "    season_nums = []\n",
    "    for i, item in enumerate(season_values):\n",
    "        season_nums.append([(season_values[i][0].get_text())])\n",
    "        \n",
    "    # create new list of stats for each year of the NBA teams\n",
    "    data_list = []\n",
    "    for item in stats_value:\n",
    "        stats_nums = []\n",
    "        for e in range(len(item)):\n",
    "            stats_nums.append(item[e].get_text())\n",
    "\n",
    "        data_list.append(stats_nums)\n",
    "        stats_nums = None\n",
    "\n",
    "    # create a new list to filter out the blank '[]' elements in the \"data_list\" variable\n",
    "    stats_list = list(filter(lambda x : x != [], data_list))\n",
    "    \n",
    "    # create a new list to filter out ['Season'] elements in the \"season_nums\" variable\n",
    "    season_list = list(filter(lambda x : x != ['Season'], season_nums))\n",
    "    \n",
    "    # create new dataframe list using filtered variables (\"season_list\" and \"stats_list\") for use to create the nba_data_frame\n",
    "    dataframe_list = []\n",
    "    for i, item in enumerate(season_list):\n",
    "        dataframe_list.append(item)\n",
    "        dataframe_list[i].extend(stats_list[i])\n",
    "    \n",
    "    return dataframe_list"
   ]
  },
  {
   "cell_type": "markdown",
   "metadata": {},
   "source": [
    "**Script to retrieve data from basketball-reference website**"
   ]
  },
  {
   "cell_type": "code",
   "execution_count": 4,
   "metadata": {},
   "outputs": [],
   "source": [
    "# list of team abbreviations for url requests\n",
    "teams = ['ATL','BOS','NJN','CHA','CHI','CLE','DAL','DEN','DET','GSW','HOU','IND','LAC','LAL','MEM','MIA','MIL','MIN','NOH',\n",
    "         'NYK','OKC','ORL','PHI','PHO','POR','SAC','SAS','TOR','UTA','WAS']"
   ]
  },
  {
   "cell_type": "code",
   "execution_count": 5,
   "metadata": {},
   "outputs": [],
   "source": [
    "# call get_soup() function to return soup object and assign to variable\n",
    "soup_list = get_soup(teams)"
   ]
  },
  {
   "cell_type": "code",
   "execution_count": 6,
   "metadata": {},
   "outputs": [],
   "source": [
    "# call get_dataframe() function to return dataframe list and assign to variable\n",
    "df_list = get_dataframe(soup_list)"
   ]
  },
  {
   "cell_type": "code",
   "execution_count": 7,
   "metadata": {},
   "outputs": [
    {
     "name": "stdout",
     "output_type": "stream",
     "text": [
      "['Season', 'Lg', 'Tm', 'W', 'L', 'Finish', '\\xa0', 'Age', 'Ht.', 'Wt.', '\\xa0', 'G', 'MP', 'FG', 'FGA', 'FG%', '3P', '3PA', '3P%', '2P', '2PA', '2P%', 'FT', 'FTA', 'FT%', 'ORB', 'DRB', 'TRB', 'AST', 'STL', 'BLK', 'TOV', 'PF', 'PTS']\n"
     ]
    }
   ],
   "source": [
    "# create list of headers for dataframe\n",
    "headers = [th.get_text() for th in soup_list[0].find_all('tr')[0].find_all('th')]\n",
    "\n",
    "# view headers\n",
    "print(headers)"
   ]
  },
  {
   "cell_type": "markdown",
   "metadata": {},
   "source": [
    "**Note:** There are empty columns as noted by headers *\"\\xa0\"* above.\n",
    "\n",
    "**Convert dataframe *list* from script to Pandas dataframe**"
   ]
  },
  {
   "cell_type": "code",
   "execution_count": 8,
   "metadata": {},
   "outputs": [],
   "source": [
    "# create nba data dataframe\n",
    "nba_df = pd.DataFrame(df_list, columns = (headers)) "
   ]
  },
  {
   "cell_type": "code",
   "execution_count": 9,
   "metadata": {
    "scrolled": false
   },
   "outputs": [
    {
     "name": "stdout",
     "output_type": "stream",
     "text": [
      "(1513, 34)\n"
     ]
    }
   ],
   "source": [
    "# check shape of data to see dimensions; rows, columns\n",
    "print(nba_df.shape)"
   ]
  },
  {
   "cell_type": "code",
   "execution_count": 10,
   "metadata": {
    "scrolled": false
   },
   "outputs": [
    {
     "name": "stdout",
     "output_type": "stream",
     "text": [
      "Index(['Season', 'Lg', 'Tm', 'W', 'L', 'Finish', ' ', 'Age', 'Ht.', 'Wt.', ' ',\n",
      "       'G', 'MP', 'FG', 'FGA', 'FG%', '3P', '3PA', '3P%', '2P', '2PA', '2P%',\n",
      "       'FT', 'FTA', 'FT%', 'ORB', 'DRB', 'TRB', 'AST', 'STL', 'BLK', 'TOV',\n",
      "       'PF', 'PTS'],\n",
      "      dtype='object')\n"
     ]
    }
   ],
   "source": [
    "# view column names; recall their are \"empty\" columns\n",
    "print(nba_df.columns)"
   ]
  },
  {
   "cell_type": "code",
   "execution_count": 11,
   "metadata": {},
   "outputs": [
    {
     "name": "stdout",
     "output_type": "stream",
     "text": [
      "['Season' 'Tm' 'W' 'L' 'Finish' 'Age' 'FG' 'FGA' 'FG%' '3P' '3PA' '3P%'\n",
      " '2P' '2PA' '2P%' 'FT' 'FTA' 'FT%' 'ORB' 'DRB' 'TRB' 'AST' 'STL' 'BLK'\n",
      " 'TOV' 'PTS']\n"
     ]
    }
   ],
   "source": [
    "# drop irrelevant columns \n",
    "nba_df.drop(['Lg', '\\xa0', '\\xa0', 'Ht.', 'Wt.', 'G', 'MP', 'PF'], axis=1, inplace=True)\n",
    "\n",
    "# view new columns\n",
    "print(nba_df.columns.values)"
   ]
  },
  {
   "cell_type": "code",
   "execution_count": 12,
   "metadata": {
    "scrolled": true
   },
   "outputs": [
    {
     "name": "stdout",
     "output_type": "stream",
     "text": [
      "Season    0\n",
      "Tm        0\n",
      "W         0\n",
      "L         0\n",
      "Finish    0\n",
      "Age       0\n",
      "FG        0\n",
      "FGA       0\n",
      "FG%       0\n",
      "3P        0\n",
      "3PA       0\n",
      "3P%       0\n",
      "2P        0\n",
      "2PA       0\n",
      "2P%       0\n",
      "FT        0\n",
      "FTA       0\n",
      "FT%       0\n",
      "ORB       0\n",
      "DRB       0\n",
      "TRB       0\n",
      "AST       0\n",
      "STL       0\n",
      "BLK       0\n",
      "TOV       0\n",
      "PTS       0\n",
      "dtype: int64\n"
     ]
    }
   ],
   "source": [
    "# check for possible na values in dataframe\n",
    "print(nba_df.isna().sum())"
   ]
  },
  {
   "cell_type": "code",
   "execution_count": 13,
   "metadata": {
    "scrolled": true
   },
   "outputs": [
    {
     "name": "stdout",
     "output_type": "stream",
     "text": [
      "Season    object\n",
      "Tm        object\n",
      "W         object\n",
      "L         object\n",
      "Finish    object\n",
      "Age       object\n",
      "FG        object\n",
      "FGA       object\n",
      "FG%       object\n",
      "3P        object\n",
      "3PA       object\n",
      "3P%       object\n",
      "2P        object\n",
      "2PA       object\n",
      "2P%       object\n",
      "FT        object\n",
      "FTA       object\n",
      "FT%       object\n",
      "ORB       object\n",
      "DRB       object\n",
      "TRB       object\n",
      "AST       object\n",
      "STL       object\n",
      "BLK       object\n",
      "TOV       object\n",
      "PTS       object\n",
      "dtype: object\n"
     ]
    }
   ],
   "source": [
    "# take a look at the data types\n",
    "print(nba_df.dtypes)"
   ]
  },
  {
   "cell_type": "markdown",
   "metadata": {},
   "source": [
    "**Note:** All data are currently an object type, but will be converted during export. However, *Season* column will stay as an object type due to dash, and will need to be manually converted to numeric format."
   ]
  },
  {
   "cell_type": "code",
   "execution_count": 14,
   "metadata": {
    "scrolled": false
   },
   "outputs": [
    {
     "name": "stdout",
     "output_type": "stream",
     "text": [
      "    Season   Tm   W   L Finish   Age    FG   FGA   FG%    3P  ...    FTA  \\\n",
      "0  2018-19  ATL  29  53      5  25.1  3392  7524  .451  1067  ...   1918   \n",
      "1  2017-18  ATL  24  58      5  25.4  3130  7015  .446   917  ...   1654   \n",
      "2  2016-17  ATL  43  39      2  27.9  3123  6918  .451   729  ...   2039   \n",
      "3  2015-16  ATL  48  34      2  28.2  3168  6923  .458   815  ...   1638   \n",
      "4  2014-15  ATL  60  22      1  27.8  3121  6699  .466   818  ...   1735   \n",
      "\n",
      "    FT%  ORB   DRB   TRB   AST  STL  BLK   TOV   PTS  \n",
      "0  .752  955  2825  3780  2118  675  419  1397  9294  \n",
      "1  .785  743  2693  3436  1946  638  348  1276  8475  \n",
      "2  .728  842  2793  3635  1938  672  397  1294  8459  \n",
      "3  .783  679  2772  3451  2100  747  486  1226  8433  \n",
      "4  .778  715  2611  3326  2111  744  380  1167  8409  \n",
      "\n",
      "[5 rows x 26 columns]\n"
     ]
    }
   ],
   "source": [
    "# view results of dataframe; first 5 rows\n",
    "print(nba_df.head())"
   ]
  },
  {
   "cell_type": "markdown",
   "metadata": {},
   "source": [
    "The analysis will be focusing on the 2014-15 to 2018-19 NBA seasons; create a new dataframe reflecting the seasons to be analyzed.\n",
    "\n",
    "For purposes of the analysis, a separate dataframe will be created specifically for the Golden State Warriors."
   ]
  },
  {
   "cell_type": "code",
   "execution_count": 15,
   "metadata": {},
   "outputs": [],
   "source": [
    "# deep copy original dataframe to a new dataframe; one for all teams and one for GSW\n",
    "all_teams_df = nba_df[nba_df['Season'] >= '2014-15'].copy(deep = True)\n",
    "gsw_df = nba_df[(nba_df['Season'] >= '2014-15') & (nba_df['Tm'] == 'GSW')].copy(deep = True)"
   ]
  },
  {
   "cell_type": "code",
   "execution_count": 16,
   "metadata": {},
   "outputs": [],
   "source": [
    "# reset index to start at 0...n\n",
    "all_teams_df.index = range(len(all_teams_df.index))\n",
    "gsw_df.index = range(len(gsw_df.index))"
   ]
  },
  {
   "cell_type": "code",
   "execution_count": 17,
   "metadata": {},
   "outputs": [],
   "source": [
    "# all data are currently an object type as they're still in parsed html format; data will be converted during export\n",
    "# noted above the \"Season\" variable is an object type; adjust season column to have one year\n",
    "team_adj_seasons = []\n",
    "gsw_adj_seasons = []\n",
    "\n",
    "team_adj_seasons = all_teams_df.Season.apply(lambda year: year[:2] + year[5:])\n",
    "gsw_adj_seasons = gsw_df.Season.apply(lambda year: year[:2] + year[5:])\n",
    "        \n",
    "all_teams_df['Season'] = team_adj_seasons\n",
    "gsw_df['Season'] = gsw_adj_seasons"
   ]
  },
  {
   "cell_type": "code",
   "execution_count": 18,
   "metadata": {},
   "outputs": [],
   "source": [
    "# convert season to a numeric\n",
    "all_teams_df['Season'] = pd.to_numeric(all_teams_df['Season'])\n",
    "gsw_df['Season'] = pd.to_numeric(gsw_df['Season'])"
   ]
  },
  {
   "cell_type": "code",
   "execution_count": 19,
   "metadata": {
    "scrolled": true
   },
   "outputs": [
    {
     "name": "stdout",
     "output_type": "stream",
     "text": [
      "Season     int64\n",
      "Tm        object\n",
      "W         object\n",
      "L         object\n",
      "Finish    object\n",
      "Age       object\n",
      "FG        object\n",
      "FGA       object\n",
      "FG%       object\n",
      "3P        object\n",
      "3PA       object\n",
      "3P%       object\n",
      "2P        object\n",
      "2PA       object\n",
      "2P%       object\n",
      "FT        object\n",
      "FTA       object\n",
      "FT%       object\n",
      "ORB       object\n",
      "DRB       object\n",
      "TRB       object\n",
      "AST       object\n",
      "STL       object\n",
      "BLK       object\n",
      "TOV       object\n",
      "PTS       object\n",
      "dtype: object\n"
     ]
    }
   ],
   "source": [
    "# recheck data types to make sure \"Season\" variable is now numeric\n",
    "print(gsw_df.dtypes)"
   ]
  },
  {
   "cell_type": "markdown",
   "metadata": {},
   "source": [
    "Convert and save dataframes with relevant data for analysis"
   ]
  },
  {
   "cell_type": "code",
   "execution_count": 20,
   "metadata": {},
   "outputs": [],
   "source": [
    "# convert new dataframes to csv for analysis\n",
    "all_teams_df.to_csv(\"all_teams_df.csv\", index=False)\n",
    "gsw_df.to_csv(\"gsw_df.csv\", index=False)"
   ]
  }
 ],
 "metadata": {
  "kernelspec": {
   "display_name": "Python 3",
   "language": "python",
   "name": "python3"
  },
  "language_info": {
   "codemirror_mode": {
    "name": "ipython",
    "version": 3
   },
   "file_extension": ".py",
   "mimetype": "text/x-python",
   "name": "python",
   "nbconvert_exporter": "python",
   "pygments_lexer": "ipython3",
   "version": "3.7.1"
  }
 },
 "nbformat": 4,
 "nbformat_minor": 2
}
