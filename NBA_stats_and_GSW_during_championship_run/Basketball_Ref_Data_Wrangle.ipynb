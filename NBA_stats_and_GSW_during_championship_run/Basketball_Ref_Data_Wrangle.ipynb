{
 "cells": [
  {
   "cell_type": "markdown",
   "metadata": {},
   "source": [
    "<p align="center">## NBA Statistics During Golden State Warriors (GSW) Championship Run Project </p>"
   ]
  },
  {
   "cell_type": "markdown",
   "metadata": {},
   "source": [
    "### <p align="center"><u> Data Wrangling </u></p>\n",
    "### Introduction:"
   ]
  },
  {
   "cell_type": "markdown",
   "metadata": {},
   "source": [
    "In this first section of the project, I am will be scraping the raw data from the basketball-reference website for all 30 NBA teams. Once I've extracted the raw data, I will clean and format the data to convert it into a CSV file for the next section of the project, the exploratory analysis.\n",
    "\n",
    "Imported libraries are BeautifulSoup, Requests, and Pandas; in addition, the time module has been imported. "
   ]
  },
  {
   "cell_type": "code",
   "execution_count": 1,
   "metadata": {},
   "outputs": [],
   "source": [
    "from bs4 import BeautifulSoup # library to pull data from web and parse data \n",
    "import requests # library for http requests to retrieve data\n",
    "import time # module providing functions to work with time\n",
    "import pandas as pd # library for data manipulation and analysis"
   ]
  },
  {
   "cell_type": "markdown",
   "metadata": {},
   "source": [
    "Script to retrieve data from basketball-reference website"
   ]
  },
  {
   "cell_type": "code",
   "execution_count": 2,
   "metadata": {},
   "outputs": [],
   "source": [
    "# create list of team abbreviations for url requests\n",
    "teams = ['ATL','BOS','NJN','CHA','CHI','CLE','DAL','DEN','DET','GSW','HOU','IND','LAC','LAL','MEM','MIA','MIL','MIN','NOH',\n",
    "         'NYK','OKC','ORL','PHI','PHO','POR','SAC','SAS','TOR','UTA','WAS']"
   ]
  },
  {
   "cell_type": "code",
   "execution_count": 3,
   "metadata": {},
   "outputs": [],
   "source": [
    "# create dictionary of page response requests for each team using team list abbreviations\n",
    "page_list = {}\n",
    "for i, team in enumerate(teams):\n",
    "    url = \"https://www.basketball-reference.com/teams/{}/stats_basic_totals.html\".format(team)\n",
    "    page_list[team] = requests.get(url)\n",
    "    time.sleep(15)"
   ]
  },
  {
   "cell_type": "code",
   "execution_count": 4,
   "metadata": {
    "scrolled": true
   },
   "outputs": [],
   "source": [
    "# create list to append soup object texts from scrape\n",
    "soup_list = []\n",
    "for i, item in enumerate(teams):\n",
    "    soup_list.append(BeautifulSoup(page_list[item].text, \"html.parser\"))"
   ]
  },
  {
   "cell_type": "code",
   "execution_count": 5,
   "metadata": {},
   "outputs": [],
   "source": [
    "# create list of headers for data frame\n",
    "headers = [th.get_text() for th in soup_list[0].find_all('tr')[0].find_all('th')]"
   ]
  },
  {
   "cell_type": "code",
   "execution_count": 6,
   "metadata": {},
   "outputs": [],
   "source": [
    "# create list of row elements searching for 'tr' (table row) tag in each NBA team text data\n",
    "row_values = []\n",
    "for i, item in enumerate(soup_list):\n",
    "    row_values.append(soup_list[i].find_all('tr'))"
   ]
  },
  {
   "cell_type": "code",
   "execution_count": 7,
   "metadata": {},
   "outputs": [],
   "source": [
    "# create list of season elements in each NBA team searching for all 'th' (table header) tag\n",
    "season_values = []\n",
    "for i, item in enumerate(row_values):\n",
    "    for e, item2 in enumerate(row_values[i]):\n",
    "        season_values.append(row_values[i][e].find_all('th'))"
   ]
  },
  {
   "cell_type": "code",
   "execution_count": 8,
   "metadata": {
    "scrolled": true
   },
   "outputs": [],
   "source": [
    "# create list of season elements extracting text from previous tag in season_values variable\n",
    "season_nums = []\n",
    "for i, item in enumerate(season_values):\n",
    "    season_nums.append([(season_values[i][0].get_text())])"
   ]
  },
  {
   "cell_type": "code",
   "execution_count": 9,
   "metadata": {},
   "outputs": [],
   "source": [
    "# create list of stats elements in each NBA team searching for all 'td' (table data) tag\n",
    "stats_value = []\n",
    "for i, item in enumerate(row_values):\n",
    "    for e, item2 in enumerate(row_values[i]):\n",
    "        stats_value.append(row_values[i][e].find_all('td'))"
   ]
  },
  {
   "cell_type": "code",
   "execution_count": 10,
   "metadata": {},
   "outputs": [],
   "source": [
    "# create new list of stats for each year of the NBA teams\n",
    "data_list = []\n",
    "for item in stats_value:\n",
    "    stats_nums = []\n",
    "    for e in range(len(item)):\n",
    "        stats_nums.append(item[e].get_text())\n",
    "\n",
    "    data_list.append(stats_nums)\n",
    "    stats_nums = None"
   ]
  },
  {
   "cell_type": "code",
   "execution_count": 11,
   "metadata": {},
   "outputs": [
    {
     "data": {
      "text/plain": [
       "1513"
      ]
     },
     "execution_count": 11,
     "metadata": {},
     "output_type": "execute_result"
    }
   ],
   "source": [
    "# create a new list to filter out the blank '[]' elements in the \"data_list\" variable\n",
    "stats_list = list(filter(lambda x : x != [], data_list))\n",
    "print(len(stats_list)) ## to double check length of list"
   ]
  },
  {
   "cell_type": "code",
   "execution_count": 12,
   "metadata": {},
   "outputs": [
    {
     "name": "stdout",
     "output_type": "stream",
     "text": [
      "1513\n"
     ]
    }
   ],
   "source": [
    "# create a new list to filter out ['Season'] elements in the \"season_nums\" variable\n",
    "season_list = list(filter(lambda x : x != ['Season'], season_nums))\n",
    "print(len(season_list)) ## to double check length of list"
   ]
  },
  {
   "cell_type": "code",
   "execution_count": 13,
   "metadata": {},
   "outputs": [
    {
     "name": "stdout",
     "output_type": "stream",
     "text": [
      "34\n"
     ]
    }
   ],
   "source": [
    "# create new data frame list using filtered variables (\"season_list\" and \"stats_list\") for use to create the nba_data_frame\n",
    "data_frame_list = []\n",
    "for i, item in enumerate(season_list):\n",
    "    data_frame_list.append(item)\n",
    "    data_frame_list[i].extend(stats_list[i])\n",
    "\n",
    "print(len(data_frame_list[0])) ## to double check length of list so it fits length of headers"
   ]
  },
  {
   "cell_type": "markdown",
   "metadata": {},
   "source": [
    "Results of script to retrieve data; convert to data frame using Pandas"
   ]
  },
  {
   "cell_type": "code",
   "execution_count": 14,
   "metadata": {},
   "outputs": [],
   "source": [
    "# create nba data data frame\n",
    "nba_data_frame = pd.DataFrame(data_frame_list, columns = (headers))"
   ]
  },
  {
   "cell_type": "code",
   "execution_count": 15,
   "metadata": {
    "scrolled": true
   },
   "outputs": [
    {
     "data": {
      "text/plain": [
       "1513"
      ]
     },
     "execution_count": 15,
     "metadata": {},
     "output_type": "execute_result"
    }
   ],
   "source": [
    "# check length of data frame to see how many rows of data there is \n",
    "print(len(nba_data_frame.index))"
   ]
  },
  {
   "cell_type": "code",
   "execution_count": 16,
   "metadata": {
    "scrolled": false
   },
   "outputs": [
    {
     "name": "stdout",
     "output_type": "stream",
     "text": [
      "(1513, 34)\n"
     ]
    }
   ],
   "source": [
    "# check shape of data to see dimensions\n",
    "print(nba_data_frame.shape)"
   ]
  },
  {
   "cell_type": "code",
   "execution_count": 17,
   "metadata": {
    "scrolled": true
   },
   "outputs": [
    {
     "name": "stdout",
     "output_type": "stream",
     "text": [
      "    Season   Lg   Tm   W   L Finish     Age  Ht.  Wt.  ...    FT%  ORB   DRB  \\\n",
      "0  2018-19  NBA  ATL  29  53      5    25.1  6-7  215  ...   .752  955  2825   \n",
      "1  2017-18  NBA  ATL  24  58      5    25.4  6-6  212  ...   .785  743  2693   \n",
      "2  2016-17  NBA  ATL  43  39      2    27.9  6-6  219  ...   .728  842  2793   \n",
      "3  2015-16  NBA  ATL  48  34      2    28.2  6-6  217  ...   .783  679  2772   \n",
      "4  2014-15  NBA  ATL  60  22      1    27.8  6-6  218  ...   .778  715  2611   \n",
      "\n",
      "    TRB   AST  STL  BLK   TOV    PF   PTS  \n",
      "0  3780  2118  675  419  1397  1932  9294  \n",
      "1  3436  1946  638  348  1276  1606  8475  \n",
      "2  3635  1938  672  397  1294  1491  8459  \n",
      "3  3451  2100  747  486  1226  1570  8433  \n",
      "4  3326  2111  744  380  1167  1457  8409  \n",
      "\n",
      "[5 rows x 34 columns]\n"
     ]
    }
   ],
   "source": [
    "# see results of data frame\n",
    "print(nba_data_frame.head())"
   ]
  },
  {
   "cell_type": "markdown",
   "metadata": {},
   "source": [
    "Convert data frame to csv file"
   ]
  },
  {
   "cell_type": "code",
   "execution_count": 18,
   "metadata": {},
   "outputs": [],
   "source": [
    "# convert temporary nba_data_frame to csv file\n",
    "nba_data_frame.to_csv(\"basketball_ref_data.csv\")"
   ]
  },
  {
   "cell_type": "markdown",
   "metadata": {},
   "source": [
    "Clean data for interpretability and relevant data"
   ]
  },
  {
   "cell_type": "code",
   "execution_count": 19,
   "metadata": {},
   "outputs": [],
   "source": [
    "# read in temporary data frame\n",
    "nba_df = pd.read_csv(\"basketball_ref_data.csv\")"
   ]
  },
  {
   "cell_type": "code",
   "execution_count": 20,
   "metadata": {},
   "outputs": [
    {
     "data": {
      "text/plain": [
       "array(['Season', 'Tm', 'W', 'L', 'Finish', 'Age', 'FG', 'FGA', 'FG%',\n",
       "       '3P', '3PA', '3P%', '2P', '2PA', '2P%', 'FT', 'FTA', 'FT%', 'ORB',\n",
       "       'DRB', 'TRB', 'AST', 'STL', 'BLK', 'TOV', 'PTS'], dtype=object)"
      ]
     },
     "execution_count": 20,
     "metadata": {},
     "output_type": "execute_result"
    }
   ],
   "source": [
    "# drop irrelevant columns \n",
    "nba_df.drop(['Unnamed: 0', 'Lg', '\\xa0', '\\xa0.1', 'Ht.', 'Wt.', 'G', 'MP', 'PF'], axis = 1, inplace = True)\n",
    "\n",
    "# read new columns\n",
    "print(nba_df.columns.values)"
   ]
  },
  {
   "cell_type": "code",
   "execution_count": 21,
   "metadata": {},
   "outputs": [],
   "source": [
    "# deep copy original data frame to a new data frame; one for all teams and one for GSW\n",
    "all_teams_df = nba_df[nba_df['Season'] >= '2014-15'].copy(deep = True)\n",
    "gsw_df = nba_df[(nba_df['Season'] >= '2014-15') & (nba_df['Tm'] == 'GSW')].copy(deep = True)"
   ]
  },
  {
   "cell_type": "code",
   "execution_count": 22,
   "metadata": {},
   "outputs": [],
   "source": [
    "# reset index to start at 0...n\n",
    "all_teams_df.index = range(len(all_teams_df.index))\n",
    "gsw_df.index = range(len(gsw_df.index))"
   ]
  },
  {
   "cell_type": "code",
   "execution_count": 23,
   "metadata": {
    "scrolled": true
   },
   "outputs": [
    {
     "name": "stdout",
     "output_type": "stream",
     "text": [
      "Season     object\n",
      "Tm         object\n",
      "W           int64\n",
      "L           int64\n",
      "Finish      int64\n",
      "Age       float64\n",
      "FG          int64\n",
      "FGA         int64\n",
      "FG%       float64\n",
      "3P        float64\n",
      "3PA       float64\n",
      "3P%       float64\n",
      "2P          int64\n",
      "2PA         int64\n",
      "2P%       float64\n",
      "FT          int64\n",
      "FTA         int64\n",
      "FT%       float64\n",
      "ORB       float64\n",
      "DRB       float64\n",
      "TRB       float64\n",
      "AST         int64\n",
      "STL       float64\n",
      "BLK       float64\n",
      "TOV       float64\n",
      "PTS         int64\n",
      "dtype: object\n"
     ]
    }
   ],
   "source": [
    "# checking data types to make sure they're in the correct format\n",
    "print(gsw_df.dtypes)"
   ]
  },
  {
   "cell_type": "code",
   "execution_count": 24,
   "metadata": {},
   "outputs": [],
   "source": [
    "# noted above the \"Season\" variable is an object type; adjust season column to have one year\n",
    "team_adj_seasons = []\n",
    "gsw_adj_seasons = []\n",
    "\n",
    "team_adj_seasons = all_teams_df.Season.apply(lambda year: year[:2] + year[5:])\n",
    "gsw_adj_seasons = gsw_df.Season.apply(lambda year: year[:2] + year[5:])\n",
    "        \n",
    "all_teams_df['Season'] = team_adj_seasons\n",
    "gsw_df['Season'] = gsw_adj_seasons"
   ]
  },
  {
   "cell_type": "code",
   "execution_count": 25,
   "metadata": {},
   "outputs": [],
   "source": [
    "# convert season to a numeric\n",
    "all_teams_df['Season'] = pd.to_numeric(all_teams_df['Season'])\n",
    "gsw_df['Season'] = pd.to_numeric(gsw_df['Season'])"
   ]
  },
  {
   "cell_type": "code",
   "execution_count": 26,
   "metadata": {
    "scrolled": true
   },
   "outputs": [
    {
     "name": "stdout",
     "output_type": "stream",
     "text": [
      "Season      int64\n",
      "Tm         object\n",
      "W           int64\n",
      "L           int64\n",
      "Finish      int64\n",
      "Age       float64\n",
      "FG          int64\n",
      "FGA         int64\n",
      "FG%       float64\n",
      "3P        float64\n",
      "3PA       float64\n",
      "3P%       float64\n",
      "2P          int64\n",
      "2PA         int64\n",
      "2P%       float64\n",
      "FT          int64\n",
      "FTA         int64\n",
      "FT%       float64\n",
      "ORB       float64\n",
      "DRB       float64\n",
      "TRB       float64\n",
      "AST         int64\n",
      "STL       float64\n",
      "BLK       float64\n",
      "TOV       float64\n",
      "PTS         int64\n",
      "dtype: object\n"
     ]
    }
   ],
   "source": [
    "# recheck data types to make sure \"Season\" variable is now numeric\n",
    "print(gsw_df.dtypes)"
   ]
  },
  {
   "cell_type": "markdown",
   "metadata": {},
   "source": [
    "Convert and save data frames with relevant data for analysis"
   ]
  },
  {
   "cell_type": "code",
   "execution_count": 27,
   "metadata": {},
   "outputs": [],
   "source": [
    "# convert new data frames to csv for analysis\n",
    "all_teams_df.to_csv(\"all_teams_df.csv\")\n",
    "gsw_df.to_csv(\"gsw_df.csv\")"
   ]
  }
 ],
 "metadata": {
  "kernelspec": {
   "display_name": "Python 3",
   "language": "python",
   "name": "python3"
  },
  "language_info": {
   "codemirror_mode": {
    "name": "ipython",
    "version": 3
   },
   "file_extension": ".py",
   "mimetype": "text/x-python",
   "name": "python",
   "nbconvert_exporter": "python",
   "pygments_lexer": "ipython3",
   "version": "3.7.1"
  }
 },
 "nbformat": 4,
 "nbformat_minor": 2
}
