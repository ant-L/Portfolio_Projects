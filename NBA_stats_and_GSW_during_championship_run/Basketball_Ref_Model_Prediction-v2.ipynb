{
 "cells": [
  {
   "cell_type": "markdown",
   "metadata": {},
   "source": [
    "## NBA Statistics During Golden State Warriors (GSW) Championship Run Project - Model Prediction"
   ]
  },
  {
   "cell_type": "markdown",
   "metadata": {},
   "source": [
    "### Introduction:"
   ]
  },
  {
   "cell_type": "markdown",
   "metadata": {},
   "source": [
    "This section of the project utilizes the findings from the exploratory analysis section of the project to build a predictive model. The model will attempt to predict season performance (measured in wins) of NBA teams and thereby determine whether a team is able to make it into the playoffs.\n",
    "\n",
    "Imported libraries are Pandas, Numpy, Matplotlib, Seaborn, Scikit-Learn, Statsmodels along with select associated modules; in addition, the copy and plotting modules, and imgkit wrapper have been imported."
   ]
  },
  {
   "cell_type": "code",
   "execution_count": 1,
   "metadata": {},
   "outputs": [],
   "source": [
    "# Import libraries to perform split on data and linear regression model fitting\n",
    "import pandas as pd # library for data manipulation and analysis\n",
    "import numpy as np # library adding support for large arrays and matrices, including mathematical functions\n",
    "import matplotlib.pyplot as plt # library for general plotting of data\n",
    "import matplotlib.patches as mpatches # module to manipulate legend in graphs\n",
    "%matplotlib inline\n",
    "import seaborn as sns # data visualization library based on matplotlib; addtional features for attractive visualizations\n",
    "import copy # module for deep copy as needed\n",
    "from pandas.plotting import table as tb # module for plotting table\n",
    "\n",
    "# Machine learning algorithms and stats libraries \n",
    "from sklearn.model_selection import train_test_split # module to split data into train & test sets\n",
    "from sklearn.linear_model import LinearRegression # module to perform LinearRegression model fitting on data\n",
    "from sklearn.preprocessing import StandardScaler # module to perform preprocessing of data; scale data\n",
    "from sklearn import metrics # module to perform calculations for metrics of model\n",
    "import statsmodels.api as sm # stats library tool\n",
    "import statsmodels.formula.api as smf # module with R-style formulas"
   ]
  },
  {
   "cell_type": "code",
   "execution_count": 2,
   "metadata": {},
   "outputs": [],
   "source": [
    "# read in csv file to view data in pandas\n",
    "all_teams_df = pd.read_csv(\"all_teams_df_stats.csv\")"
   ]
  },
  {
   "cell_type": "code",
   "execution_count": 3,
   "metadata": {
    "scrolled": true
   },
   "outputs": [
    {
     "name": "stdout",
     "output_type": "stream",
     "text": [
      "Season     False\n",
      "Tm         False\n",
      "W          False\n",
      "Age        False\n",
      "3P         False\n",
      "3P%        False\n",
      "DRB        False\n",
      "AST        False\n",
      "BLK        False\n",
      "AstTOVr    False\n",
      "TS%        False\n",
      "dtype: bool\n"
     ]
    }
   ],
   "source": [
    "# double check if any data is null\n",
    "print(all_teams_df.isnull().any())"
   ]
  },
  {
   "cell_type": "code",
   "execution_count": 4,
   "metadata": {},
   "outputs": [
    {
     "data": {
      "text/html": [
       "<div>\n",
       "<style scoped>\n",
       "    .dataframe tbody tr th:only-of-type {\n",
       "        vertical-align: middle;\n",
       "    }\n",
       "\n",
       "    .dataframe tbody tr th {\n",
       "        vertical-align: top;\n",
       "    }\n",
       "\n",
       "    .dataframe thead th {\n",
       "        text-align: right;\n",
       "    }\n",
       "</style>\n",
       "<table border=\"1\" class=\"dataframe\">\n",
       "  <thead>\n",
       "    <tr style=\"text-align: right;\">\n",
       "      <th></th>\n",
       "      <th>Season</th>\n",
       "      <th>Tm</th>\n",
       "      <th>W</th>\n",
       "      <th>Age</th>\n",
       "      <th>3P</th>\n",
       "      <th>3P%</th>\n",
       "      <th>DRB</th>\n",
       "      <th>AST</th>\n",
       "      <th>BLK</th>\n",
       "      <th>AstTOVr</th>\n",
       "      <th>TS%</th>\n",
       "    </tr>\n",
       "  </thead>\n",
       "  <tbody>\n",
       "    <tr>\n",
       "      <th>0</th>\n",
       "      <td>2019</td>\n",
       "      <td>ATL</td>\n",
       "      <td>29</td>\n",
       "      <td>25.1</td>\n",
       "      <td>1067</td>\n",
       "      <td>0.352</td>\n",
       "      <td>2825</td>\n",
       "      <td>2118</td>\n",
       "      <td>419</td>\n",
       "      <td>1.516106</td>\n",
       "      <td>0.555335</td>\n",
       "    </tr>\n",
       "    <tr>\n",
       "      <th>1</th>\n",
       "      <td>2018</td>\n",
       "      <td>ATL</td>\n",
       "      <td>24</td>\n",
       "      <td>25.4</td>\n",
       "      <td>917</td>\n",
       "      <td>0.360</td>\n",
       "      <td>2693</td>\n",
       "      <td>1946</td>\n",
       "      <td>348</td>\n",
       "      <td>1.525078</td>\n",
       "      <td>0.547285</td>\n",
       "    </tr>\n",
       "    <tr>\n",
       "      <th>2</th>\n",
       "      <td>2017</td>\n",
       "      <td>ATL</td>\n",
       "      <td>43</td>\n",
       "      <td>27.9</td>\n",
       "      <td>729</td>\n",
       "      <td>0.341</td>\n",
       "      <td>2793</td>\n",
       "      <td>1938</td>\n",
       "      <td>397</td>\n",
       "      <td>1.497682</td>\n",
       "      <td>0.541192</td>\n",
       "    </tr>\n",
       "    <tr>\n",
       "      <th>3</th>\n",
       "      <td>2016</td>\n",
       "      <td>ATL</td>\n",
       "      <td>48</td>\n",
       "      <td>28.2</td>\n",
       "      <td>815</td>\n",
       "      <td>0.350</td>\n",
       "      <td>2772</td>\n",
       "      <td>2100</td>\n",
       "      <td>486</td>\n",
       "      <td>1.712887</td>\n",
       "      <td>0.551629</td>\n",
       "    </tr>\n",
       "    <tr>\n",
       "      <th>4</th>\n",
       "      <td>2015</td>\n",
       "      <td>ATL</td>\n",
       "      <td>60</td>\n",
       "      <td>27.8</td>\n",
       "      <td>818</td>\n",
       "      <td>0.380</td>\n",
       "      <td>2611</td>\n",
       "      <td>2111</td>\n",
       "      <td>380</td>\n",
       "      <td>1.808912</td>\n",
       "      <td>0.563425</td>\n",
       "    </tr>\n",
       "    <tr>\n",
       "      <th>5</th>\n",
       "      <td>2019</td>\n",
       "      <td>BOS</td>\n",
       "      <td>49</td>\n",
       "      <td>25.7</td>\n",
       "      <td>1032</td>\n",
       "      <td>0.365</td>\n",
       "      <td>2849</td>\n",
       "      <td>2155</td>\n",
       "      <td>435</td>\n",
       "      <td>2.048479</td>\n",
       "      <td>0.567060</td>\n",
       "    </tr>\n",
       "    <tr>\n",
       "      <th>6</th>\n",
       "      <td>2018</td>\n",
       "      <td>BOS</td>\n",
       "      <td>55</td>\n",
       "      <td>24.7</td>\n",
       "      <td>939</td>\n",
       "      <td>0.377</td>\n",
       "      <td>2878</td>\n",
       "      <td>1842</td>\n",
       "      <td>373</td>\n",
       "      <td>1.603133</td>\n",
       "      <td>0.552276</td>\n",
       "    </tr>\n",
       "    <tr>\n",
       "      <th>7</th>\n",
       "      <td>2017</td>\n",
       "      <td>BOS</td>\n",
       "      <td>53</td>\n",
       "      <td>25.9</td>\n",
       "      <td>985</td>\n",
       "      <td>0.359</td>\n",
       "      <td>2698</td>\n",
       "      <td>2069</td>\n",
       "      <td>340</td>\n",
       "      <td>1.901654</td>\n",
       "      <td>0.566643</td>\n",
       "    </tr>\n",
       "    <tr>\n",
       "      <th>8</th>\n",
       "      <td>2016</td>\n",
       "      <td>BOS</td>\n",
       "      <td>48</td>\n",
       "      <td>25.2</td>\n",
       "      <td>717</td>\n",
       "      <td>0.335</td>\n",
       "      <td>2733</td>\n",
       "      <td>1981</td>\n",
       "      <td>348</td>\n",
       "      <td>1.757764</td>\n",
       "      <td>0.530749</td>\n",
       "    </tr>\n",
       "    <tr>\n",
       "      <th>9</th>\n",
       "      <td>2015</td>\n",
       "      <td>BOS</td>\n",
       "      <td>40</td>\n",
       "      <td>25.0</td>\n",
       "      <td>660</td>\n",
       "      <td>0.327</td>\n",
       "      <td>2685</td>\n",
       "      <td>2009</td>\n",
       "      <td>294</td>\n",
       "      <td>1.773169</td>\n",
       "      <td>0.522812</td>\n",
       "    </tr>\n",
       "  </tbody>\n",
       "</table>\n",
       "</div>"
      ],
      "text/plain": [
       "   Season   Tm   W   Age    3P    3P%   DRB   AST  BLK   AstTOVr       TS%\n",
       "0    2019  ATL  29  25.1  1067  0.352  2825  2118  419  1.516106  0.555335\n",
       "1    2018  ATL  24  25.4   917  0.360  2693  1946  348  1.525078  0.547285\n",
       "2    2017  ATL  43  27.9   729  0.341  2793  1938  397  1.497682  0.541192\n",
       "3    2016  ATL  48  28.2   815  0.350  2772  2100  486  1.712887  0.551629\n",
       "4    2015  ATL  60  27.8   818  0.380  2611  2111  380  1.808912  0.563425\n",
       "5    2019  BOS  49  25.7  1032  0.365  2849  2155  435  2.048479  0.567060\n",
       "6    2018  BOS  55  24.7   939  0.377  2878  1842  373  1.603133  0.552276\n",
       "7    2017  BOS  53  25.9   985  0.359  2698  2069  340  1.901654  0.566643\n",
       "8    2016  BOS  48  25.2   717  0.335  2733  1981  348  1.757764  0.530749\n",
       "9    2015  BOS  40  25.0   660  0.327  2685  2009  294  1.773169  0.522812"
      ]
     },
     "execution_count": 4,
     "metadata": {},
     "output_type": "execute_result"
    }
   ],
   "source": [
    "# view dataframe head\n",
    "all_teams_df.head(10)"
   ]
  },
  {
   "cell_type": "markdown",
   "metadata": {},
   "source": [
    "The statsmodels library doesn't properly interpret features with special characters (e.g. %) and that begin with numerical values &mdash; rename column names 3P, 3P%, TS%."
   ]
  },
  {
   "cell_type": "code",
   "execution_count": 5,
   "metadata": {},
   "outputs": [],
   "source": [
    "# change column names with special characters and that begin with numerical values\n",
    "all_teams_df.rename(columns={'3P':'ThreePT', '3P%':'ThreePCT', 'TS%':'TSpct'}, inplace=True)"
   ]
  },
  {
   "cell_type": "code",
   "execution_count": 6,
   "metadata": {
    "scrolled": true
   },
   "outputs": [
    {
     "name": "stdout",
     "output_type": "stream",
     "text": [
      "Index(['Season', 'Tm', 'W', 'Age', 'ThreePT', 'ThreePCT', 'DRB', 'AST', 'BLK',\n",
      "       'AstTOVr', 'TSpct'],\n",
      "      dtype='object')\n"
     ]
    }
   ],
   "source": [
    "# view columns\n",
    "print(all_teams_df.columns)"
   ]
  },
  {
   "cell_type": "code",
   "execution_count": 7,
   "metadata": {},
   "outputs": [],
   "source": [
    "# create two dataframes seasons < 2019 and seasons == 2019\n",
    "\n",
    "# dataframe to be used to fit model to train/test data\n",
    "model_data = all_teams_df[all_teams_df['Season']<2019].copy(deep=True)\n",
    "\n",
    "# dataframe to be used to see how well model predicts new \"unseen\" data\n",
    "pred_model_data = all_teams_df[all_teams_df['Season']==2019].copy(deep=True)"
   ]
  },
  {
   "cell_type": "markdown",
   "metadata": {},
   "source": [
    "**Using the Scikit-Learn train_test_split algorithm, split the model_data data frame into training and testing sets to analyze feature selection.**"
   ]
  },
  {
   "cell_type": "code",
   "execution_count": 8,
   "metadata": {},
   "outputs": [],
   "source": [
    "# create X matrix & y vector data to split for training and testing\n",
    "X_data = model_data[['Age', 'ThreePT', 'ThreePCT', 'DRB', 'AST', 'BLK', 'AstTOVr', 'TSpct']]\n",
    "y_data = model_data['W']"
   ]
  },
  {
   "cell_type": "code",
   "execution_count": 9,
   "metadata": {},
   "outputs": [],
   "source": [
    "# split data into training and testing sets for X and y values\n",
    "# 70/30 split on data\n",
    "X_train, X_test, y_train, y_test = train_test_split(X_data, y_data, test_size=0.3, random_state=101)"
   ]
  },
  {
   "cell_type": "markdown",
   "metadata": {},
   "source": [
    "Since the statistics have different magnitudes of values, standardize them using StandardScaler."
   ]
  },
  {
   "cell_type": "code",
   "execution_count": 10,
   "metadata": {},
   "outputs": [],
   "source": [
    "# standardize the X train and test sets\n",
    "scaler = StandardScaler()\n",
    "stand_X_train = scaler.fit_transform(X_train.values)\n",
    "stand_X_test = scaler.transform(X_test.values)"
   ]
  },
  {
   "cell_type": "code",
   "execution_count": 11,
   "metadata": {},
   "outputs": [],
   "source": [
    "# convert standardized X_train data array to dataframe\n",
    "train_model_df = pd.DataFrame(stand_X_train, index=X_train.index, columns=['Age', 'ThreePT', 'ThreePCT', 'DRB', 'AST', 'BLK', 'AstTOVr', 'TSpct'])\n",
    "\n",
    "# combine stand_X_train and y_train into one dataframe for feature selection analysis\n",
    "train_model_df.insert(0, 'W', y_train, True)"
   ]
  },
  {
   "cell_type": "code",
   "execution_count": 12,
   "metadata": {
    "scrolled": false
   },
   "outputs": [
    {
     "data": {
      "text/html": [
       "<div>\n",
       "<style scoped>\n",
       "    .dataframe tbody tr th:only-of-type {\n",
       "        vertical-align: middle;\n",
       "    }\n",
       "\n",
       "    .dataframe tbody tr th {\n",
       "        vertical-align: top;\n",
       "    }\n",
       "\n",
       "    .dataframe thead th {\n",
       "        text-align: right;\n",
       "    }\n",
       "</style>\n",
       "<table border=\"1\" class=\"dataframe\">\n",
       "  <thead>\n",
       "    <tr style=\"text-align: right;\">\n",
       "      <th></th>\n",
       "      <th>W</th>\n",
       "      <th>Age</th>\n",
       "      <th>ThreePT</th>\n",
       "      <th>ThreePCT</th>\n",
       "      <th>DRB</th>\n",
       "      <th>AST</th>\n",
       "      <th>BLK</th>\n",
       "      <th>AstTOVr</th>\n",
       "      <th>TSpct</th>\n",
       "    </tr>\n",
       "  </thead>\n",
       "  <tbody>\n",
       "    <tr>\n",
       "      <th>4</th>\n",
       "      <td>60</td>\n",
       "      <td>0.574172</td>\n",
       "      <td>0.471696</td>\n",
       "      <td>1.419029</td>\n",
       "      <td>-1.049407</td>\n",
       "      <td>1.435433</td>\n",
       "      <td>-0.375074</td>\n",
       "      <td>1.204784</td>\n",
       "      <td>0.843416</td>\n",
       "    </tr>\n",
       "    <tr>\n",
       "      <th>53</th>\n",
       "      <td>41</td>\n",
       "      <td>0.574172</td>\n",
       "      <td>0.866080</td>\n",
       "      <td>-0.439926</td>\n",
       "      <td>-1.137338</td>\n",
       "      <td>-0.163211</td>\n",
       "      <td>0.391873</td>\n",
       "      <td>-1.075968</td>\n",
       "      <td>0.302557</td>\n",
       "    </tr>\n",
       "    <tr>\n",
       "      <th>101</th>\n",
       "      <td>48</td>\n",
       "      <td>0.310329</td>\n",
       "      <td>0.885799</td>\n",
       "      <td>-0.045602</td>\n",
       "      <td>-0.521825</td>\n",
       "      <td>-0.554604</td>\n",
       "      <td>0.115772</td>\n",
       "      <td>-0.349168</td>\n",
       "      <td>-0.008067</td>\n",
       "    </tr>\n",
       "    <tr>\n",
       "      <th>118</th>\n",
       "      <td>23</td>\n",
       "      <td>-0.375662</td>\n",
       "      <td>-0.054150</td>\n",
       "      <td>-0.383594</td>\n",
       "      <td>0.023343</td>\n",
       "      <td>-0.824720</td>\n",
       "      <td>-1.402782</td>\n",
       "      <td>-2.101449</td>\n",
       "      <td>-0.997961</td>\n",
       "    </tr>\n",
       "    <tr>\n",
       "      <th>73</th>\n",
       "      <td>42</td>\n",
       "      <td>1.998922</td>\n",
       "      <td>-1.592248</td>\n",
       "      <td>-1.341237</td>\n",
       "      <td>-2.051814</td>\n",
       "      <td>-0.846770</td>\n",
       "      <td>-0.835242</td>\n",
       "      <td>-0.178177</td>\n",
       "      <td>-1.102982</td>\n",
       "    </tr>\n",
       "  </tbody>\n",
       "</table>\n",
       "</div>"
      ],
      "text/plain": [
       "      W       Age   ThreePT  ThreePCT       DRB       AST       BLK   AstTOVr  \\\n",
       "4    60  0.574172  0.471696  1.419029 -1.049407  1.435433 -0.375074  1.204784   \n",
       "53   41  0.574172  0.866080 -0.439926 -1.137338 -0.163211  0.391873 -1.075968   \n",
       "101  48  0.310329  0.885799 -0.045602 -0.521825 -0.554604  0.115772 -0.349168   \n",
       "118  23 -0.375662 -0.054150 -0.383594  0.023343 -0.824720 -1.402782 -2.101449   \n",
       "73   42  1.998922 -1.592248 -1.341237 -2.051814 -0.846770 -0.835242 -0.178177   \n",
       "\n",
       "        TSpct  \n",
       "4    0.843416  \n",
       "53   0.302557  \n",
       "101 -0.008067  \n",
       "118 -0.997961  \n",
       "73  -1.102982  "
      ]
     },
     "execution_count": 12,
     "metadata": {},
     "output_type": "execute_result"
    }
   ],
   "source": [
    "# view dataframe head\n",
    "train_model_df.head()"
   ]
  },
  {
   "cell_type": "code",
   "execution_count": 13,
   "metadata": {
    "scrolled": true
   },
   "outputs": [],
   "source": [
    "# convert stand_X_test data array to dataframe; should have same column headings as train_model_df\n",
    "test_model_df = pd.DataFrame(stand_X_test, index=X_test.index, columns=['Age', 'ThreePT', 'ThreePCT', 'DRB', 'AST', 'BLK', 'AstTOVr', 'TSpct'])"
   ]
  },
  {
   "cell_type": "code",
   "execution_count": 14,
   "metadata": {
    "scrolled": true
   },
   "outputs": [
    {
     "data": {
      "text/html": [
       "<div>\n",
       "<style scoped>\n",
       "    .dataframe tbody tr th:only-of-type {\n",
       "        vertical-align: middle;\n",
       "    }\n",
       "\n",
       "    .dataframe tbody tr th {\n",
       "        vertical-align: top;\n",
       "    }\n",
       "\n",
       "    .dataframe thead th {\n",
       "        text-align: right;\n",
       "    }\n",
       "</style>\n",
       "<table border=\"1\" class=\"dataframe\">\n",
       "  <thead>\n",
       "    <tr style=\"text-align: right;\">\n",
       "      <th></th>\n",
       "      <th>Age</th>\n",
       "      <th>ThreePT</th>\n",
       "      <th>ThreePCT</th>\n",
       "      <th>DRB</th>\n",
       "      <th>AST</th>\n",
       "      <th>BLK</th>\n",
       "      <th>AstTOVr</th>\n",
       "      <th>TSpct</th>\n",
       "    </tr>\n",
       "  </thead>\n",
       "  <tbody>\n",
       "    <tr>\n",
       "      <th>17</th>\n",
       "      <td>-0.111819</td>\n",
       "      <td>0.511134</td>\n",
       "      <td>-0.214598</td>\n",
       "      <td>1.078508</td>\n",
       "      <td>0.222668</td>\n",
       "      <td>-0.221684</td>\n",
       "      <td>2.294111</td>\n",
       "      <td>0.035754</td>\n",
       "    </tr>\n",
       "    <tr>\n",
       "      <th>86</th>\n",
       "      <td>0.204792</td>\n",
       "      <td>-0.579995</td>\n",
       "      <td>0.123394</td>\n",
       "      <td>-1.207682</td>\n",
       "      <td>0.057291</td>\n",
       "      <td>-0.911936</td>\n",
       "      <td>1.280569</td>\n",
       "      <td>0.966751</td>\n",
       "    </tr>\n",
       "    <tr>\n",
       "      <th>68</th>\n",
       "      <td>-0.111819</td>\n",
       "      <td>-0.704883</td>\n",
       "      <td>-2.129885</td>\n",
       "      <td>-0.750444</td>\n",
       "      <td>-2.054022</td>\n",
       "      <td>-1.034648</td>\n",
       "      <td>-1.505732</td>\n",
       "      <td>-1.887342</td>\n",
       "    </tr>\n",
       "    <tr>\n",
       "      <th>27</th>\n",
       "      <td>1.312931</td>\n",
       "      <td>2.108390</td>\n",
       "      <td>1.644357</td>\n",
       "      <td>0.797131</td>\n",
       "      <td>0.040754</td>\n",
       "      <td>-1.188037</td>\n",
       "      <td>0.373666</td>\n",
       "      <td>1.650317</td>\n",
       "    </tr>\n",
       "    <tr>\n",
       "      <th>84</th>\n",
       "      <td>-1.114421</td>\n",
       "      <td>-1.322752</td>\n",
       "      <td>0.461386</td>\n",
       "      <td>-1.374750</td>\n",
       "      <td>0.448684</td>\n",
       "      <td>-0.022278</td>\n",
       "      <td>-0.999856</td>\n",
       "      <td>-0.523413</td>\n",
       "    </tr>\n",
       "  </tbody>\n",
       "</table>\n",
       "</div>"
      ],
      "text/plain": [
       "         Age   ThreePT  ThreePCT       DRB       AST       BLK   AstTOVr  \\\n",
       "17 -0.111819  0.511134 -0.214598  1.078508  0.222668 -0.221684  2.294111   \n",
       "86  0.204792 -0.579995  0.123394 -1.207682  0.057291 -0.911936  1.280569   \n",
       "68 -0.111819 -0.704883 -2.129885 -0.750444 -2.054022 -1.034648 -1.505732   \n",
       "27  1.312931  2.108390  1.644357  0.797131  0.040754 -1.188037  0.373666   \n",
       "84 -1.114421 -1.322752  0.461386 -1.374750  0.448684 -0.022278 -0.999856   \n",
       "\n",
       "       TSpct  \n",
       "17  0.035754  \n",
       "86  0.966751  \n",
       "68 -1.887342  \n",
       "27  1.650317  \n",
       "84 -0.523413  "
      ]
     },
     "execution_count": 14,
     "metadata": {},
     "output_type": "execute_result"
    }
   ],
   "source": [
    "# view dataframe head\n",
    "test_model_df.head()"
   ]
  },
  {
   "cell_type": "markdown",
   "metadata": {},
   "source": [
    "**Using the Statsmodels ordinary least squares (OLS) regression algorithm, evaluate which stats show significance &mdash; i.e. the relationship with wins.**"
   ]
  },
  {
   "cell_type": "code",
   "execution_count": 15,
   "metadata": {},
   "outputs": [],
   "source": [
    "# fit OLS regression model to data\n",
    "OLS_lm = smf.ols(formula='W ~ Age + ThreePT + ThreePCT + DRB + AST + BLK + AstTOVr + TSpct', data=train_model_df).fit()"
   ]
  },
  {
   "cell_type": "markdown",
   "metadata": {},
   "source": [
    "Establish functions to return information about the ordinary least squares (OLS) model, which helps analyze the model's performance."
   ]
  },
  {
   "cell_type": "code",
   "execution_count": 16,
   "metadata": {},
   "outputs": [],
   "source": [
    "def get_ols_sum(model, fig_num):\n",
    "    \"\"\"\n",
    "    Create and save a figure of the Ordinary Least Squares (OLS) summary.\n",
    "    \n",
    "    Takes an OLS model and a model number to identify the model's summary table for .png file.\n",
    "    \"\"\"\n",
    "    # save OLS_lm summary as a figure\n",
    "    plt.rc('figure', figsize=(12,7))\n",
    "    plt.text(0.15,0.08, str(model.summary()), {'fontsize':75}, fontproperties='monospace')\n",
    "    plt.axis('off')\n",
    "    plt.tight_layout()\n",
    "\n",
    "    # plt.savefig('OLS_lm'+str(fig_num)+'.png')"
   ]
  },
  {
   "cell_type": "code",
   "execution_count": 17,
   "metadata": {},
   "outputs": [],
   "source": [
    "def get_olm_conf(model, fig_num):\n",
    "    \"\"\"\n",
    "    Create and save a figure of the Ordinary Least Squares (OLS) confidence interval.\n",
    "    \n",
    "    Takes an OLS model and a model number to identify the model's confidence interval table for .png file.\n",
    "    \"\"\"\n",
    "    # save OLS_lm confidence interval as a figure\n",
    "    axt = plt.subplot(frame_on=False)\n",
    "    axt.xaxis.set_visible(False)\n",
    "    axt.yaxis.set_visible(False)\n",
    "    OLS_conf_tb = tb(axt, model.conf_int().round(3), loc='center', bbox=[0,0,1,1])\n",
    "    OLS_conf_tb.auto_set_font_size(False)\n",
    "    OLS_conf_tb.set_fontsize(12)\n",
    "\n",
    "    plt.title('Confidence Interval - OLS_lm'+str(fig_num), loc='center')\n",
    "\n",
    "    # plt.savefig('OLS_lm_conf'+str(fig_num)+'.png')    "
   ]
  },
  {
   "cell_type": "code",
   "execution_count": 18,
   "metadata": {},
   "outputs": [],
   "source": [
    "def get_ols_pval(model, fig_num):\n",
    "    \"\"\"\n",
    "    Create and save a figure of the Ordinary Least Squares (OLS) p-values.\n",
    "    \n",
    "    Takes an OLS model and a model number to identify the model's p-value table for .png file.\n",
    "    \"\"\"\n",
    "    # save OLS_lm p-value as a figure\n",
    "    axp = plt.subplot(frame_on=False)\n",
    "    axp.xaxis.set_visible(False)\n",
    "    axp.yaxis.set_visible(False)\n",
    "    OLS_pval_tb = tb(axp, model.pvalues.round(3), loc='center', bbox=[0.1,0,1,1], colLabels=['p-value'])\n",
    "    OLS_pval_tb.auto_set_font_size(False)\n",
    "    OLS_pval_tb.set_fontsize(12)\n",
    "\n",
    "    # plt.savefig('OLS_lm_pval'+str(fig_num)+'.png')"
   ]
  },
  {
   "cell_type": "code",
   "execution_count": 19,
   "metadata": {},
   "outputs": [],
   "source": [
    "def calc_pred_resid(model, pred_xvals, y_test_vals):\n",
    "    \"\"\"\n",
    "    Calculate and return the Ordinary Least Squares (OLS) model's predicted values and residuals.\n",
    "    \n",
    "    Takes an OLS model, the x-values to predict the results of using the OLS model, and the true outcome y-test values.  \n",
    "    \"\"\"\n",
    "    # generate predicted values using OLS model\n",
    "    pred_val = model.predict(pred_xvals)\n",
    "\n",
    "    # calculate residual (i.e. errors) values between true and predicted values\n",
    "    lm_resid = y_test_vals-pred_val\n",
    "    \n",
    "    return pred_val, lm_resid"
   ]
  },
  {
   "cell_type": "code",
   "execution_count": 20,
   "metadata": {},
   "outputs": [],
   "source": [
    "def calc_sse(resid):\n",
    "    \"\"\"\n",
    "    Calculate and return the Sum of Squared Residuals (SSR) or Sum of Squared Errors (SSE).\n",
    "    \n",
    "    Takes the residual error values of the OLS model.  \n",
    "    \"\"\"\n",
    "    # measures discrepancy between data and model's predicted values; sum of squared errors of regression model\n",
    "    return sum(resid**2)"
   ]
  },
  {
   "cell_type": "code",
   "execution_count": 21,
   "metadata": {},
   "outputs": [],
   "source": [
    "def calc_sst(y_train_vals, y_test_vals):\n",
    "    \"\"\"\n",
    "    Calculate and return the Total Sum of Squares (TSS or SST).\n",
    "    \n",
    "    Takes the true outcome y-train values and y-test values.  \n",
    "    \"\"\"\n",
    "    # measures discrepancy between actual test values and baseline model's predicted values (i.e. mean); sum of squared errors of baseline model\n",
    "    return sum((np.mean(y_train_vals)-y_test_vals)**2)"
   ]
  },
  {
   "cell_type": "code",
   "execution_count": 22,
   "metadata": {},
   "outputs": [],
   "source": [
    "def calc_rsquared(model_sse, model_sst):\n",
    "    \"\"\"\n",
    "    Calculate and return R-squared.\n",
    "    \n",
    "    Takes the Sum of Squared Errors (SSE) and Total Sum of Squares (SST).  \n",
    "    \"\"\"\n",
    "    # calculate R-squared to measure \"goodness of fit\"; how much variance in the response data does the model account for\n",
    "    return 1-(model_sse/model_sst)"
   ]
  },
  {
   "cell_type": "code",
   "execution_count": 23,
   "metadata": {},
   "outputs": [],
   "source": [
    "def calc_rmse(model_sse, y_test_vals):\n",
    "    \"\"\"\n",
    "    Calculate and return Root Mean Squared Error (RMSE).\n",
    "    \n",
    "    Takes the Sum of Squared Errors (SSE) and true outcome y-test values.  \n",
    "    \"\"\"\n",
    "    # calculate Root Mean Squared Error (RMSE) to measure standard deviation of residuals (i.e. prediction errors)\n",
    "    return np.sqrt(model_sse/len(y_test_vals))"
   ]
  },
  {
   "cell_type": "code",
   "execution_count": 24,
   "metadata": {},
   "outputs": [],
   "source": [
    " def get_rsquare_rmse(model, pred_xvals, y_train_vals, y_test_vals):\n",
    "    \"\"\"\n",
    "    Calculate and return R-squared & Root Mean Squared Error (RMSE) directly; \n",
    "    functions as combined calculation for R-squared & RMSE.\n",
    "    \n",
    "    Takes a Ordinary Least Squares (OLS) model, the x-values to predict the results of using the OLS model, \n",
    "    the true outcome y-train and y-test values.  \n",
    "    \"\"\"\n",
    "    # call calc_pred_resid() function to get predicted and residual values\n",
    "    predicted_vals, residual_vals = calc_pred_resid(model, pred_xvals, y_test_vals)\n",
    "    \n",
    "    # call calc_sse() function to get Sum of Squared Errors (SSE)\n",
    "    sse = calc_sse(residual_vals)\n",
    "    \n",
    "    # call calc_sst() function to get Total Sum of Squares (SST)\n",
    "    sst = calc_sst(y_train_vals, y_test_vals)\n",
    "    \n",
    "    # call calc_rsquared() function to get R-squared value\n",
    "    rsquared = calc_rsquared(sse, sst)\n",
    "    \n",
    "    # call calc_rmse() function to get Root Mean Squared Error (RMSE)\n",
    "    rmse = calc_rmse(sse, y_test_vals)\n",
    "    \n",
    "    return rsquared, rmse"
   ]
  },
  {
   "cell_type": "code",
   "execution_count": 25,
   "metadata": {},
   "outputs": [],
   "source": [
    "# function to print the rsquared and rmse values\n",
    "def show_rsquare_rmse(rsquare, rmse):\n",
    "    \"\"\"\n",
    "    Print the R-squared & Root Mean Squared Error (RMSE) values.\n",
    "    \n",
    "    Takes the calculated R-squared and RMSE values.  \n",
    "    \"\"\"\n",
    "    print('R-squared = '+str(rsquare), '\\nRMSE = '+str(rmse))"
   ]
  },
  {
   "cell_type": "markdown",
   "metadata": {},
   "source": [
    "Take a look at the summary of the OLS regression model."
   ]
  },
  {
   "cell_type": "code",
   "execution_count": 26,
   "metadata": {},
   "outputs": [
    {
     "data": {
      "image/png": "[encoded data removed]",
      "text/plain": [
       "<Figure size 864x504 with 1 Axes>"
      ]
     },
     "metadata": {
      "needs_background": "light"
     },
     "output_type": "display_data"
    }
   ],
   "source": [
    "# call get_ols_sum() function to show/save OLS_lm summary as a figure\n",
    "get_ols_sum(OLS_lm, 1)"
   ]
  },
  {
   "cell_type": "markdown",
   "metadata": {},
   "source": [
    "**Hypothesis Test**\n",
    "- **Null Hypothesis:** There is ***no*** relationship between the statistics &mdash; Age, ThreePT, ThreePCT, DRB, AST, BLK, AstTOVr, TSpct &mdash; and Wins.\n",
    "    - &beta;<sub>n</sub> equals zero\n",
    "- **Alternate Hypothesis:** There ***is*** a relationship between the statistics and Wins.\n",
    "    - &beta;<sub>n</sub> *is not* equal to zero"
   ]
  },
  {
   "cell_type": "markdown",
   "metadata": {},
   "source": [
    "**Testing Hypothesis**\n",
    "- **Reject the null hypothesis:**\n",
    "    - There *is* a relationship between the statistics &mdash; Age, ThreePT, ThreePCT, DRB, AST, BLK, AstTOVr, TSpct &mdash; and Wins.\n",
    "    - If the 95% confidence interval ***does not*** include a zero\n",
    "- **Fail to reject the null hypothesis:**\n",
    "    - There is **no** relationship between the statistics\n",
    "    - If the 95% confidence interval ***includes*** a zero"
   ]
  },
  {
   "cell_type": "markdown",
   "metadata": {},
   "source": [
    "Take a look at the 95% confidence interval for each &beta;<sub>1</sub>, &beta;<sub>2</sub>, ... ,&beta;<sub>n</sub> value."
   ]
  },
  {
   "cell_type": "code",
   "execution_count": 27,
   "metadata": {},
   "outputs": [
    {
     "data": {
      "image/png": "[encoded data removed]",
      "text/plain": [
       "<Figure size 864x504 with 1 Axes>"
      ]
     },
     "metadata": {
      "needs_background": "light"
     },
     "output_type": "display_data"
    }
   ],
   "source": [
    "# call get_ols_conf() function to show/save OLS_lm confidence interval as a figure\n",
    "get_olm_conf(OLS_lm, 1)"
   ]
  },
  {
   "cell_type": "markdown",
   "metadata": {},
   "source": [
    "Looking at the confidence interval (above), we can see that Age, ThreePT, ThreePCT, DRB include a zero in their respective confidence interval."
   ]
  },
  {
   "cell_type": "markdown",
   "metadata": {},
   "source": [
    "**Take a look at the p-value**\n",
    "- p-value < 0.05 are significant\n",
    "    - Reject the null\n",
    "    - There ***is*** a relationship\n",
    "- p-value > 0.05 are not significant\n",
    "    - Fail to reject the null\n",
    "    - There is ***no*** relationship"
   ]
  },
  {
   "cell_type": "code",
   "execution_count": 28,
   "metadata": {
    "scrolled": true
   },
   "outputs": [
    {
     "data": {
      "image/png": "[encoded data removed]",
      "text/plain": [
       "<Figure size 864x504 with 1 Axes>"
      ]
     },
     "metadata": {
      "needs_background": "light"
     },
     "output_type": "display_data"
    }
   ],
   "source": [
    "# call get_ols_pval() function to show/save OLS_lm p-value as a figure\n",
    "get_ols_pval(OLS_lm, 1)"
   ]
  },
  {
   "cell_type": "markdown",
   "metadata": {},
   "source": [
    "Looking at the p-value for each statistic (above), we can see that Age, ThreePT, ThreePCT, DRB have a p-value greater than 0.05."
   ]
  },
  {
   "cell_type": "markdown",
   "metadata": {},
   "source": [
    "Based on the information provided by the confidence interval and p-value for each statistic:\n",
    "- Age, ThreePT, ThreePCT, DRB each have a zero in their respective confidence interval\n",
    "- Age, ThreePT, ThreePCT, DRB each have a p-value > 0.05"
   ]
  },
  {
   "cell_type": "markdown",
   "metadata": {},
   "source": [
    "Take a look at how well the model predicts the \"unseen\" out-of-sample test set.\n",
    "- calculate **R-squared (R2)** and **Root Mean Square Error (RMSE)** to evaluate model prediction"
   ]
  },
  {
   "cell_type": "code",
   "execution_count": 29,
   "metadata": {
    "scrolled": false
   },
   "outputs": [
    {
     "name": "stdout",
     "output_type": "stream",
     "text": [
      "R-squared = 0.46014369914588094 \n",
      "RMSE = 7.940265093048131\n"
     ]
    }
   ],
   "source": [
    "# call get_rsquare_rmse() function to get rsquared and rmse\n",
    "OLS_rsquare1, OLS_rmse1 = get_rsquare_rmse(OLS_lm, test_model_df, y_train, y_test)\n",
    "\n",
    "# call show_rsquare_rmse() function to show values\n",
    "show_rsquare_rmse(OLS_rsquare1, OLS_rmse1)"
   ]
  },
  {
   "cell_type": "markdown",
   "metadata": {},
   "source": [
    "To see if we can improve on the model, let's refit the model by removing DRB since it has a zero in its confidence interval and the highest p-value, 0.19."
   ]
  },
  {
   "cell_type": "markdown",
   "metadata": {},
   "source": [
    "**Fit second OLS model with removal of DRB from features**"
   ]
  },
  {
   "cell_type": "code",
   "execution_count": 30,
   "metadata": {},
   "outputs": [],
   "source": [
    "# fit second OLS regression model to data; remove DRB from features\n",
    "OLS_lm2 = smf.ols(formula='W ~ Age + ThreePT + ThreePCT + AST + BLK + AstTOVr + TSpct', data=train_model_df).fit()"
   ]
  },
  {
   "cell_type": "code",
   "execution_count": 31,
   "metadata": {
    "scrolled": true
   },
   "outputs": [
    {
     "data": {
      "image/png": "[encoded data removed]",
      "text/plain": [
       "<Figure size 864x504 with 1 Axes>"
      ]
     },
     "metadata": {
      "needs_background": "light"
     },
     "output_type": "display_data"
    }
   ],
   "source": [
    "# call get_ols_sum() function to show/save OLS_lm summary as a figure\n",
    "get_ols_sum(OLS_lm2, 2)"
   ]
  },
  {
   "cell_type": "code",
   "execution_count": 32,
   "metadata": {
    "scrolled": false
   },
   "outputs": [
    {
     "data": {
      "image/png": "[encoded data removed]",
      "text/plain": [
       "<Figure size 864x504 with 1 Axes>"
      ]
     },
     "metadata": {
      "needs_background": "light"
     },
     "output_type": "display_data"
    }
   ],
   "source": [
    "# call get_ols_conf() function to show/save OLS_lm confidence interval as a figure\n",
    "get_olm_conf(OLS_lm2, 2)"
   ]
  },
  {
   "cell_type": "code",
   "execution_count": 33,
   "metadata": {
    "scrolled": false
   },
   "outputs": [
    {
     "data": {
      "image/png": "[encoded data removed]",
      "text/plain": [
       "<Figure size 864x504 with 1 Axes>"
      ]
     },
     "metadata": {
      "needs_background": "light"
     },
     "output_type": "display_data"
    }
   ],
   "source": [
    "# call get_ols_pval() function to show/save OLS_lm p-value as a figure\n",
    "get_ols_pval(OLS_lm2, 2)"
   ]
  },
  {
   "cell_type": "markdown",
   "metadata": {},
   "source": [
    "Taking a look at the summary, confidence interval, p-value of the second OLS model, we can see the following:\n",
    "\n",
    "**Confidence interval:**\n",
    "- Age, ThreePT, ThreePCT have a confidence interval which includes a zero\n",
    "\n",
    "**p-value:**\n",
    "- Age, ThreePT, ThreePCT have a p-value > 0.05"
   ]
  },
  {
   "cell_type": "markdown",
   "metadata": {},
   "source": [
    "Take a look at how well the second model predicts the \"unseen\" out-of-sample test set.\n",
    "- calculate **R-squared (R2)** and **Root Mean Square Error (RMSE)** to evaluate model prediction"
   ]
  },
  {
   "cell_type": "code",
   "execution_count": 34,
   "metadata": {},
   "outputs": [
    {
     "name": "stdout",
     "output_type": "stream",
     "text": [
      "R-squared = 0.41237662144857257 \n",
      "RMSE = 8.284102191242106\n"
     ]
    }
   ],
   "source": [
    "# call get_rsquare_rmse() function to get rsquared and rmse\n",
    "OLS_rsquare2, OLS_rmse2 = get_rsquare_rmse(OLS_lm2, test_model_df, y_train, y_test)\n",
    "\n",
    "# call show_rsquare_rmse() function to show values\n",
    "show_rsquare_rmse(OLS_rsquare2, OLS_rmse2)"
   ]
  },
  {
   "cell_type": "markdown",
   "metadata": {},
   "source": [
    "To see if we can improve on the model, let's refit the model by removing ThreePT since it has a zero in its confidence interval and the highest p-value, 0.218."
   ]
  },
  {
   "cell_type": "markdown",
   "metadata": {},
   "source": [
    "**Fit third OLS model with removal of ThreePT from features**"
   ]
  },
  {
   "cell_type": "code",
   "execution_count": 35,
   "metadata": {},
   "outputs": [],
   "source": [
    "# fit third OLS regression model to data; remove ThreePT from features\n",
    "OLS_lm3 = smf.ols(formula='W ~ Age + ThreePCT + AST + BLK + AstTOVr + TSpct', data=train_model_df).fit()"
   ]
  },
  {
   "cell_type": "code",
   "execution_count": 36,
   "metadata": {
    "scrolled": true
   },
   "outputs": [
    {
     "data": {
      "image/png": "[encoded data removed]",
      "text/plain": [
       "<Figure size 864x504 with 1 Axes>"
      ]
     },
     "metadata": {
      "needs_background": "light"
     },
     "output_type": "display_data"
    }
   ],
   "source": [
    "# call get_ols_sum() function to show/save OLS_lm summary as a figure\n",
    "get_ols_sum(OLS_lm3, 3)"
   ]
  },
  {
   "cell_type": "code",
   "execution_count": 37,
   "metadata": {},
   "outputs": [
    {
     "data": {
      "image/png": "[encoded data removed]",
      "text/plain": [
       "<Figure size 864x504 with 1 Axes>"
      ]
     },
     "metadata": {
      "needs_background": "light"
     },
     "output_type": "display_data"
    }
   ],
   "source": [
    "# call get_ols_conf() function to show/save OLS_lm confidence interval as a figure\n",
    "get_olm_conf(OLS_lm3, 3)"
   ]
  },
  {
   "cell_type": "code",
   "execution_count": 38,
   "metadata": {
    "scrolled": true
   },
   "outputs": [
    {
     "data": {
      "image/png": "[encoded data removed]",
      "text/plain": [
       "<Figure size 864x504 with 1 Axes>"
      ]
     },
     "metadata": {
      "needs_background": "light"
     },
     "output_type": "display_data"
    }
   ],
   "source": [
    "# call get_ols_pval() function to show/save OLS_lm p-value as a figure\n",
    "get_ols_pval(OLS_lm3, 3)"
   ]
  },
  {
   "cell_type": "markdown",
   "metadata": {},
   "source": [
    "Taking a look at the summary, confidence interval, p-value of the third OLS model, we can see the following:\n",
    "\n",
    "**Confidence interval:**\n",
    "- ThreePCT has a confidence interval which includes a zero\n",
    "\n",
    "**p-value:**\n",
    "- ThreePCT has a p-value > 0.05 "
   ]
  },
  {
   "cell_type": "markdown",
   "metadata": {},
   "source": [
    "Take a look at how well the third model predicts the \"unseen\" out-of-sample test set.\n",
    "- calculate **R-squared (R2)** and **Root Mean Square Error (RMSE)** to evaluate model prediction"
   ]
  },
  {
   "cell_type": "code",
   "execution_count": 39,
   "metadata": {},
   "outputs": [
    {
     "name": "stdout",
     "output_type": "stream",
     "text": [
      "R-squared = 0.4373785151125198 \n",
      "RMSE = 8.10595280836828\n"
     ]
    }
   ],
   "source": [
    "# call get_rsquare_rmse() function to get rsquared and rmse\n",
    "OLS_rsquare3, OLS_rmse3 = get_rsquare_rmse(OLS_lm3, test_model_df, y_train, y_test)\n",
    "\n",
    "# call show_rsquare_rmse() function to show values\n",
    "show_rsquare_rmse(OLS_rsquare3, OLS_rmse3)"
   ]
  },
  {
   "cell_type": "markdown",
   "metadata": {},
   "source": [
    "To see if we can improve on the model, let's refit the model by removing ThreePCT since it has a zero in its confidence interval and the highest p-value, 0.121."
   ]
  },
  {
   "cell_type": "markdown",
   "metadata": {},
   "source": [
    "**Fit fourth OLS model with removal of ThreePCT from features**"
   ]
  },
  {
   "cell_type": "code",
   "execution_count": 40,
   "metadata": {},
   "outputs": [],
   "source": [
    "# fit third OLS regression model to data; remove AST from features\n",
    "OLS_lm4 = smf.ols(formula='W ~ Age + AST + BLK + AstTOVr + TSpct', data=train_model_df).fit()"
   ]
  },
  {
   "cell_type": "code",
   "execution_count": 41,
   "metadata": {
    "scrolled": true
   },
   "outputs": [
    {
     "data": {
      "image/png": "[encoded data removed]",
      "text/plain": [
       "<Figure size 864x504 with 1 Axes>"
      ]
     },
     "metadata": {
      "needs_background": "light"
     },
     "output_type": "display_data"
    }
   ],
   "source": [
    "# call get_ols_sum() function to show/save OLS_lm summary as a figure\n",
    "get_ols_sum(OLS_lm4, 4)"
   ]
  },
  {
   "cell_type": "code",
   "execution_count": 42,
   "metadata": {
    "scrolled": false
   },
   "outputs": [
    {
     "data": {
      "image/png": "[encoded data removed]",
      "text/plain": [
       "<Figure size 864x504 with 1 Axes>"
      ]
     },
     "metadata": {
      "needs_background": "light"
     },
     "output_type": "display_data"
    }
   ],
   "source": [
    "# call get_ols_conf() function to show/save OLS_lm confidence interval as a figure\n",
    "get_olm_conf(OLS_lm4, 4)"
   ]
  },
  {
   "cell_type": "code",
   "execution_count": 43,
   "metadata": {},
   "outputs": [
    {
     "data": {
      "image/png": "[encoded data removed]",
      "text/plain": [
       "<Figure size 864x504 with 1 Axes>"
      ]
     },
     "metadata": {
      "needs_background": "light"
     },
     "output_type": "display_data"
    }
   ],
   "source": [
    "# call get_ols_pval() function to show/save OLS_lm p-value as a figure\n",
    "get_ols_pval(OLS_lm4, 4)"
   ]
  },
  {
   "cell_type": "markdown",
   "metadata": {},
   "source": [
    "Taking a look at the summary, confidence interval, p-value of the fourth OLS model, we can see the following:\n",
    "\n",
    "**Confidence interval:**\n",
    "- The remaining features &mdash; Age, AST, BLK, AstTOVr, TSpct &mdash; ***do not*** have a zero\n",
    "\n",
    "**p-value:**\n",
    "- The remaining features &mdash; Age, AST, BLK, AstTOVr, TSpct &mdash; have a p-value < 0.05\n",
    "\n",
    "Interpreting the results from the fourth OLS model, we can ***reject the null hypothesis***; based on the information from the confidence interval and p-value, we can believe that there is a relationship between these statistics &mdash; Age, AST, BLK, AstTOVr, TSpct &mdash; and Wins."
   ]
  },
  {
   "cell_type": "markdown",
   "metadata": {},
   "source": [
    "Take a look at how well the fourth model predicts the \"unseen\" out-of-sample test set.\n",
    "- calculate **R-squared (R2)** and **Root Mean Square Error (RMSE)** to evaluate model prediction"
   ]
  },
  {
   "cell_type": "code",
   "execution_count": 44,
   "metadata": {},
   "outputs": [
    {
     "name": "stdout",
     "output_type": "stream",
     "text": [
      "R-squared = 0.44973877552207664 \n",
      "RMSE = 8.016418282740473\n"
     ]
    }
   ],
   "source": [
    "# call get_rsquare_rmse() function to get rsquared and rmse\n",
    "OLS_rsquare4, OLS_rmse4 = get_rsquare_rmse(OLS_lm4, test_model_df, y_train, y_test)\n",
    "\n",
    "# call show_rsquare_rmse() function to show values\n",
    "show_rsquare_rmse(OLS_rsquare4, OLS_rmse4)"
   ]
  },
  {
   "cell_type": "markdown",
   "metadata": {},
   "source": [
    "**Using the Scikit-Learn linear regression algorithm, build a regression model utilizing selected features for 2019 prediction.**"
   ]
  },
  {
   "cell_type": "code",
   "execution_count": 45,
   "metadata": {},
   "outputs": [],
   "source": [
    "# using features selected from the final OLS_model_data dataframe, create X matrix & y vector data to perform sklearn linear regression\n",
    "# features: Age, AST, BLK, AstTOVr, TSpct\n",
    "\n",
    "# X & y for model training\n",
    "X = train_model_df[['Age', 'AST', 'BLK', 'AstTOVr', 'TSpct']]\n",
    "y = train_model_df['W']\n",
    "\n",
    "# X for model testing\n",
    "X_test2 = test_model_df[['Age', 'AST', 'BLK', 'AstTOVr', 'TSpct']]"
   ]
  },
  {
   "cell_type": "code",
   "execution_count": 46,
   "metadata": {},
   "outputs": [
    {
     "data": {
      "text/plain": [
       "LinearRegression(copy_X=True, fit_intercept=True, n_jobs=None,\n",
       "         normalize=False)"
      ]
     },
     "execution_count": 46,
     "metadata": {},
     "output_type": "execute_result"
    }
   ],
   "source": [
    "# create an instance of LinearRegression object & train model\n",
    "lm = LinearRegression()\n",
    "lm.fit(X, y)"
   ]
  },
  {
   "cell_type": "markdown",
   "metadata": {},
   "source": [
    "Below are functions returning information about the Scikit-Learn linear regression model, which helps analyze the model's performance."
   ]
  },
  {
   "cell_type": "code",
   "execution_count": 47,
   "metadata": {},
   "outputs": [],
   "source": [
    "def get_coeff(coeff_table, fig_num):\n",
    "    \"\"\"\n",
    "    Create and save a figure of the Scikit-Learn linear model's coefficients.\n",
    "    \n",
    "    Takes a linear model's coefficient dataframe table and a model number to identify the model's coefficient table for .png file.  \n",
    "    \"\"\"\n",
    "    # save Scikit-Learn lm coefficients as a figure\n",
    "    axcoef = plt.subplot(frame_on=False)\n",
    "    axcoef.xaxis.set_visible(False)\n",
    "    axcoef.yaxis.set_visible(False)\n",
    "    lm_coef_tb = tb(axcoef, coeff_table.round(3), loc='center', bbox=[0,0,1,1], colLabels=['Coefficients'])\n",
    "    lm_coef_tb.auto_set_font_size(False)\n",
    "    lm_coef_tb.set_fontsize(12)\n",
    "\n",
    "    # plt.savefig('Scikit_lm_coeff'+str(fignum)+'.png')"
   ]
  },
  {
   "cell_type": "code",
   "execution_count": 48,
   "metadata": {},
   "outputs": [],
   "source": [
    "def model_predict(model, x_data):\n",
    "    \"\"\"\n",
    "    Run the Scikit-Learn linear model on the x-values to predict y-values.\n",
    "    \n",
    "    Takes a Scikit-Learn linear model and the x-values to predict the results of using the Scikit-Learn linear model.  \n",
    "    \"\"\"\n",
    "    return model.predict(x_data)"
   ]
  },
  {
   "cell_type": "code",
   "execution_count": 49,
   "metadata": {},
   "outputs": [],
   "source": [
    "def calc_sci_rmse(y_test_actual, y_lm_predicted):\n",
    "    \"\"\"\n",
    "    Calculate and return the Scikit-Learn linear model Root Mean Square Error (RMSE).\n",
    "    \n",
    "    Takes the true outcome y-test values and the predicted y-values using the linear model.  \n",
    "    \"\"\"\n",
    "    # measures standard deviation of residuals (i.e. prediction errors)\n",
    "    return np.sqrt(metrics.mean_squared_error(y_test_actual, y_lm_predicted))"
   ]
  },
  {
   "cell_type": "code",
   "execution_count": 50,
   "metadata": {
    "scrolled": true
   },
   "outputs": [],
   "source": [
    "def calc_sci_rsquare(x_test_data, y_test_actual):\n",
    "    \"\"\"\n",
    "    Calculate and return the Scikit-Learn linear model R-squared.\n",
    "    \n",
    "    Takes the x-test values to predict outcomes using linear model and true outcome y-test values.  \n",
    "    \"\"\"\n",
    "    # measures \"goodness of fit\" - how close the data are to the regression line\n",
    "    return lm.score(x_test_data, y_test_actual) # can also use metrics.r2_score(y_test_actual, y_lm_predicted)"
   ]
  },
  {
   "cell_type": "markdown",
   "metadata": {},
   "source": [
    "Take a look at the results of the Scikit-Learn model."
   ]
  },
  {
   "cell_type": "code",
   "execution_count": 51,
   "metadata": {},
   "outputs": [],
   "source": [
    "# create table to view coefficient values\n",
    "coeff_df = pd.DataFrame(data=lm.coef_, index=['Age', 'AST', 'BLK', 'AstTOVr', 'TSpct'], columns=['Coefficient'])"
   ]
  },
  {
   "cell_type": "code",
   "execution_count": 52,
   "metadata": {
    "scrolled": true
   },
   "outputs": [
    {
     "data": {
      "image/png": "[encoded data removed]",
      "text/plain": [
       "<Figure size 864x504 with 1 Axes>"
      ]
     },
     "metadata": {
      "needs_background": "light"
     },
     "output_type": "display_data"
    }
   ],
   "source": [
    "# call get_coeff() function to show/save table\n",
    "get_coeff(coeff_df, 1)"
   ]
  },
  {
   "cell_type": "code",
   "execution_count": 53,
   "metadata": {
    "scrolled": true
   },
   "outputs": [],
   "source": [
    "# generate prediction values\n",
    "y_pred = model_predict(lm, X_test2)"
   ]
  },
  {
   "cell_type": "code",
   "execution_count": 54,
   "metadata": {},
   "outputs": [
    {
     "name": "stdout",
     "output_type": "stream",
     "text": [
      "    Actual  Predicted\n",
      "17      36  52.925331\n",
      "86      47  53.743958\n",
      "68      17  25.945333\n",
      "27      51  55.641300\n",
      "84      41  27.063681\n"
     ]
    }
   ],
   "source": [
    "# create table to view actual vs predicted values\n",
    "actual_v_pred = pd.DataFrame({'Actual':y_test, 'Predicted':y_pred})\n",
    "print(actual_v_pred.head())"
   ]
  },
  {
   "cell_type": "code",
   "execution_count": 55,
   "metadata": {},
   "outputs": [
    {
     "name": "stdout",
     "output_type": "stream",
     "text": [
      "8.016418282740476\n"
     ]
    }
   ],
   "source": [
    "# call calc_sci_rmse() function to get Scikit Learn linear model RMSE value\n",
    "print(calc_sci_rmse(y_test, y_pred))"
   ]
  },
  {
   "cell_type": "markdown",
   "metadata": {},
   "source": [
    "Root Mean Squared Error (RMSE) value is 8.02 (~8); the fitted regression line has an approximate deviation of ~8 wins."
   ]
  },
  {
   "cell_type": "code",
   "execution_count": 56,
   "metadata": {
    "scrolled": true
   },
   "outputs": [
    {
     "name": "stdout",
     "output_type": "stream",
     "text": [
      "0.42721796607605655\n"
     ]
    }
   ],
   "source": [
    "# call calc_sci_rsquare() function to get Scikit Learn linear model R-squared value\n",
    "print(calc_sci_rsquare(X_test2, y_test))"
   ]
  },
  {
   "cell_type": "markdown",
   "metadata": {},
   "source": [
    "R-squared value shows that the fitted regression line accounts for 42.72% of the variance in the response data."
   ]
  },
  {
   "cell_type": "code",
   "execution_count": 57,
   "metadata": {},
   "outputs": [
    {
     "name": "stderr",
     "output_type": "stream",
     "text": [
      "C:\\Users\\aliu4\\Programs\\Anaconda3\\lib\\site-packages\\scipy\\stats\\stats.py:1713: FutureWarning: Using a non-tuple sequence for multidimensional indexing is deprecated; use `arr[tuple(seq)]` instead of `arr[seq]`. In the future this will be interpreted as an array index, `arr[np.array(seq)]`, which will result either in an error or a different result.\n",
      "  return np.add.reduce(sorted[indexer] * weights, axis=axis) / sumval\n"
     ]
    },
    {
     "data": {
      "image/png": "[encoded data removed]",
      "text/plain": [
       "<Figure size 864x504 with 1 Axes>"
      ]
     },
     "metadata": {
      "needs_background": "light"
     },
     "output_type": "display_data"
    }
   ],
   "source": [
    "# visualize actual values vs predicted values; regression line includes a 0.95 confidence interval\n",
    "sns.regplot(y_test.values, y_pred, line_kws={'color':'orange'})\n",
    "plt.xlabel('Actual # Wins')\n",
    "plt.ylabel('Predicted # Wins')\n",
    "plt.title('Actual vs Predicted')\n",
    "\n",
    "plt.show()"
   ]
  },
  {
   "cell_type": "markdown",
   "metadata": {},
   "source": [
    "**Let's see how well the model can predict season performance in the 2019 NBA season.**"
   ]
  },
  {
   "cell_type": "markdown",
   "metadata": {},
   "source": [
    "Organize and prepare the 2019 data similar to how the linear model data was prepared."
   ]
  },
  {
   "cell_type": "code",
   "execution_count": 58,
   "metadata": {},
   "outputs": [],
   "source": [
    "# Create dataframes for 2019 season\n",
    "pred_X_data = pred_model_data[['Age', 'ThreePT', 'ThreePCT', 'DRB', 'AST', 'BLK', 'AstTOVr', 'TSpct']]\n",
    "pred_y_data = pred_model_data['W']"
   ]
  },
  {
   "cell_type": "code",
   "execution_count": 59,
   "metadata": {
    "scrolled": true
   },
   "outputs": [],
   "source": [
    "# standardize 2019 X data for selected model prediction; utilize scale parameters performed on training data\n",
    "stand_X_pred = scaler.transform(pred_X_data.values)"
   ]
  },
  {
   "cell_type": "code",
   "execution_count": 60,
   "metadata": {
    "scrolled": true
   },
   "outputs": [],
   "source": [
    "# convert standardized pred_X_data to dataframe; should have matrix shape same as selected linear model to predict values\n",
    "pred_model_df = pd.DataFrame(stand_X_pred, index=pred_X_data.index, columns=['Age', 'ThreePT', 'ThreePCT', 'DRB', 'AST', 'BLK', 'AstTOVr', 'TSpct'])"
   ]
  },
  {
   "cell_type": "markdown",
   "metadata": {},
   "source": [
    "Predict 2019 season performance with Scikit-Learn linear model features &mdash; Age, AST, BLK, AstTOVr, TSpct."
   ]
  },
  {
   "cell_type": "code",
   "execution_count": 61,
   "metadata": {
    "scrolled": true
   },
   "outputs": [],
   "source": [
    "# create variable holding selected features; Age, AST, BLK, AstTOVr, TSpct\n",
    "pred_X = pred_model_df[['Age', 'AST', 'BLK', 'AstTOVr', 'TSpct']]"
   ]
  },
  {
   "cell_type": "code",
   "execution_count": 62,
   "metadata": {},
   "outputs": [],
   "source": [
    "# generate prediction values\n",
    "lm_pred_val = model_predict(lm, pred_X)"
   ]
  },
  {
   "cell_type": "code",
   "execution_count": 63,
   "metadata": {},
   "outputs": [
    {
     "name": "stdout",
     "output_type": "stream",
     "text": [
      "9.087225144216074\n"
     ]
    }
   ],
   "source": [
    "# call calc_sci_rmse() function to get linear model RMSE value for 2019 data\n",
    "print(calc_sci_rmse(pred_y_data, lm_pred_val))"
   ]
  },
  {
   "cell_type": "markdown",
   "metadata": {},
   "source": [
    "Root Mean Squared Error (RMSE) value is 9.08 (~9); the fitted regression line has an approximate deviation of ~9 wins."
   ]
  },
  {
   "cell_type": "code",
   "execution_count": 64,
   "metadata": {},
   "outputs": [
    {
     "name": "stdout",
     "output_type": "stream",
     "text": [
      "0.4095972772521007\n"
     ]
    }
   ],
   "source": [
    "# call calc_sci_rsquare() function to get linear model R-squared value for 2019 data\n",
    "print(calc_sci_rsquare(pred_X, pred_y_data))"
   ]
  },
  {
   "cell_type": "markdown",
   "metadata": {},
   "source": [
    "R-squared value shows that the fitted regression line accounts for 40.95% of the variance in the response data."
   ]
  },
  {
   "cell_type": "markdown",
   "metadata": {},
   "source": [
    "**Create a graph to visualize 2019 predicted values in comparison to actual**"
   ]
  },
  {
   "cell_type": "markdown",
   "metadata": {},
   "source": [
    "To create the graphs:\n",
    "- Adjust dataframe with standardized values to include Tm, W, Predicted Wins columns\n",
    "- Establish Western and Eastern Conference NBA teams for playoff prediction evaluation"
   ]
  },
  {
   "cell_type": "code",
   "execution_count": 65,
   "metadata": {
    "scrolled": true
   },
   "outputs": [
    {
     "data": {
      "text/html": [
       "<div>\n",
       "<style scoped>\n",
       "    .dataframe tbody tr th:only-of-type {\n",
       "        vertical-align: middle;\n",
       "    }\n",
       "\n",
       "    .dataframe tbody tr th {\n",
       "        vertical-align: top;\n",
       "    }\n",
       "\n",
       "    .dataframe thead th {\n",
       "        text-align: right;\n",
       "    }\n",
       "</style>\n",
       "<table border=\"1\" class=\"dataframe\">\n",
       "  <thead>\n",
       "    <tr style=\"text-align: right;\">\n",
       "      <th></th>\n",
       "      <th>Tm</th>\n",
       "      <th>Actual_W</th>\n",
       "      <th>Predicted_W</th>\n",
       "      <th>Age</th>\n",
       "      <th>ThreePT</th>\n",
       "      <th>ThreePCT</th>\n",
       "      <th>DRB</th>\n",
       "      <th>AST</th>\n",
       "      <th>BLK</th>\n",
       "      <th>AstTOVr</th>\n",
       "      <th>TSpct</th>\n",
       "    </tr>\n",
       "  </thead>\n",
       "  <tbody>\n",
       "    <tr>\n",
       "      <th>0</th>\n",
       "      <td>ATL</td>\n",
       "      <td>29</td>\n",
       "      <td>33.902926</td>\n",
       "      <td>-0.850578</td>\n",
       "      <td>2.108390</td>\n",
       "      <td>-0.158266</td>\n",
       "      <td>0.832303</td>\n",
       "      <td>1.474021</td>\n",
       "      <td>0.223145</td>\n",
       "      <td>-0.401918</td>\n",
       "      <td>0.441099</td>\n",
       "    </tr>\n",
       "    <tr>\n",
       "      <th>5</th>\n",
       "      <td>BOS</td>\n",
       "      <td>49</td>\n",
       "      <td>55.328324</td>\n",
       "      <td>-0.533967</td>\n",
       "      <td>1.878333</td>\n",
       "      <td>0.574049</td>\n",
       "      <td>1.043336</td>\n",
       "      <td>1.677986</td>\n",
       "      <td>0.468568</td>\n",
       "      <td>2.519352</td>\n",
       "      <td>1.024229</td>\n",
       "    </tr>\n",
       "    <tr>\n",
       "      <th>10</th>\n",
       "      <td>BRK</td>\n",
       "      <td>42</td>\n",
       "      <td>37.536973</td>\n",
       "      <td>-0.692273</td>\n",
       "      <td>1.976929</td>\n",
       "      <td>-0.101934</td>\n",
       "      <td>1.658849</td>\n",
       "      <td>0.569960</td>\n",
       "      <td>-1.003970</td>\n",
       "      <td>-0.046343</td>\n",
       "      <td>0.475029</td>\n",
       "    </tr>\n",
       "    <tr>\n",
       "      <th>15</th>\n",
       "      <td>CHO</td>\n",
       "      <td>39</td>\n",
       "      <td>52.624590</td>\n",
       "      <td>-0.059050</td>\n",
       "      <td>1.516814</td>\n",
       "      <td>-0.214598</td>\n",
       "      <td>0.419030</td>\n",
       "      <td>0.299844</td>\n",
       "      <td>0.008400</td>\n",
       "      <td>1.721602</td>\n",
       "      <td>0.374861</td>\n",
       "    </tr>\n",
       "    <tr>\n",
       "      <th>20</th>\n",
       "      <td>CHI</td>\n",
       "      <td>22</td>\n",
       "      <td>34.150517</td>\n",
       "      <td>-1.431032</td>\n",
       "      <td>-0.008138</td>\n",
       "      <td>-0.214598</td>\n",
       "      <td>0.603684</td>\n",
       "      <td>-0.301026</td>\n",
       "      <td>-0.819903</td>\n",
       "      <td>-0.218063</td>\n",
       "      <td>-0.264844</td>\n",
       "    </tr>\n",
       "  </tbody>\n",
       "</table>\n",
       "</div>"
      ],
      "text/plain": [
       "     Tm  Actual_W  Predicted_W       Age   ThreePT  ThreePCT       DRB  \\\n",
       "0   ATL        29    33.902926 -0.850578  2.108390 -0.158266  0.832303   \n",
       "5   BOS        49    55.328324 -0.533967  1.878333  0.574049  1.043336   \n",
       "10  BRK        42    37.536973 -0.692273  1.976929 -0.101934  1.658849   \n",
       "15  CHO        39    52.624590 -0.059050  1.516814 -0.214598  0.419030   \n",
       "20  CHI        22    34.150517 -1.431032 -0.008138 -0.214598  0.603684   \n",
       "\n",
       "         AST       BLK   AstTOVr     TSpct  \n",
       "0   1.474021  0.223145 -0.401918  0.441099  \n",
       "5   1.677986  0.468568  2.519352  1.024229  \n",
       "10  0.569960 -1.003970 -0.046343  0.475029  \n",
       "15  0.299844  0.008400  1.721602  0.374861  \n",
       "20 -0.301026 -0.819903 -0.218063 -0.264844  "
      ]
     },
     "execution_count": 65,
     "metadata": {},
     "output_type": "execute_result"
    }
   ],
   "source": [
    "# Add-in columns for Tm, W, Predicted to dataframe with scaled values\n",
    "pred_model_df.insert(0, 'Tm', pred_model_data['Tm'].values, True)\n",
    "pred_model_df.insert(1, 'Actual_W', pred_y_data, True)\n",
    "pred_model_df.insert(2, 'Predicted_W', lm_pred_val, True)\n",
    "\n",
    "#take a look at dataframe head\n",
    "pred_model_df.head()"
   ]
  },
  {
   "cell_type": "code",
   "execution_count": 66,
   "metadata": {},
   "outputs": [],
   "source": [
    "# create lists for western and eastern conferences \n",
    "west_conf = ['DAL','DEN','GSW','HOU','LAC','LAL','MEM','MIN','NOP','OKC','PHO','POR','SAC','SAS','UTA']\n",
    "east_conf = ['ATL','BOS','BRK','CHO','CHI','CLE', 'DET','IND','MIA','MIL','NYK','ORL','PHI','TOR','WAS']"
   ]
  },
  {
   "cell_type": "markdown",
   "metadata": {},
   "source": [
    "Below are functions to help streamline organizing and sorting of data for graph of model results."
   ]
  },
  {
   "cell_type": "code",
   "execution_count": 67,
   "metadata": {},
   "outputs": [],
   "source": [
    "def conf_list(dataframe, conf):\n",
    "    \"\"\"\n",
    "    Create a list for each conference;\n",
    "    returns a list of elements with the team name, actual win values, and predicted win values.\n",
    "    \n",
    "    Takes a dataframe and a conference name (i.e. west or east).\n",
    "    \"\"\"\n",
    "    team_list = []\n",
    "\n",
    "    for i in conf:\n",
    "        for e, team in enumerate(dataframe['Tm']):\n",
    "            if i == team:\n",
    "                team_list.append([dataframe['Tm'].iloc[e], dataframe['Actual_W'].iloc[e], dataframe['Predicted_W'].iloc[e]])\n",
    "                \n",
    "    return team_list"
   ]
  },
  {
   "cell_type": "code",
   "execution_count": 68,
   "metadata": {
    "scrolled": true
   },
   "outputs": [],
   "source": [
    "def sort_actual_wins(conf_list):\n",
    "    \"\"\"\n",
    "    Sort each conference list's actual wins, descending from greatest to lowest.\n",
    "    \n",
    "    Takes a conference list; west or east list of teams with team name, actual wins, and predicted wins.\n",
    "    \"\"\"\n",
    "    # will be used to determine playoff teams\n",
    "    return sorted(conf_list, key=lambda x:x[1], reverse=True)\n",
    "\n",
    "def sort_predict_wins(conf_list):\n",
    "    \"\"\"\n",
    "    Sort each conference list's predicted wins, descending from greatest to lowest.\n",
    "    \n",
    "    Takes a conference list; west or east list of teams with team name, actual wins, and predicted wins.\n",
    "    \"\"\"\n",
    "    # will be used to determine playoff teams\n",
    "    return sorted(conf_list, key=lambda x:x[2], reverse=True)"
   ]
  },
  {
   "cell_type": "code",
   "execution_count": 69,
   "metadata": {},
   "outputs": [],
   "source": [
    "def get_actual_playoffs(sorted_w_list):\n",
    "    \"\"\"\n",
    "    Determine which teams made it into the playoffs for actual win values;\n",
    "    returns a sorted list of playoffs teams based on actual win records.\n",
    "    \n",
    "    Takes a conference's sorted actual win list; west or east list of teams with team name, actual wins, and predicted wins.\n",
    "    \"\"\"\n",
    "    # only 8 teams from each conference qualify for the playoffs based on their win records in their respective conference\n",
    "    playoffs_actual = []\n",
    "\n",
    "    # append teams from actual wins that place into playoffs\n",
    "    for i, team in enumerate(sorted_w_list):\n",
    "        if sorted_w_list[i][1] >= sorted_w_list[7][1]: # checks each team against 8th place team\n",
    "            playoffs_actual.append(team)\n",
    "            \n",
    "    return playoffs_actual\n",
    "\n",
    "def get_predict_playoffs(sorted_p_list):\n",
    "    \"\"\"\n",
    "    Determine which teams made it into the playoffs for predicted win values;\n",
    "    returns a sorted list of playoffs teams based on predicted win records.\n",
    "    \n",
    "    Takes a conference's sorted predicted win list; west or east list of teams with team name, actual wins, and predicted wins.\n",
    "    \"\"\"\n",
    "    # only 8 teams from each conference qualify for the playoffs based on their win records in their respective conference\n",
    "    playoffs_predicted = []\n",
    "\n",
    "    # append teams from predicted wins that place into playoffs\n",
    "    for i, team in enumerate(sorted_p_list):\n",
    "        if sorted_p_list[i][2] >= sorted_p_list[7][2]: # checks each team against 8th place team\n",
    "            playoffs_predicted.append(team)\n",
    "            \n",
    "    return playoffs_predicted"
   ]
  },
  {
   "cell_type": "code",
   "execution_count": 70,
   "metadata": {},
   "outputs": [],
   "source": [
    "def get_corr_incorr(actual_playoffs, predicted_playoffs):\n",
    "    \"\"\"\n",
    "    Determine whether predictions were correct or incorrect in evaluating ability to qualify for playoffs;\n",
    "    returns a list of correctly and incorrectly predicted teams.\n",
    "    \n",
    "    Takes a conference's actual and predicted playoff list; sorted west or east list of teams with team name, actual wins, and predicted wins.\n",
    "    \"\"\"\n",
    "    corr_prediction = []\n",
    "    incorr_prediction = []\n",
    "\n",
    "    # append each conference teams from predictions into lists identifying correctly or incorrectly predicted\n",
    "    for i, team in enumerate(predicted_playoffs):\n",
    "        count = 0 # utilize counter to identify teams that do not match with any team in actual playoff list \n",
    "        for e, team2 in enumerate(actual_playoffs):\n",
    "            if team[0] == team2[0]: # boolean check whether predicted playoff team matches with any team in actual playoff team list\n",
    "                corr_prediction.append(team) \n",
    "            elif team[0] != team2[0]:\n",
    "                count += 1\n",
    "                if count == 8:\n",
    "                    incorr_prediction.append(team)\n",
    "                    \n",
    "    return corr_prediction, incorr_prediction"
   ]
  },
  {
   "cell_type": "code",
   "execution_count": 71,
   "metadata": {},
   "outputs": [],
   "source": [
    "def plot_corr_incorr(corr_playoffs, incorr_playoffs):\n",
    "    \"\"\"\n",
    "    Plot color-code for correctly & incorrectly predicted playoff data points.\n",
    "    \n",
    "    Takes a list of correctly and incorrectly predicted playoff teams.\n",
    "    \"\"\"\n",
    "    plt.plot([e for i,e,f in corr_playoffs], [f for i,e,f in corr_playoffs], 'go') # correct playoff predictions\n",
    "    plt.plot([e for i,e,f in incorr_playoffs], [f for i,e,f in incorr_playoffs], 'ro') # incorrect playoff predictions"
   ]
  },
  {
   "cell_type": "code",
   "execution_count": 72,
   "metadata": {},
   "outputs": [],
   "source": [
    "def annotate_labels(corr_playoffs, incorr_playoffs):\n",
    "    \"\"\"\n",
    "    Annotate labels of team names for correctly & incorrectly predicted playoff teams.\n",
    "    \n",
    "    Takes a list of correctly and incorrectly predicted playoff teams.\n",
    "    \"\"\"\n",
    "    # annotate team labels for predicted playoff teams to graph; label locations are fixed\n",
    "    \n",
    "    # annotates correctly predicted playoff teams\n",
    "    for label, x, y in corr_playoffs:\n",
    "        plt.annotate(s=label, xy=(x,y), xytext=(-2,8), textcoords='offset points')\n",
    "    \n",
    "    # annotates incorrectly predicted playoff teams\n",
    "    for label, x, y in incorr_playoffs:\n",
    "        plt.annotate(s=label, xy=(x,y), xytext=(-2,8), textcoords='offset points')"
   ]
  },
  {
   "cell_type": "code",
   "execution_count": 73,
   "metadata": {},
   "outputs": [],
   "source": [
    "def show_predict_playoffs(y_actual, y_predict, west_c, west_i, east_c, east_i):\n",
    "    \"\"\"\n",
    "    Plot graph of all NBA teams based on actual vs predicted wins;\n",
    "    include annotated labels and color-coding of team names for correctly & incorrectly predicted playoff teams.\n",
    "    \n",
    "    Takes the true outcome y-win values, predicted y-win values, \n",
    "    a list of correctly and incorrectly predicted playoff teams for each conference.\n",
    "    \"\"\"\n",
    "    # create graph to help visualize actual vs predicted values; correct vs incorrect playoff predictions\n",
    "\n",
    "    # plot data to graph\n",
    "    plt.scatter(y_actual, y_predict) # actual vs predicted win values\n",
    "\n",
    "    # call plot_corr_incorr() function to plot data points for correctly & incorrectly predicted playoff teams; color-coded data points\n",
    "    plot_corr_incorr(west_c, west_i) # plot correct & incorrect playoff predicted teams for western conference\n",
    "    plot_corr_incorr(east_c, east_i) # plot correct & incorrect playoff predicted teams for eastern conference\n",
    "\n",
    "    # generate \"y=mx+b\" values to plot best-fit line\n",
    "    y_slope, y_int = np.polyfit(y_actual, y_predict, 1)\n",
    "    plt.plot(y_actual, y_slope*y_actual+y_int, '-y')\n",
    "\n",
    "    # call annotate_labels() function to annotate team names for predicted playoff teams to graph\n",
    "    annotate_labels(west_c, west_i)\n",
    "    annotate_labels(east_c, east_i)\n",
    "\n",
    "    plt.xlabel('Actual # Wins')\n",
    "    plt.ylabel('Predicted # Wins')\n",
    "    plt.title('Predicted Playoff Teams')\n",
    "\n",
    "    # adjust graph paramaters\n",
    "    plt.xlim(right=65)\n",
    "    plt.ylim(top=70)\n",
    "\n",
    "    # create legend\n",
    "    pred_incorr = mpatches.Patch(color='red', label='Incorrect Playoff Predictions')\n",
    "    pred_corr = mpatches.Patch(color='green', label='Correct Playoff Predictions')\n",
    "\n",
    "    plt.legend(loc='upper left', handles=[pred_incorr, pred_corr])\n",
    "\n",
    "    plt.show()\n",
    "\n",
    "    # plt.savefig('scatter_pred_18-19.png')"
   ]
  },
  {
   "cell_type": "markdown",
   "metadata": {},
   "source": [
    "Prepare and create graph of Scikit-Learn model results."
   ]
  },
  {
   "cell_type": "code",
   "execution_count": 74,
   "metadata": {},
   "outputs": [],
   "source": [
    "# call conf_list() function to get western and eastern conference lists\n",
    "# returns a list of each team with team name, actual wins, predicted wins\n",
    "west_list = conf_list(pred_model_df, west_conf)\n",
    "east_list = conf_list(pred_model_df, east_conf)"
   ]
  },
  {
   "cell_type": "code",
   "execution_count": 75,
   "metadata": {},
   "outputs": [],
   "source": [
    "# call sort_actual_wins() & sort_predict_wins() functions to sort each conference actual wins and predicted wins\n",
    "# sort lists by actual wins\n",
    "west_W_sorted = sort_actual_wins(west_list)\n",
    "east_W_sorted = sort_actual_wins(east_list)\n",
    "\n",
    "# sort lists by predicted wins\n",
    "west_P_sorted = sort_predict_wins(west_list)\n",
    "east_P_sorted = sort_predict_wins(east_list)"
   ]
  },
  {
   "cell_type": "code",
   "execution_count": 76,
   "metadata": {},
   "outputs": [],
   "source": [
    "# call get_actual_playoffs() & get_predict_playoff() functions to determine playoff teams for each conference using actual wins vs predicted wins\n",
    "# get actual playoff teams\n",
    "west_playoffs_actual = get_actual_playoffs(west_W_sorted)\n",
    "east_playoffs_actual = get_actual_playoffs(east_W_sorted)\n",
    "                                           \n",
    "# get predicted playoff teams\n",
    "west_playoffs_pred = get_predict_playoffs(west_P_sorted)\n",
    "east_playoffs_pred = get_predict_playoffs(east_P_sorted)"
   ]
  },
  {
   "cell_type": "code",
   "execution_count": 77,
   "metadata": {},
   "outputs": [],
   "source": [
    "# call get_corr_incorr() function to get west and east correct vs incorrect playoff predictions\n",
    "west_corr, west_incorr = get_corr_incorr(west_playoffs_actual, west_playoffs_pred)\n",
    "east_corr, east_incorr = get_corr_incorr(east_playoffs_actual, east_playoffs_pred)"
   ]
  },
  {
   "cell_type": "code",
   "execution_count": 78,
   "metadata": {},
   "outputs": [
    {
     "data": {
      "image/png": "[encoded data removed]",
      "text/plain": [
       "<Figure size 864x504 with 1 Axes>"
      ]
     },
     "metadata": {
      "needs_background": "light"
     },
     "output_type": "display_data"
    }
   ],
   "source": [
    "# call show_predict_playoffs() function to get predicted playoff teams graph\n",
    "# incorrectly predicted teams are highlighted in red; correctly predicted teams are highlighted in green\n",
    "show_predict_playoffs(pred_y_data, lm_pred_val, west_corr, west_incorr, east_corr, east_incorr)"
   ]
  },
  {
   "cell_type": "markdown",
   "metadata": {},
   "source": [
    "Use code below to manually recoordinate location of select data point team labels."
   ]
  },
  {
   "cell_type": "code",
   "execution_count": 79,
   "metadata": {},
   "outputs": [],
   "source": [
    "# # create graph to help visualize actual vs predicted values; correct vs incorrect playoff predictions\n",
    "\n",
    "# # plot data to graph\n",
    "# plt.scatter(pred_y_data, lm_pred_val) # actual vs predicted win values\n",
    "\n",
    "# # call plot_corr_incorr() function to plot data points for correctly & incorrectly predicted playoff teams; color-coded data points\n",
    "# plot_corr_incorr(west_corr, west_incorr) # plot correct & incorrect playoff predicted teams for western conference\n",
    "# plot_corr_incorr(east_corr, east_incorr) # plot correct & incorrect playoff predicted teams for eastern conference\n",
    "\n",
    "# # generate \"y=mx+b\" values to plot best-fit line\n",
    "# y_slope, y_int = np.polyfit(pred_y_data, lm_pred_val, 1)\n",
    "# plt.plot(pred_y_data, y_slope*pred_y_data+y_int, '-y')\n",
    "\n",
    "# # annotate team labels for predicted playoff teams to graph; adjust location of label as needed\n",
    "# for label, x, y in east_incorr:\n",
    "#     if label == 'WAS':\n",
    "#         plt.annotate(s=label, xy=(x,y), xytext=(-20,8), textcoords='offset points')\n",
    "#     else:\n",
    "#         plt.annotate(s=label, xy=(x,y), xytext=(-2,8), textcoords='offset points')\n",
    "# for label, x, y in west_incorr:\n",
    "#     if label == 'MEM':\n",
    "#         plt.annotate(s=label, xy=(x,y), xytext=(5,-8), textcoords='offset points')\n",
    "#     else:\n",
    "#         plt.annotate(s=label, xy=(x,y), xytext=(-2,8), textcoords='offset points')\n",
    "# for label, x, y in east_corr:\n",
    "#     if label == 'TOR':\n",
    "#         plt.annotate(s=label, xy=(x,y), xytext=(5,0), textcoords='offset points')\n",
    "#     elif label == 'IND':\n",
    "#         plt.annotate(s=label, xy=(x,y), xytext=(-10,-15), textcoords='offset points')\n",
    "#     elif label == 'PHI':\n",
    "#         plt.annotate(s=label, xy=(x,y), xytext=(0,-15), textcoords='offset points')\n",
    "#     else:\n",
    "#         plt.annotate(s=label, xy=(x,y), xytext=(-2,8), textcoords='offset points')\n",
    "# for label, x, y in west_corr:\n",
    "#     if label == 'LAC':\n",
    "#         plt.annotate(s=label, xy=(x,y), xytext=(-10,8), textcoords='offset points')\n",
    "#     elif label == 'POR':\n",
    "#         plt.annotate(s=label, xy=(x,y), xytext=(2,8), textcoords='offset points')\n",
    "#     else:\n",
    "#         plt.annotate(s=label, xy=(x,y), xytext=(-2,8), textcoords='offset points')\n",
    "\n",
    "# plt.xlabel('Actual # Wins')\n",
    "# plt.ylabel('Predicted # Wins')\n",
    "# plt.title('Predicted Playoff Teams')\n",
    "        \n",
    "# # adjust graph paramaters\n",
    "# plt.xlim(right=65)\n",
    "# plt.ylim(top=70)\n",
    "\n",
    "# # create legend\n",
    "# pred_incorr = mpatches.Patch(color='red', label='Incorrect Playoff Predictions')\n",
    "# pred_corr = mpatches.Patch(color='green', label='Correct Playoff Predictions')\n",
    "\n",
    "# plt.legend(loc='upper left', handles=[pred_incorr, pred_corr])\n",
    "\n",
    "# plt.show()\n",
    "\n",
    "# # plt.savefig('scatter_pred_18-19.png')"
   ]
  },
  {
   "cell_type": "markdown",
   "metadata": {},
   "source": [
    "From the graph above, we can see that there are 4 teams that the linear model did not correctly predict the results of making it into the playoffs.\n",
    "\n",
    "Incorrectly predicted teams: Charlotte Hornets (CHO), Washington Wizards (WAS), Minnesota Timberwolves (MIN), Memphis Grizzlies (MEM)."
   ]
  },
  {
   "cell_type": "markdown",
   "metadata": {},
   "source": [
    "**Create a table for each conference to help identify incorrectly predicted playoff teams vs actual playoff teams**"
   ]
  },
  {
   "cell_type": "code",
   "execution_count": 80,
   "metadata": {
    "scrolled": true
   },
   "outputs": [],
   "source": [
    "# import imgkit tool for html to other file type (e.g. png, pdf, etc.) conversion\n",
    "import imgkit"
   ]
  },
  {
   "cell_type": "code",
   "execution_count": 81,
   "metadata": {},
   "outputs": [],
   "source": [
    "# create path to wkhtmltopdf tool so that imgkit tool can convert html object\n",
    "path_wkhtmltoimage = r'C:\\Users\\aliu4\\Programs\\Anaconda3\\wkhtmltopdf\\bin\\wkhtmltoimage.exe'\n",
    "config_img = imgkit.config(wkhtmltoimage=path_wkhtmltoimage)"
   ]
  },
  {
   "cell_type": "markdown",
   "metadata": {},
   "source": [
    "Below are functions to streamline organizing and sorting of data for creation of Scikit-Learn's model results of playoff teams."
   ]
  },
  {
   "cell_type": "code",
   "execution_count": 82,
   "metadata": {},
   "outputs": [],
   "source": [
    "# function to merge each conference actual & predicted playoff teams\n",
    "def merge_df(actual_playoffs, predicted_playoffs, conf_string):\n",
    "    \"\"\"\n",
    "    Convert a list of playoff teams to a dataframe and merge the dataframe of each conference actual & predicted playoff teams, \n",
    "    and reset index to start at 1; new index refers to playoff standings. Returns a dataframe with actual and predicted playoff teams from each conference.\n",
    "    \n",
    "    Takes a list of the actual and predicted playoff teams,\n",
    "    and a string of the conference name.\n",
    "    \"\"\"\n",
    "    # create new dataframes with each conference playoff teams\n",
    "    # will return dataframe table with actual & predicted playoffs for comparison\n",
    "    df = pd.merge(pd.DataFrame(actual_playoffs, \n",
    "                               columns=[conf_string.lower().capitalize()+'_Tm_Actual', \n",
    "                                        conf_string.lower().capitalize()+'_Actual_W', 'Predicted_W']).drop('Predicted_W', axis=1), \n",
    "                  pd.DataFrame(predicted_playoffs, \n",
    "                               columns=[conf_string.lower().capitalize()+'_Tm_Pred', 'Actual_W', \n",
    "                                        conf_string.lower().capitalize()+'_Pred_W']).drop('Actual_W', axis=1), left_index=True, right_index=True)\n",
    "    \n",
    "    # round predicted values\n",
    "    df[conf_string.lower().capitalize()+'_Pred_W'] = np.round(df[conf_string.lower().capitalize()+'_Pred_W'])\n",
    "\n",
    "    # convert predicted values from float to integer\n",
    "    df[conf_string.lower().capitalize()+'_Pred_W'] = df[conf_string.lower().capitalize()+'_Pred_W'].astype('int64')\n",
    "\n",
    "    # adjust index to start with 1 to show which playoff teams #1-#8\n",
    "    df.index += 1\n",
    "    \n",
    "    return df"
   ]
  },
  {
   "cell_type": "code",
   "execution_count": 83,
   "metadata": {},
   "outputs": [],
   "source": [
    "def color_df(dataframe, conf_string):\n",
    "    \"\"\"\n",
    "    Color incorrectly predicted playoff team(s) red.\n",
    "    \n",
    "    Takes dataframe with actual and predicted playoff teams,\n",
    "    and a string of the conference name.\n",
    "    \"\"\"\n",
    "    def get_color(val):\n",
    "        return ['color:red' if v not in list(dataframe[conf_string.lower().capitalize()+'_Tm_Actual']) else 'color: black' for v in dataframe[conf_string.lower().capitalize()+'_Tm_Pred']]\n",
    "    return get_color\n",
    "\n",
    "def color_df2(dataframe, conf_string):\n",
    "    \"\"\"\n",
    "    Color actual playoff team(s) darkorange;\n",
    "    specifically teams that should have been predicted as playoff teams.\n",
    "    \n",
    "    Takes dataframe with actual and predicted playoff teams,\n",
    "    and a string of the conference name.\n",
    "    \"\"\"\n",
    "    def get_color2(val):\n",
    "        return ['color:darkorange' if v not in list(dataframe[conf_string.lower().capitalize()+'_Tm_Pred']) else 'color: black' for v in dataframe[conf_string.lower().capitalize()+'_Tm_Actual']]\n",
    "    return get_color2"
   ]
  },
  {
   "cell_type": "code",
   "execution_count": 84,
   "metadata": {},
   "outputs": [],
   "source": [
    "def set_tb_props(df_tb):\n",
    "    \"\"\"\n",
    "    Set table properties.\n",
    "    \n",
    "    Takes a dataframe table to be formatted.\n",
    "    \"\"\"\n",
    "    # set table properties\n",
    "    df_tb.set_properties(**{'border-collapse':'collapse'})\n",
    "\n",
    "    # set table styles\n",
    "    df_tb.set_table_styles([{'selector':' ', 'props':[('border-collapse','collapse'),('border-bottom','1px solid black'),('border-left', '1px solid black'),('border-right', '1px solid black'),('border-top', '1px solid black')]}\\\n",
    "                            ,{'selector':'th', 'props':[('text-align','center'),('border-bottom','1px solid black'),('border-left', '1px solid black'),('border-right', '1px solid black'),('border-top', '1px solid black')]}\\\n",
    "                            ,{'selector':'td', 'props':[('text-align','center'),('border-bottom','1px solid black'),('border-left', '1px solid black'),('border-right', '1px solid black'),('border-top', '1px solid black')]}])"
   ]
  },
  {
   "cell_type": "code",
   "execution_count": 85,
   "metadata": {},
   "outputs": [],
   "source": [
    "def get_table(dataframe, conf_string):\n",
    "    \"\"\"\n",
    "    Create dataframe table with highlighted incorrectly predicted vs actual playoff teams using css html formatting;\n",
    "    returns a formatted dataframe table.\n",
    "    \n",
    "    Takes a dataframe with actual and predicted playoff teams, \n",
    "    and a string of the conference name.\n",
    "    \"\"\"\n",
    "    # create a styler object with colored text of incorrectly predicted playoff teams vs actual teams\n",
    "    df_tb = dataframe.style.apply(color_df2(dataframe, conf_string), subset=[conf_string.lower().capitalize()+'_Tm_Actual'])\\\n",
    "                            .apply(color_df(dataframe, conf_string), subset=[conf_string.lower().capitalize()+'_Tm_Pred'])\n",
    "    \n",
    "    # set table properties\n",
    "    df_tb.set_properties(**{'border-collapse':'collapse'})\n",
    "\n",
    "    # set table styles\n",
    "    df_tb.set_table_styles([{'selector':' ', 'props':[('border-collapse','collapse'),('border-bottom','1px solid black'),('border-left', '1px solid black'),('border-right', '1px solid black'),('border-top', '1px solid black')]}\\\n",
    "                            ,{'selector':'th', 'props':[('text-align','center'),('border-bottom','1px solid black'),('border-left', '1px solid black'),('border-right', '1px solid black'),('border-top', '1px solid black')]}\\\n",
    "                            ,{'selector':'td', 'props':[('text-align','center'),('border-bottom','1px solid black'),('border-left', '1px solid black'),('border-right', '1px solid black'),('border-top', '1px solid black')]}])\n",
    "    \n",
    "    return df_tb"
   ]
  },
  {
   "cell_type": "code",
   "execution_count": 86,
   "metadata": {},
   "outputs": [],
   "source": [
    "def render_tb(df_tb, conf_string):\n",
    "    \"\"\"\n",
    "    Render a dataframe table to html and save the formatted table to a .png file;\n",
    "    saves an image of the dataframe table to directory.\n",
    "    \n",
    "    Takes a dataframe table with actual and predicted playoff teams, \n",
    "    and a string of the conference name.\n",
    "    \"\"\"\n",
    "    # render west_df_tb to html\n",
    "    html = df_tb.render()\n",
    "    \n",
    "    # convert and save to png file\n",
    "    return imgkit.from_string(html, conf_string.lower().capitalize()+'_Playoffs_TB.png', config=config_img)"
   ]
  },
  {
   "cell_type": "code",
   "execution_count": 87,
   "metadata": {},
   "outputs": [],
   "source": [
    "# function to combine west & east dataframe tables, and apply table formatting style\n",
    "# includes highlighting of incorrectly predicted playoff teams vs actual playoff teams\n",
    "def get_west_east(west, east, west_string, east_string):\n",
    "    \"\"\"\n",
    "    Combine west & east dataframe tables, and apply table formatting style;\n",
    "    returns a table with highlighting of incorrectly predicted playoff teams vs actual playoff teams.\n",
    "    \n",
    "    Takes a dataframe table of each conference, and a string of each conference name.\n",
    "    \"\"\"\n",
    "    # combine west and east dataframes\n",
    "    combined_df = pd.merge(west, east, left_index=True, right_index=True)\n",
    "    \n",
    "    # create a styler object with colored text of incorrectly predicted playoff teams vs actual teams\n",
    "    combined_tb = combined_df.style.apply(color_df2(east, east_string), subset=[east_string.lower().capitalize()+'_Tm_Actual'])\\\n",
    "                            .apply(color_df(east, east_string), subset=[east_string.lower().capitalize()+'_Tm_Pred'])\\\n",
    "                            .apply(color_df2(west, west_string), subset=[west_string.lower().capitalize()+'_Tm_Actual'])\\\n",
    "                            .apply(color_df(west, west_string), subset=[west_string.lower().capitalize()+'_Tm_Pred'])\n",
    "    \n",
    "    set_tb_props(combined_tb)\n",
    "    \n",
    "    return combined_tb"
   ]
  },
  {
   "cell_type": "markdown",
   "metadata": {},
   "source": [
    " Observations of tables:\n",
    "- Season performance (wins) results of actual vs. predicted playoff teams\n",
    "- Which teams were the actual playoff teams in relation to the incorrectly predicted playoff teams"
   ]
  },
  {
   "cell_type": "code",
   "execution_count": 88,
   "metadata": {},
   "outputs": [],
   "source": [
    "# call merge_df() function to get dataframe tables with each conference actual vs predicted playoff teams\n",
    "west_df = merge_df(west_playoffs_actual, west_playoffs_pred, 'west')\n",
    "east_df = merge_df(east_playoffs_actual, east_playoffs_pred, 'east')"
   ]
  },
  {
   "cell_type": "markdown",
   "metadata": {},
   "source": [
    "**West playoffs teams**"
   ]
  },
  {
   "cell_type": "code",
   "execution_count": 89,
   "metadata": {
    "scrolled": true
   },
   "outputs": [
    {
     "data": {
      "text/html": [
       "<style  type=\"text/css\" >\n",
       "    #T_e20e6ca4_d416_11e9_8f7f_f7f7b2b3d2c7   {\n",
       "          border-collapse: collapse;\n",
       "          border-bottom: 1px solid black;\n",
       "          border-left: 1px solid black;\n",
       "          border-right: 1px solid black;\n",
       "          border-top: 1px solid black;\n",
       "    }    #T_e20e6ca4_d416_11e9_8f7f_f7f7b2b3d2c7 th {\n",
       "          text-align: center;\n",
       "          border-bottom: 1px solid black;\n",
       "          border-left: 1px solid black;\n",
       "          border-right: 1px solid black;\n",
       "          border-top: 1px solid black;\n",
       "    }    #T_e20e6ca4_d416_11e9_8f7f_f7f7b2b3d2c7 td {\n",
       "          text-align: center;\n",
       "          border-bottom: 1px solid black;\n",
       "          border-left: 1px solid black;\n",
       "          border-right: 1px solid black;\n",
       "          border-top: 1px solid black;\n",
       "    }    #T_e20e6ca4_d416_11e9_8f7f_f7f7b2b3d2c7row0_col0 {\n",
       "            color:  black;\n",
       "            border-collapse:  collapse;\n",
       "        }    #T_e20e6ca4_d416_11e9_8f7f_f7f7b2b3d2c7row0_col1 {\n",
       "            border-collapse:  collapse;\n",
       "        }    #T_e20e6ca4_d416_11e9_8f7f_f7f7b2b3d2c7row0_col2 {\n",
       "            color:  black;\n",
       "            border-collapse:  collapse;\n",
       "        }    #T_e20e6ca4_d416_11e9_8f7f_f7f7b2b3d2c7row0_col3 {\n",
       "            border-collapse:  collapse;\n",
       "        }    #T_e20e6ca4_d416_11e9_8f7f_f7f7b2b3d2c7row1_col0 {\n",
       "            color: darkorange;\n",
       "            border-collapse:  collapse;\n",
       "        }    #T_e20e6ca4_d416_11e9_8f7f_f7f7b2b3d2c7row1_col1 {\n",
       "            border-collapse:  collapse;\n",
       "        }    #T_e20e6ca4_d416_11e9_8f7f_f7f7b2b3d2c7row1_col2 {\n",
       "            color:  black;\n",
       "            border-collapse:  collapse;\n",
       "        }    #T_e20e6ca4_d416_11e9_8f7f_f7f7b2b3d2c7row1_col3 {\n",
       "            border-collapse:  collapse;\n",
       "        }    #T_e20e6ca4_d416_11e9_8f7f_f7f7b2b3d2c7row2_col0 {\n",
       "            color:  black;\n",
       "            border-collapse:  collapse;\n",
       "        }    #T_e20e6ca4_d416_11e9_8f7f_f7f7b2b3d2c7row2_col1 {\n",
       "            border-collapse:  collapse;\n",
       "        }    #T_e20e6ca4_d416_11e9_8f7f_f7f7b2b3d2c7row2_col2 {\n",
       "            color:  black;\n",
       "            border-collapse:  collapse;\n",
       "        }    #T_e20e6ca4_d416_11e9_8f7f_f7f7b2b3d2c7row2_col3 {\n",
       "            border-collapse:  collapse;\n",
       "        }    #T_e20e6ca4_d416_11e9_8f7f_f7f7b2b3d2c7row3_col0 {\n",
       "            color:  black;\n",
       "            border-collapse:  collapse;\n",
       "        }    #T_e20e6ca4_d416_11e9_8f7f_f7f7b2b3d2c7row3_col1 {\n",
       "            border-collapse:  collapse;\n",
       "        }    #T_e20e6ca4_d416_11e9_8f7f_f7f7b2b3d2c7row3_col2 {\n",
       "            color:  black;\n",
       "            border-collapse:  collapse;\n",
       "        }    #T_e20e6ca4_d416_11e9_8f7f_f7f7b2b3d2c7row3_col3 {\n",
       "            border-collapse:  collapse;\n",
       "        }    #T_e20e6ca4_d416_11e9_8f7f_f7f7b2b3d2c7row4_col0 {\n",
       "            color:  black;\n",
       "            border-collapse:  collapse;\n",
       "        }    #T_e20e6ca4_d416_11e9_8f7f_f7f7b2b3d2c7row4_col1 {\n",
       "            border-collapse:  collapse;\n",
       "        }    #T_e20e6ca4_d416_11e9_8f7f_f7f7b2b3d2c7row4_col2 {\n",
       "            color:  black;\n",
       "            border-collapse:  collapse;\n",
       "        }    #T_e20e6ca4_d416_11e9_8f7f_f7f7b2b3d2c7row4_col3 {\n",
       "            border-collapse:  collapse;\n",
       "        }    #T_e20e6ca4_d416_11e9_8f7f_f7f7b2b3d2c7row5_col0 {\n",
       "            color: darkorange;\n",
       "            border-collapse:  collapse;\n",
       "        }    #T_e20e6ca4_d416_11e9_8f7f_f7f7b2b3d2c7row5_col1 {\n",
       "            border-collapse:  collapse;\n",
       "        }    #T_e20e6ca4_d416_11e9_8f7f_f7f7b2b3d2c7row5_col2 {\n",
       "            color:  black;\n",
       "            border-collapse:  collapse;\n",
       "        }    #T_e20e6ca4_d416_11e9_8f7f_f7f7b2b3d2c7row5_col3 {\n",
       "            border-collapse:  collapse;\n",
       "        }    #T_e20e6ca4_d416_11e9_8f7f_f7f7b2b3d2c7row6_col0 {\n",
       "            color:  black;\n",
       "            border-collapse:  collapse;\n",
       "        }    #T_e20e6ca4_d416_11e9_8f7f_f7f7b2b3d2c7row6_col1 {\n",
       "            border-collapse:  collapse;\n",
       "        }    #T_e20e6ca4_d416_11e9_8f7f_f7f7b2b3d2c7row6_col2 {\n",
       "            color: red;\n",
       "            border-collapse:  collapse;\n",
       "        }    #T_e20e6ca4_d416_11e9_8f7f_f7f7b2b3d2c7row6_col3 {\n",
       "            border-collapse:  collapse;\n",
       "        }    #T_e20e6ca4_d416_11e9_8f7f_f7f7b2b3d2c7row7_col0 {\n",
       "            color:  black;\n",
       "            border-collapse:  collapse;\n",
       "        }    #T_e20e6ca4_d416_11e9_8f7f_f7f7b2b3d2c7row7_col1 {\n",
       "            border-collapse:  collapse;\n",
       "        }    #T_e20e6ca4_d416_11e9_8f7f_f7f7b2b3d2c7row7_col2 {\n",
       "            color: red;\n",
       "            border-collapse:  collapse;\n",
       "        }    #T_e20e6ca4_d416_11e9_8f7f_f7f7b2b3d2c7row7_col3 {\n",
       "            border-collapse:  collapse;\n",
       "        }</style>  \n",
       "<table id=\"T_e20e6ca4_d416_11e9_8f7f_f7f7b2b3d2c7\" > \n",
       "<thead>    <tr> \n",
       "        <th class=\"blank level0\" ></th> \n",
       "        <th class=\"col_heading level0 col0\" >West_Tm_Actual</th> \n",
       "        <th class=\"col_heading level0 col1\" >West_Actual_W</th> \n",
       "        <th class=\"col_heading level0 col2\" >West_Tm_Pred</th> \n",
       "        <th class=\"col_heading level0 col3\" >West_Pred_W</th> \n",
       "    </tr></thead> \n",
       "<tbody>    <tr> \n",
       "        <th id=\"T_e20e6ca4_d416_11e9_8f7f_f7f7b2b3d2c7level0_row0\" class=\"row_heading level0 row0\" >1</th> \n",
       "        <td id=\"T_e20e6ca4_d416_11e9_8f7f_f7f7b2b3d2c7row0_col0\" class=\"data row0 col0\" >GSW</td> \n",
       "        <td id=\"T_e20e6ca4_d416_11e9_8f7f_f7f7b2b3d2c7row0_col1\" class=\"data row0 col1\" >57</td> \n",
       "        <td id=\"T_e20e6ca4_d416_11e9_8f7f_f7f7b2b3d2c7row0_col2\" class=\"data row0 col2\" >GSW</td> \n",
       "        <td id=\"T_e20e6ca4_d416_11e9_8f7f_f7f7b2b3d2c7row0_col3\" class=\"data row0 col3\" >67</td> \n",
       "    </tr>    <tr> \n",
       "        <th id=\"T_e20e6ca4_d416_11e9_8f7f_f7f7b2b3d2c7level0_row1\" class=\"row_heading level0 row1\" >2</th> \n",
       "        <td id=\"T_e20e6ca4_d416_11e9_8f7f_f7f7b2b3d2c7row1_col0\" class=\"data row1 col0\" >DEN</td> \n",
       "        <td id=\"T_e20e6ca4_d416_11e9_8f7f_f7f7b2b3d2c7row1_col1\" class=\"data row1 col1\" >54</td> \n",
       "        <td id=\"T_e20e6ca4_d416_11e9_8f7f_f7f7b2b3d2c7row1_col2\" class=\"data row1 col2\" >SAS</td> \n",
       "        <td id=\"T_e20e6ca4_d416_11e9_8f7f_f7f7b2b3d2c7row1_col3\" class=\"data row1 col3\" >62</td> \n",
       "    </tr>    <tr> \n",
       "        <th id=\"T_e20e6ca4_d416_11e9_8f7f_f7f7b2b3d2c7level0_row2\" class=\"row_heading level0 row2\" >3</th> \n",
       "        <td id=\"T_e20e6ca4_d416_11e9_8f7f_f7f7b2b3d2c7row2_col0\" class=\"data row2 col0\" >HOU</td> \n",
       "        <td id=\"T_e20e6ca4_d416_11e9_8f7f_f7f7b2b3d2c7row2_col1\" class=\"data row2 col1\" >53</td> \n",
       "        <td id=\"T_e20e6ca4_d416_11e9_8f7f_f7f7b2b3d2c7row2_col2\" class=\"data row2 col2\" >HOU</td> \n",
       "        <td id=\"T_e20e6ca4_d416_11e9_8f7f_f7f7b2b3d2c7row2_col3\" class=\"data row2 col3\" >61</td> \n",
       "    </tr>    <tr> \n",
       "        <th id=\"T_e20e6ca4_d416_11e9_8f7f_f7f7b2b3d2c7level0_row3\" class=\"row_heading level0 row3\" >4</th> \n",
       "        <td id=\"T_e20e6ca4_d416_11e9_8f7f_f7f7b2b3d2c7row3_col0\" class=\"data row3 col0\" >POR</td> \n",
       "        <td id=\"T_e20e6ca4_d416_11e9_8f7f_f7f7b2b3d2c7row3_col1\" class=\"data row3 col1\" >53</td> \n",
       "        <td id=\"T_e20e6ca4_d416_11e9_8f7f_f7f7b2b3d2c7row3_col2\" class=\"data row3 col2\" >UTA</td> \n",
       "        <td id=\"T_e20e6ca4_d416_11e9_8f7f_f7f7b2b3d2c7row3_col3\" class=\"data row3 col3\" >52</td> \n",
       "    </tr>    <tr> \n",
       "        <th id=\"T_e20e6ca4_d416_11e9_8f7f_f7f7b2b3d2c7level0_row4\" class=\"row_heading level0 row4\" >5</th> \n",
       "        <td id=\"T_e20e6ca4_d416_11e9_8f7f_f7f7b2b3d2c7row4_col0\" class=\"data row4 col0\" >UTA</td> \n",
       "        <td id=\"T_e20e6ca4_d416_11e9_8f7f_f7f7b2b3d2c7row4_col1\" class=\"data row4 col1\" >50</td> \n",
       "        <td id=\"T_e20e6ca4_d416_11e9_8f7f_f7f7b2b3d2c7row4_col2\" class=\"data row4 col2\" >POR</td> \n",
       "        <td id=\"T_e20e6ca4_d416_11e9_8f7f_f7f7b2b3d2c7row4_col3\" class=\"data row4 col3\" >51</td> \n",
       "    </tr>    <tr> \n",
       "        <th id=\"T_e20e6ca4_d416_11e9_8f7f_f7f7b2b3d2c7level0_row5\" class=\"row_heading level0 row5\" >6</th> \n",
       "        <td id=\"T_e20e6ca4_d416_11e9_8f7f_f7f7b2b3d2c7row5_col0\" class=\"data row5 col0\" >OKC</td> \n",
       "        <td id=\"T_e20e6ca4_d416_11e9_8f7f_f7f7b2b3d2c7row5_col1\" class=\"data row5 col1\" >49</td> \n",
       "        <td id=\"T_e20e6ca4_d416_11e9_8f7f_f7f7b2b3d2c7row5_col2\" class=\"data row5 col2\" >LAC</td> \n",
       "        <td id=\"T_e20e6ca4_d416_11e9_8f7f_f7f7b2b3d2c7row5_col3\" class=\"data row5 col3\" >51</td> \n",
       "    </tr>    <tr> \n",
       "        <th id=\"T_e20e6ca4_d416_11e9_8f7f_f7f7b2b3d2c7level0_row6\" class=\"row_heading level0 row6\" >7</th> \n",
       "        <td id=\"T_e20e6ca4_d416_11e9_8f7f_f7f7b2b3d2c7row6_col0\" class=\"data row6 col0\" >LAC</td> \n",
       "        <td id=\"T_e20e6ca4_d416_11e9_8f7f_f7f7b2b3d2c7row6_col1\" class=\"data row6 col1\" >48</td> \n",
       "        <td id=\"T_e20e6ca4_d416_11e9_8f7f_f7f7b2b3d2c7row6_col2\" class=\"data row6 col2\" >MIN</td> \n",
       "        <td id=\"T_e20e6ca4_d416_11e9_8f7f_f7f7b2b3d2c7row6_col3\" class=\"data row6 col3\" >48</td> \n",
       "    </tr>    <tr> \n",
       "        <th id=\"T_e20e6ca4_d416_11e9_8f7f_f7f7b2b3d2c7level0_row7\" class=\"row_heading level0 row7\" >8</th> \n",
       "        <td id=\"T_e20e6ca4_d416_11e9_8f7f_f7f7b2b3d2c7row7_col0\" class=\"data row7 col0\" >SAS</td> \n",
       "        <td id=\"T_e20e6ca4_d416_11e9_8f7f_f7f7b2b3d2c7row7_col1\" class=\"data row7 col1\" >48</td> \n",
       "        <td id=\"T_e20e6ca4_d416_11e9_8f7f_f7f7b2b3d2c7row7_col2\" class=\"data row7 col2\" >MEM</td> \n",
       "        <td id=\"T_e20e6ca4_d416_11e9_8f7f_f7f7b2b3d2c7row7_col3\" class=\"data row7 col3\" >46</td> \n",
       "    </tr></tbody> \n",
       "</table> "
      ],
      "text/plain": [
       "<pandas.io.formats.style.Styler at 0x1234c7e6e80>"
      ]
     },
     "execution_count": 89,
     "metadata": {},
     "output_type": "execute_result"
    }
   ],
   "source": [
    "# call get_table() function to get table\n",
    "west_df_tb = get_table(dataframe=west_df, conf_string='west')\n",
    "\n",
    "# show west_df_tb\n",
    "west_df_tb"
   ]
  },
  {
   "cell_type": "code",
   "execution_count": 90,
   "metadata": {
    "scrolled": false
   },
   "outputs": [
    {
     "name": "stdout",
     "output_type": "stream",
     "text": [
      "Loading page (1/2)\r\n",
      "[>                                                           ] 0%\r",
      "[======>                                                     ] 10%\r",
      "[==============================>                             ] 50%\r",
      "[============================================================] 100%\r",
      "Rendering (2/2)                                                    \r\n",
      "[>                                                           ] 0%\r",
      "[===============>                                            ] 25%\r",
      "[============================================================] 100%\r",
      "Done                                                               \r\n"
     ]
    },
    {
     "data": {
      "text/plain": [
       "True"
      ]
     },
     "execution_count": 90,
     "metadata": {},
     "output_type": "execute_result"
    }
   ],
   "source": [
    "# call render_tb() function to convert & save dataframe table to .png file\n",
    "render_tb(west_df_tb, 'west')"
   ]
  },
  {
   "cell_type": "markdown",
   "metadata": {},
   "source": [
    "**East playoffs teams**"
   ]
  },
  {
   "cell_type": "code",
   "execution_count": 91,
   "metadata": {},
   "outputs": [
    {
     "data": {
      "text/html": [
       "<style  type=\"text/css\" >\n",
       "    #T_e2a14646_d416_11e9_acf1_f7f7b2b3d2c7   {\n",
       "          border-collapse: collapse;\n",
       "          border-bottom: 1px solid black;\n",
       "          border-left: 1px solid black;\n",
       "          border-right: 1px solid black;\n",
       "          border-top: 1px solid black;\n",
       "    }    #T_e2a14646_d416_11e9_acf1_f7f7b2b3d2c7 th {\n",
       "          text-align: center;\n",
       "          border-bottom: 1px solid black;\n",
       "          border-left: 1px solid black;\n",
       "          border-right: 1px solid black;\n",
       "          border-top: 1px solid black;\n",
       "    }    #T_e2a14646_d416_11e9_acf1_f7f7b2b3d2c7 td {\n",
       "          text-align: center;\n",
       "          border-bottom: 1px solid black;\n",
       "          border-left: 1px solid black;\n",
       "          border-right: 1px solid black;\n",
       "          border-top: 1px solid black;\n",
       "    }    #T_e2a14646_d416_11e9_acf1_f7f7b2b3d2c7row0_col0 {\n",
       "            color:  black;\n",
       "            border-collapse:  collapse;\n",
       "        }    #T_e2a14646_d416_11e9_acf1_f7f7b2b3d2c7row0_col1 {\n",
       "            border-collapse:  collapse;\n",
       "        }    #T_e2a14646_d416_11e9_acf1_f7f7b2b3d2c7row0_col2 {\n",
       "            color:  black;\n",
       "            border-collapse:  collapse;\n",
       "        }    #T_e2a14646_d416_11e9_acf1_f7f7b2b3d2c7row0_col3 {\n",
       "            border-collapse:  collapse;\n",
       "        }    #T_e2a14646_d416_11e9_acf1_f7f7b2b3d2c7row1_col0 {\n",
       "            color:  black;\n",
       "            border-collapse:  collapse;\n",
       "        }    #T_e2a14646_d416_11e9_acf1_f7f7b2b3d2c7row1_col1 {\n",
       "            border-collapse:  collapse;\n",
       "        }    #T_e2a14646_d416_11e9_acf1_f7f7b2b3d2c7row1_col2 {\n",
       "            color:  black;\n",
       "            border-collapse:  collapse;\n",
       "        }    #T_e2a14646_d416_11e9_acf1_f7f7b2b3d2c7row1_col3 {\n",
       "            border-collapse:  collapse;\n",
       "        }    #T_e2a14646_d416_11e9_acf1_f7f7b2b3d2c7row2_col0 {\n",
       "            color:  black;\n",
       "            border-collapse:  collapse;\n",
       "        }    #T_e2a14646_d416_11e9_acf1_f7f7b2b3d2c7row2_col1 {\n",
       "            border-collapse:  collapse;\n",
       "        }    #T_e2a14646_d416_11e9_acf1_f7f7b2b3d2c7row2_col2 {\n",
       "            color:  black;\n",
       "            border-collapse:  collapse;\n",
       "        }    #T_e2a14646_d416_11e9_acf1_f7f7b2b3d2c7row2_col3 {\n",
       "            border-collapse:  collapse;\n",
       "        }    #T_e2a14646_d416_11e9_acf1_f7f7b2b3d2c7row3_col0 {\n",
       "            color:  black;\n",
       "            border-collapse:  collapse;\n",
       "        }    #T_e2a14646_d416_11e9_acf1_f7f7b2b3d2c7row3_col1 {\n",
       "            border-collapse:  collapse;\n",
       "        }    #T_e2a14646_d416_11e9_acf1_f7f7b2b3d2c7row3_col2 {\n",
       "            color: red;\n",
       "            border-collapse:  collapse;\n",
       "        }    #T_e2a14646_d416_11e9_acf1_f7f7b2b3d2c7row3_col3 {\n",
       "            border-collapse:  collapse;\n",
       "        }    #T_e2a14646_d416_11e9_acf1_f7f7b2b3d2c7row4_col0 {\n",
       "            color:  black;\n",
       "            border-collapse:  collapse;\n",
       "        }    #T_e2a14646_d416_11e9_acf1_f7f7b2b3d2c7row4_col1 {\n",
       "            border-collapse:  collapse;\n",
       "        }    #T_e2a14646_d416_11e9_acf1_f7f7b2b3d2c7row4_col2 {\n",
       "            color:  black;\n",
       "            border-collapse:  collapse;\n",
       "        }    #T_e2a14646_d416_11e9_acf1_f7f7b2b3d2c7row4_col3 {\n",
       "            border-collapse:  collapse;\n",
       "        }    #T_e2a14646_d416_11e9_acf1_f7f7b2b3d2c7row5_col0 {\n",
       "            color: darkorange;\n",
       "            border-collapse:  collapse;\n",
       "        }    #T_e2a14646_d416_11e9_acf1_f7f7b2b3d2c7row5_col1 {\n",
       "            border-collapse:  collapse;\n",
       "        }    #T_e2a14646_d416_11e9_acf1_f7f7b2b3d2c7row5_col2 {\n",
       "            color:  black;\n",
       "            border-collapse:  collapse;\n",
       "        }    #T_e2a14646_d416_11e9_acf1_f7f7b2b3d2c7row5_col3 {\n",
       "            border-collapse:  collapse;\n",
       "        }    #T_e2a14646_d416_11e9_acf1_f7f7b2b3d2c7row6_col0 {\n",
       "            color:  black;\n",
       "            border-collapse:  collapse;\n",
       "        }    #T_e2a14646_d416_11e9_acf1_f7f7b2b3d2c7row6_col1 {\n",
       "            border-collapse:  collapse;\n",
       "        }    #T_e2a14646_d416_11e9_acf1_f7f7b2b3d2c7row6_col2 {\n",
       "            color: red;\n",
       "            border-collapse:  collapse;\n",
       "        }    #T_e2a14646_d416_11e9_acf1_f7f7b2b3d2c7row6_col3 {\n",
       "            border-collapse:  collapse;\n",
       "        }    #T_e2a14646_d416_11e9_acf1_f7f7b2b3d2c7row7_col0 {\n",
       "            color: darkorange;\n",
       "            border-collapse:  collapse;\n",
       "        }    #T_e2a14646_d416_11e9_acf1_f7f7b2b3d2c7row7_col1 {\n",
       "            border-collapse:  collapse;\n",
       "        }    #T_e2a14646_d416_11e9_acf1_f7f7b2b3d2c7row7_col2 {\n",
       "            color:  black;\n",
       "            border-collapse:  collapse;\n",
       "        }    #T_e2a14646_d416_11e9_acf1_f7f7b2b3d2c7row7_col3 {\n",
       "            border-collapse:  collapse;\n",
       "        }</style>  \n",
       "<table id=\"T_e2a14646_d416_11e9_acf1_f7f7b2b3d2c7\" > \n",
       "<thead>    <tr> \n",
       "        <th class=\"blank level0\" ></th> \n",
       "        <th class=\"col_heading level0 col0\" >East_Tm_Actual</th> \n",
       "        <th class=\"col_heading level0 col1\" >East_Actual_W</th> \n",
       "        <th class=\"col_heading level0 col2\" >East_Tm_Pred</th> \n",
       "        <th class=\"col_heading level0 col3\" >East_Pred_W</th> \n",
       "    </tr></thead> \n",
       "<tbody>    <tr> \n",
       "        <th id=\"T_e2a14646_d416_11e9_acf1_f7f7b2b3d2c7level0_row0\" class=\"row_heading level0 row0\" >1</th> \n",
       "        <td id=\"T_e2a14646_d416_11e9_acf1_f7f7b2b3d2c7row0_col0\" class=\"data row0 col0\" >MIL</td> \n",
       "        <td id=\"T_e2a14646_d416_11e9_acf1_f7f7b2b3d2c7row0_col1\" class=\"data row0 col1\" >60</td> \n",
       "        <td id=\"T_e2a14646_d416_11e9_acf1_f7f7b2b3d2c7row0_col2\" class=\"data row0 col2\" >MIL</td> \n",
       "        <td id=\"T_e2a14646_d416_11e9_acf1_f7f7b2b3d2c7row0_col3\" class=\"data row0 col3\" >60</td> \n",
       "    </tr>    <tr> \n",
       "        <th id=\"T_e2a14646_d416_11e9_acf1_f7f7b2b3d2c7level0_row1\" class=\"row_heading level0 row1\" >2</th> \n",
       "        <td id=\"T_e2a14646_d416_11e9_acf1_f7f7b2b3d2c7row1_col0\" class=\"data row1 col0\" >TOR</td> \n",
       "        <td id=\"T_e2a14646_d416_11e9_acf1_f7f7b2b3d2c7row1_col1\" class=\"data row1 col1\" >58</td> \n",
       "        <td id=\"T_e2a14646_d416_11e9_acf1_f7f7b2b3d2c7row1_col2\" class=\"data row1 col2\" >TOR</td> \n",
       "        <td id=\"T_e2a14646_d416_11e9_acf1_f7f7b2b3d2c7row1_col3\" class=\"data row1 col3\" >57</td> \n",
       "    </tr>    <tr> \n",
       "        <th id=\"T_e2a14646_d416_11e9_acf1_f7f7b2b3d2c7level0_row2\" class=\"row_heading level0 row2\" >3</th> \n",
       "        <td id=\"T_e2a14646_d416_11e9_acf1_f7f7b2b3d2c7row2_col0\" class=\"data row2 col0\" >PHI</td> \n",
       "        <td id=\"T_e2a14646_d416_11e9_acf1_f7f7b2b3d2c7row2_col1\" class=\"data row2 col1\" >51</td> \n",
       "        <td id=\"T_e2a14646_d416_11e9_acf1_f7f7b2b3d2c7row2_col2\" class=\"data row2 col2\" >BOS</td> \n",
       "        <td id=\"T_e2a14646_d416_11e9_acf1_f7f7b2b3d2c7row2_col3\" class=\"data row2 col3\" >55</td> \n",
       "    </tr>    <tr> \n",
       "        <th id=\"T_e2a14646_d416_11e9_acf1_f7f7b2b3d2c7level0_row3\" class=\"row_heading level0 row3\" >4</th> \n",
       "        <td id=\"T_e2a14646_d416_11e9_acf1_f7f7b2b3d2c7row3_col0\" class=\"data row3 col0\" >BOS</td> \n",
       "        <td id=\"T_e2a14646_d416_11e9_acf1_f7f7b2b3d2c7row3_col1\" class=\"data row3 col1\" >49</td> \n",
       "        <td id=\"T_e2a14646_d416_11e9_acf1_f7f7b2b3d2c7row3_col2\" class=\"data row3 col2\" >CHO</td> \n",
       "        <td id=\"T_e2a14646_d416_11e9_acf1_f7f7b2b3d2c7row3_col3\" class=\"data row3 col3\" >53</td> \n",
       "    </tr>    <tr> \n",
       "        <th id=\"T_e2a14646_d416_11e9_acf1_f7f7b2b3d2c7level0_row4\" class=\"row_heading level0 row4\" >5</th> \n",
       "        <td id=\"T_e2a14646_d416_11e9_acf1_f7f7b2b3d2c7row4_col0\" class=\"data row4 col0\" >IND</td> \n",
       "        <td id=\"T_e2a14646_d416_11e9_acf1_f7f7b2b3d2c7row4_col1\" class=\"data row4 col1\" >48</td> \n",
       "        <td id=\"T_e2a14646_d416_11e9_acf1_f7f7b2b3d2c7row4_col2\" class=\"data row4 col2\" >PHI</td> \n",
       "        <td id=\"T_e2a14646_d416_11e9_acf1_f7f7b2b3d2c7row4_col3\" class=\"data row4 col3\" >50</td> \n",
       "    </tr>    <tr> \n",
       "        <th id=\"T_e2a14646_d416_11e9_acf1_f7f7b2b3d2c7level0_row5\" class=\"row_heading level0 row5\" >6</th> \n",
       "        <td id=\"T_e2a14646_d416_11e9_acf1_f7f7b2b3d2c7row5_col0\" class=\"data row5 col0\" >BRK</td> \n",
       "        <td id=\"T_e2a14646_d416_11e9_acf1_f7f7b2b3d2c7row5_col1\" class=\"data row5 col1\" >42</td> \n",
       "        <td id=\"T_e2a14646_d416_11e9_acf1_f7f7b2b3d2c7row5_col2\" class=\"data row5 col2\" >IND</td> \n",
       "        <td id=\"T_e2a14646_d416_11e9_acf1_f7f7b2b3d2c7row5_col3\" class=\"data row5 col3\" >49</td> \n",
       "    </tr>    <tr> \n",
       "        <th id=\"T_e2a14646_d416_11e9_acf1_f7f7b2b3d2c7level0_row6\" class=\"row_heading level0 row6\" >7</th> \n",
       "        <td id=\"T_e2a14646_d416_11e9_acf1_f7f7b2b3d2c7row6_col0\" class=\"data row6 col0\" >ORL</td> \n",
       "        <td id=\"T_e2a14646_d416_11e9_acf1_f7f7b2b3d2c7row6_col1\" class=\"data row6 col1\" >42</td> \n",
       "        <td id=\"T_e2a14646_d416_11e9_acf1_f7f7b2b3d2c7row6_col2\" class=\"data row6 col2\" >WAS</td> \n",
       "        <td id=\"T_e2a14646_d416_11e9_acf1_f7f7b2b3d2c7row6_col3\" class=\"data row6 col3\" >48</td> \n",
       "    </tr>    <tr> \n",
       "        <th id=\"T_e2a14646_d416_11e9_acf1_f7f7b2b3d2c7level0_row7\" class=\"row_heading level0 row7\" >8</th> \n",
       "        <td id=\"T_e2a14646_d416_11e9_acf1_f7f7b2b3d2c7row7_col0\" class=\"data row7 col0\" >DET</td> \n",
       "        <td id=\"T_e2a14646_d416_11e9_acf1_f7f7b2b3d2c7row7_col1\" class=\"data row7 col1\" >41</td> \n",
       "        <td id=\"T_e2a14646_d416_11e9_acf1_f7f7b2b3d2c7row7_col2\" class=\"data row7 col2\" >ORL</td> \n",
       "        <td id=\"T_e2a14646_d416_11e9_acf1_f7f7b2b3d2c7row7_col3\" class=\"data row7 col3\" >48</td> \n",
       "    </tr></tbody> \n",
       "</table> "
      ],
      "text/plain": [
       "<pandas.io.formats.style.Styler at 0x1234c94e4e0>"
      ]
     },
     "execution_count": 91,
     "metadata": {},
     "output_type": "execute_result"
    }
   ],
   "source": [
    "# call get_table() function to get table\n",
    "east_df_tb = get_table(dataframe=east_df, conf_string='east')\n",
    "\n",
    "# show east_df_tb\n",
    "east_df_tb"
   ]
  },
  {
   "cell_type": "code",
   "execution_count": 92,
   "metadata": {},
   "outputs": [
    {
     "name": "stdout",
     "output_type": "stream",
     "text": [
      "Loading page (1/2)\r\n",
      "[>                                                           ] 0%\r",
      "[======>                                                     ] 10%\r",
      "[==============================>                             ] 50%\r",
      "[============================================================] 100%\r",
      "Rendering (2/2)                                                    \r\n",
      "[>                                                           ] 0%\r",
      "[===============>                                            ] 25%\r",
      "[============================================================] 100%\r",
      "Done                                                               \r\n"
     ]
    },
    {
     "data": {
      "text/plain": [
       "True"
      ]
     },
     "execution_count": 92,
     "metadata": {},
     "output_type": "execute_result"
    }
   ],
   "source": [
    "# call render_tb() function to convert & save dataframe table to .png file\n",
    "render_tb(east_df_tb, 'east')"
   ]
  },
  {
   "cell_type": "markdown",
   "metadata": {},
   "source": [
    "Combine West and East dataframes tables with highlighting of incorrect playoff team predictions vs actual playoff teams that should be in place of incorrect predictions."
   ]
  },
  {
   "cell_type": "code",
   "execution_count": 93,
   "metadata": {},
   "outputs": [
    {
     "data": {
      "text/html": [
       "<style  type=\"text/css\" >\n",
       "    #T_e31a45c6_d416_11e9_88f0_f7f7b2b3d2c7   {\n",
       "          border-collapse: collapse;\n",
       "          border-bottom: 1px solid black;\n",
       "          border-left: 1px solid black;\n",
       "          border-right: 1px solid black;\n",
       "          border-top: 1px solid black;\n",
       "    }    #T_e31a45c6_d416_11e9_88f0_f7f7b2b3d2c7 th {\n",
       "          text-align: center;\n",
       "          border-bottom: 1px solid black;\n",
       "          border-left: 1px solid black;\n",
       "          border-right: 1px solid black;\n",
       "          border-top: 1px solid black;\n",
       "    }    #T_e31a45c6_d416_11e9_88f0_f7f7b2b3d2c7 td {\n",
       "          text-align: center;\n",
       "          border-bottom: 1px solid black;\n",
       "          border-left: 1px solid black;\n",
       "          border-right: 1px solid black;\n",
       "          border-top: 1px solid black;\n",
       "    }    #T_e31a45c6_d416_11e9_88f0_f7f7b2b3d2c7row0_col0 {\n",
       "            color:  black;\n",
       "            border-collapse:  collapse;\n",
       "        }    #T_e31a45c6_d416_11e9_88f0_f7f7b2b3d2c7row0_col1 {\n",
       "            border-collapse:  collapse;\n",
       "        }    #T_e31a45c6_d416_11e9_88f0_f7f7b2b3d2c7row0_col2 {\n",
       "            color:  black;\n",
       "            border-collapse:  collapse;\n",
       "        }    #T_e31a45c6_d416_11e9_88f0_f7f7b2b3d2c7row0_col3 {\n",
       "            border-collapse:  collapse;\n",
       "        }    #T_e31a45c6_d416_11e9_88f0_f7f7b2b3d2c7row0_col4 {\n",
       "            color:  black;\n",
       "            border-collapse:  collapse;\n",
       "        }    #T_e31a45c6_d416_11e9_88f0_f7f7b2b3d2c7row0_col5 {\n",
       "            border-collapse:  collapse;\n",
       "        }    #T_e31a45c6_d416_11e9_88f0_f7f7b2b3d2c7row0_col6 {\n",
       "            color:  black;\n",
       "            border-collapse:  collapse;\n",
       "        }    #T_e31a45c6_d416_11e9_88f0_f7f7b2b3d2c7row0_col7 {\n",
       "            border-collapse:  collapse;\n",
       "        }    #T_e31a45c6_d416_11e9_88f0_f7f7b2b3d2c7row1_col0 {\n",
       "            color: darkorange;\n",
       "            border-collapse:  collapse;\n",
       "        }    #T_e31a45c6_d416_11e9_88f0_f7f7b2b3d2c7row1_col1 {\n",
       "            border-collapse:  collapse;\n",
       "        }    #T_e31a45c6_d416_11e9_88f0_f7f7b2b3d2c7row1_col2 {\n",
       "            color:  black;\n",
       "            border-collapse:  collapse;\n",
       "        }    #T_e31a45c6_d416_11e9_88f0_f7f7b2b3d2c7row1_col3 {\n",
       "            border-collapse:  collapse;\n",
       "        }    #T_e31a45c6_d416_11e9_88f0_f7f7b2b3d2c7row1_col4 {\n",
       "            color:  black;\n",
       "            border-collapse:  collapse;\n",
       "        }    #T_e31a45c6_d416_11e9_88f0_f7f7b2b3d2c7row1_col5 {\n",
       "            border-collapse:  collapse;\n",
       "        }    #T_e31a45c6_d416_11e9_88f0_f7f7b2b3d2c7row1_col6 {\n",
       "            color:  black;\n",
       "            border-collapse:  collapse;\n",
       "        }    #T_e31a45c6_d416_11e9_88f0_f7f7b2b3d2c7row1_col7 {\n",
       "            border-collapse:  collapse;\n",
       "        }    #T_e31a45c6_d416_11e9_88f0_f7f7b2b3d2c7row2_col0 {\n",
       "            color:  black;\n",
       "            border-collapse:  collapse;\n",
       "        }    #T_e31a45c6_d416_11e9_88f0_f7f7b2b3d2c7row2_col1 {\n",
       "            border-collapse:  collapse;\n",
       "        }    #T_e31a45c6_d416_11e9_88f0_f7f7b2b3d2c7row2_col2 {\n",
       "            color:  black;\n",
       "            border-collapse:  collapse;\n",
       "        }    #T_e31a45c6_d416_11e9_88f0_f7f7b2b3d2c7row2_col3 {\n",
       "            border-collapse:  collapse;\n",
       "        }    #T_e31a45c6_d416_11e9_88f0_f7f7b2b3d2c7row2_col4 {\n",
       "            color:  black;\n",
       "            border-collapse:  collapse;\n",
       "        }    #T_e31a45c6_d416_11e9_88f0_f7f7b2b3d2c7row2_col5 {\n",
       "            border-collapse:  collapse;\n",
       "        }    #T_e31a45c6_d416_11e9_88f0_f7f7b2b3d2c7row2_col6 {\n",
       "            color:  black;\n",
       "            border-collapse:  collapse;\n",
       "        }    #T_e31a45c6_d416_11e9_88f0_f7f7b2b3d2c7row2_col7 {\n",
       "            border-collapse:  collapse;\n",
       "        }    #T_e31a45c6_d416_11e9_88f0_f7f7b2b3d2c7row3_col0 {\n",
       "            color:  black;\n",
       "            border-collapse:  collapse;\n",
       "        }    #T_e31a45c6_d416_11e9_88f0_f7f7b2b3d2c7row3_col1 {\n",
       "            border-collapse:  collapse;\n",
       "        }    #T_e31a45c6_d416_11e9_88f0_f7f7b2b3d2c7row3_col2 {\n",
       "            color:  black;\n",
       "            border-collapse:  collapse;\n",
       "        }    #T_e31a45c6_d416_11e9_88f0_f7f7b2b3d2c7row3_col3 {\n",
       "            border-collapse:  collapse;\n",
       "        }    #T_e31a45c6_d416_11e9_88f0_f7f7b2b3d2c7row3_col4 {\n",
       "            color:  black;\n",
       "            border-collapse:  collapse;\n",
       "        }    #T_e31a45c6_d416_11e9_88f0_f7f7b2b3d2c7row3_col5 {\n",
       "            border-collapse:  collapse;\n",
       "        }    #T_e31a45c6_d416_11e9_88f0_f7f7b2b3d2c7row3_col6 {\n",
       "            color: red;\n",
       "            border-collapse:  collapse;\n",
       "        }    #T_e31a45c6_d416_11e9_88f0_f7f7b2b3d2c7row3_col7 {\n",
       "            border-collapse:  collapse;\n",
       "        }    #T_e31a45c6_d416_11e9_88f0_f7f7b2b3d2c7row4_col0 {\n",
       "            color:  black;\n",
       "            border-collapse:  collapse;\n",
       "        }    #T_e31a45c6_d416_11e9_88f0_f7f7b2b3d2c7row4_col1 {\n",
       "            border-collapse:  collapse;\n",
       "        }    #T_e31a45c6_d416_11e9_88f0_f7f7b2b3d2c7row4_col2 {\n",
       "            color:  black;\n",
       "            border-collapse:  collapse;\n",
       "        }    #T_e31a45c6_d416_11e9_88f0_f7f7b2b3d2c7row4_col3 {\n",
       "            border-collapse:  collapse;\n",
       "        }    #T_e31a45c6_d416_11e9_88f0_f7f7b2b3d2c7row4_col4 {\n",
       "            color:  black;\n",
       "            border-collapse:  collapse;\n",
       "        }    #T_e31a45c6_d416_11e9_88f0_f7f7b2b3d2c7row4_col5 {\n",
       "            border-collapse:  collapse;\n",
       "        }    #T_e31a45c6_d416_11e9_88f0_f7f7b2b3d2c7row4_col6 {\n",
       "            color:  black;\n",
       "            border-collapse:  collapse;\n",
       "        }    #T_e31a45c6_d416_11e9_88f0_f7f7b2b3d2c7row4_col7 {\n",
       "            border-collapse:  collapse;\n",
       "        }    #T_e31a45c6_d416_11e9_88f0_f7f7b2b3d2c7row5_col0 {\n",
       "            color: darkorange;\n",
       "            border-collapse:  collapse;\n",
       "        }    #T_e31a45c6_d416_11e9_88f0_f7f7b2b3d2c7row5_col1 {\n",
       "            border-collapse:  collapse;\n",
       "        }    #T_e31a45c6_d416_11e9_88f0_f7f7b2b3d2c7row5_col2 {\n",
       "            color:  black;\n",
       "            border-collapse:  collapse;\n",
       "        }    #T_e31a45c6_d416_11e9_88f0_f7f7b2b3d2c7row5_col3 {\n",
       "            border-collapse:  collapse;\n",
       "        }    #T_e31a45c6_d416_11e9_88f0_f7f7b2b3d2c7row5_col4 {\n",
       "            color: darkorange;\n",
       "            border-collapse:  collapse;\n",
       "        }    #T_e31a45c6_d416_11e9_88f0_f7f7b2b3d2c7row5_col5 {\n",
       "            border-collapse:  collapse;\n",
       "        }    #T_e31a45c6_d416_11e9_88f0_f7f7b2b3d2c7row5_col6 {\n",
       "            color:  black;\n",
       "            border-collapse:  collapse;\n",
       "        }    #T_e31a45c6_d416_11e9_88f0_f7f7b2b3d2c7row5_col7 {\n",
       "            border-collapse:  collapse;\n",
       "        }    #T_e31a45c6_d416_11e9_88f0_f7f7b2b3d2c7row6_col0 {\n",
       "            color:  black;\n",
       "            border-collapse:  collapse;\n",
       "        }    #T_e31a45c6_d416_11e9_88f0_f7f7b2b3d2c7row6_col1 {\n",
       "            border-collapse:  collapse;\n",
       "        }    #T_e31a45c6_d416_11e9_88f0_f7f7b2b3d2c7row6_col2 {\n",
       "            color: red;\n",
       "            border-collapse:  collapse;\n",
       "        }    #T_e31a45c6_d416_11e9_88f0_f7f7b2b3d2c7row6_col3 {\n",
       "            border-collapse:  collapse;\n",
       "        }    #T_e31a45c6_d416_11e9_88f0_f7f7b2b3d2c7row6_col4 {\n",
       "            color:  black;\n",
       "            border-collapse:  collapse;\n",
       "        }    #T_e31a45c6_d416_11e9_88f0_f7f7b2b3d2c7row6_col5 {\n",
       "            border-collapse:  collapse;\n",
       "        }    #T_e31a45c6_d416_11e9_88f0_f7f7b2b3d2c7row6_col6 {\n",
       "            color: red;\n",
       "            border-collapse:  collapse;\n",
       "        }    #T_e31a45c6_d416_11e9_88f0_f7f7b2b3d2c7row6_col7 {\n",
       "            border-collapse:  collapse;\n",
       "        }    #T_e31a45c6_d416_11e9_88f0_f7f7b2b3d2c7row7_col0 {\n",
       "            color:  black;\n",
       "            border-collapse:  collapse;\n",
       "        }    #T_e31a45c6_d416_11e9_88f0_f7f7b2b3d2c7row7_col1 {\n",
       "            border-collapse:  collapse;\n",
       "        }    #T_e31a45c6_d416_11e9_88f0_f7f7b2b3d2c7row7_col2 {\n",
       "            color: red;\n",
       "            border-collapse:  collapse;\n",
       "        }    #T_e31a45c6_d416_11e9_88f0_f7f7b2b3d2c7row7_col3 {\n",
       "            border-collapse:  collapse;\n",
       "        }    #T_e31a45c6_d416_11e9_88f0_f7f7b2b3d2c7row7_col4 {\n",
       "            color: darkorange;\n",
       "            border-collapse:  collapse;\n",
       "        }    #T_e31a45c6_d416_11e9_88f0_f7f7b2b3d2c7row7_col5 {\n",
       "            border-collapse:  collapse;\n",
       "        }    #T_e31a45c6_d416_11e9_88f0_f7f7b2b3d2c7row7_col6 {\n",
       "            color:  black;\n",
       "            border-collapse:  collapse;\n",
       "        }    #T_e31a45c6_d416_11e9_88f0_f7f7b2b3d2c7row7_col7 {\n",
       "            border-collapse:  collapse;\n",
       "        }</style>  \n",
       "<table id=\"T_e31a45c6_d416_11e9_88f0_f7f7b2b3d2c7\" > \n",
       "<thead>    <tr> \n",
       "        <th class=\"blank level0\" ></th> \n",
       "        <th class=\"col_heading level0 col0\" >West_Tm_Actual</th> \n",
       "        <th class=\"col_heading level0 col1\" >West_Actual_W</th> \n",
       "        <th class=\"col_heading level0 col2\" >West_Tm_Pred</th> \n",
       "        <th class=\"col_heading level0 col3\" >West_Pred_W</th> \n",
       "        <th class=\"col_heading level0 col4\" >East_Tm_Actual</th> \n",
       "        <th class=\"col_heading level0 col5\" >East_Actual_W</th> \n",
       "        <th class=\"col_heading level0 col6\" >East_Tm_Pred</th> \n",
       "        <th class=\"col_heading level0 col7\" >East_Pred_W</th> \n",
       "    </tr></thead> \n",
       "<tbody>    <tr> \n",
       "        <th id=\"T_e31a45c6_d416_11e9_88f0_f7f7b2b3d2c7level0_row0\" class=\"row_heading level0 row0\" >1</th> \n",
       "        <td id=\"T_e31a45c6_d416_11e9_88f0_f7f7b2b3d2c7row0_col0\" class=\"data row0 col0\" >GSW</td> \n",
       "        <td id=\"T_e31a45c6_d416_11e9_88f0_f7f7b2b3d2c7row0_col1\" class=\"data row0 col1\" >57</td> \n",
       "        <td id=\"T_e31a45c6_d416_11e9_88f0_f7f7b2b3d2c7row0_col2\" class=\"data row0 col2\" >GSW</td> \n",
       "        <td id=\"T_e31a45c6_d416_11e9_88f0_f7f7b2b3d2c7row0_col3\" class=\"data row0 col3\" >67</td> \n",
       "        <td id=\"T_e31a45c6_d416_11e9_88f0_f7f7b2b3d2c7row0_col4\" class=\"data row0 col4\" >MIL</td> \n",
       "        <td id=\"T_e31a45c6_d416_11e9_88f0_f7f7b2b3d2c7row0_col5\" class=\"data row0 col5\" >60</td> \n",
       "        <td id=\"T_e31a45c6_d416_11e9_88f0_f7f7b2b3d2c7row0_col6\" class=\"data row0 col6\" >MIL</td> \n",
       "        <td id=\"T_e31a45c6_d416_11e9_88f0_f7f7b2b3d2c7row0_col7\" class=\"data row0 col7\" >60</td> \n",
       "    </tr>    <tr> \n",
       "        <th id=\"T_e31a45c6_d416_11e9_88f0_f7f7b2b3d2c7level0_row1\" class=\"row_heading level0 row1\" >2</th> \n",
       "        <td id=\"T_e31a45c6_d416_11e9_88f0_f7f7b2b3d2c7row1_col0\" class=\"data row1 col0\" >DEN</td> \n",
       "        <td id=\"T_e31a45c6_d416_11e9_88f0_f7f7b2b3d2c7row1_col1\" class=\"data row1 col1\" >54</td> \n",
       "        <td id=\"T_e31a45c6_d416_11e9_88f0_f7f7b2b3d2c7row1_col2\" class=\"data row1 col2\" >SAS</td> \n",
       "        <td id=\"T_e31a45c6_d416_11e9_88f0_f7f7b2b3d2c7row1_col3\" class=\"data row1 col3\" >62</td> \n",
       "        <td id=\"T_e31a45c6_d416_11e9_88f0_f7f7b2b3d2c7row1_col4\" class=\"data row1 col4\" >TOR</td> \n",
       "        <td id=\"T_e31a45c6_d416_11e9_88f0_f7f7b2b3d2c7row1_col5\" class=\"data row1 col5\" >58</td> \n",
       "        <td id=\"T_e31a45c6_d416_11e9_88f0_f7f7b2b3d2c7row1_col6\" class=\"data row1 col6\" >TOR</td> \n",
       "        <td id=\"T_e31a45c6_d416_11e9_88f0_f7f7b2b3d2c7row1_col7\" class=\"data row1 col7\" >57</td> \n",
       "    </tr>    <tr> \n",
       "        <th id=\"T_e31a45c6_d416_11e9_88f0_f7f7b2b3d2c7level0_row2\" class=\"row_heading level0 row2\" >3</th> \n",
       "        <td id=\"T_e31a45c6_d416_11e9_88f0_f7f7b2b3d2c7row2_col0\" class=\"data row2 col0\" >HOU</td> \n",
       "        <td id=\"T_e31a45c6_d416_11e9_88f0_f7f7b2b3d2c7row2_col1\" class=\"data row2 col1\" >53</td> \n",
       "        <td id=\"T_e31a45c6_d416_11e9_88f0_f7f7b2b3d2c7row2_col2\" class=\"data row2 col2\" >HOU</td> \n",
       "        <td id=\"T_e31a45c6_d416_11e9_88f0_f7f7b2b3d2c7row2_col3\" class=\"data row2 col3\" >61</td> \n",
       "        <td id=\"T_e31a45c6_d416_11e9_88f0_f7f7b2b3d2c7row2_col4\" class=\"data row2 col4\" >PHI</td> \n",
       "        <td id=\"T_e31a45c6_d416_11e9_88f0_f7f7b2b3d2c7row2_col5\" class=\"data row2 col5\" >51</td> \n",
       "        <td id=\"T_e31a45c6_d416_11e9_88f0_f7f7b2b3d2c7row2_col6\" class=\"data row2 col6\" >BOS</td> \n",
       "        <td id=\"T_e31a45c6_d416_11e9_88f0_f7f7b2b3d2c7row2_col7\" class=\"data row2 col7\" >55</td> \n",
       "    </tr>    <tr> \n",
       "        <th id=\"T_e31a45c6_d416_11e9_88f0_f7f7b2b3d2c7level0_row3\" class=\"row_heading level0 row3\" >4</th> \n",
       "        <td id=\"T_e31a45c6_d416_11e9_88f0_f7f7b2b3d2c7row3_col0\" class=\"data row3 col0\" >POR</td> \n",
       "        <td id=\"T_e31a45c6_d416_11e9_88f0_f7f7b2b3d2c7row3_col1\" class=\"data row3 col1\" >53</td> \n",
       "        <td id=\"T_e31a45c6_d416_11e9_88f0_f7f7b2b3d2c7row3_col2\" class=\"data row3 col2\" >UTA</td> \n",
       "        <td id=\"T_e31a45c6_d416_11e9_88f0_f7f7b2b3d2c7row3_col3\" class=\"data row3 col3\" >52</td> \n",
       "        <td id=\"T_e31a45c6_d416_11e9_88f0_f7f7b2b3d2c7row3_col4\" class=\"data row3 col4\" >BOS</td> \n",
       "        <td id=\"T_e31a45c6_d416_11e9_88f0_f7f7b2b3d2c7row3_col5\" class=\"data row3 col5\" >49</td> \n",
       "        <td id=\"T_e31a45c6_d416_11e9_88f0_f7f7b2b3d2c7row3_col6\" class=\"data row3 col6\" >CHO</td> \n",
       "        <td id=\"T_e31a45c6_d416_11e9_88f0_f7f7b2b3d2c7row3_col7\" class=\"data row3 col7\" >53</td> \n",
       "    </tr>    <tr> \n",
       "        <th id=\"T_e31a45c6_d416_11e9_88f0_f7f7b2b3d2c7level0_row4\" class=\"row_heading level0 row4\" >5</th> \n",
       "        <td id=\"T_e31a45c6_d416_11e9_88f0_f7f7b2b3d2c7row4_col0\" class=\"data row4 col0\" >UTA</td> \n",
       "        <td id=\"T_e31a45c6_d416_11e9_88f0_f7f7b2b3d2c7row4_col1\" class=\"data row4 col1\" >50</td> \n",
       "        <td id=\"T_e31a45c6_d416_11e9_88f0_f7f7b2b3d2c7row4_col2\" class=\"data row4 col2\" >POR</td> \n",
       "        <td id=\"T_e31a45c6_d416_11e9_88f0_f7f7b2b3d2c7row4_col3\" class=\"data row4 col3\" >51</td> \n",
       "        <td id=\"T_e31a45c6_d416_11e9_88f0_f7f7b2b3d2c7row4_col4\" class=\"data row4 col4\" >IND</td> \n",
       "        <td id=\"T_e31a45c6_d416_11e9_88f0_f7f7b2b3d2c7row4_col5\" class=\"data row4 col5\" >48</td> \n",
       "        <td id=\"T_e31a45c6_d416_11e9_88f0_f7f7b2b3d2c7row4_col6\" class=\"data row4 col6\" >PHI</td> \n",
       "        <td id=\"T_e31a45c6_d416_11e9_88f0_f7f7b2b3d2c7row4_col7\" class=\"data row4 col7\" >50</td> \n",
       "    </tr>    <tr> \n",
       "        <th id=\"T_e31a45c6_d416_11e9_88f0_f7f7b2b3d2c7level0_row5\" class=\"row_heading level0 row5\" >6</th> \n",
       "        <td id=\"T_e31a45c6_d416_11e9_88f0_f7f7b2b3d2c7row5_col0\" class=\"data row5 col0\" >OKC</td> \n",
       "        <td id=\"T_e31a45c6_d416_11e9_88f0_f7f7b2b3d2c7row5_col1\" class=\"data row5 col1\" >49</td> \n",
       "        <td id=\"T_e31a45c6_d416_11e9_88f0_f7f7b2b3d2c7row5_col2\" class=\"data row5 col2\" >LAC</td> \n",
       "        <td id=\"T_e31a45c6_d416_11e9_88f0_f7f7b2b3d2c7row5_col3\" class=\"data row5 col3\" >51</td> \n",
       "        <td id=\"T_e31a45c6_d416_11e9_88f0_f7f7b2b3d2c7row5_col4\" class=\"data row5 col4\" >BRK</td> \n",
       "        <td id=\"T_e31a45c6_d416_11e9_88f0_f7f7b2b3d2c7row5_col5\" class=\"data row5 col5\" >42</td> \n",
       "        <td id=\"T_e31a45c6_d416_11e9_88f0_f7f7b2b3d2c7row5_col6\" class=\"data row5 col6\" >IND</td> \n",
       "        <td id=\"T_e31a45c6_d416_11e9_88f0_f7f7b2b3d2c7row5_col7\" class=\"data row5 col7\" >49</td> \n",
       "    </tr>    <tr> \n",
       "        <th id=\"T_e31a45c6_d416_11e9_88f0_f7f7b2b3d2c7level0_row6\" class=\"row_heading level0 row6\" >7</th> \n",
       "        <td id=\"T_e31a45c6_d416_11e9_88f0_f7f7b2b3d2c7row6_col0\" class=\"data row6 col0\" >LAC</td> \n",
       "        <td id=\"T_e31a45c6_d416_11e9_88f0_f7f7b2b3d2c7row6_col1\" class=\"data row6 col1\" >48</td> \n",
       "        <td id=\"T_e31a45c6_d416_11e9_88f0_f7f7b2b3d2c7row6_col2\" class=\"data row6 col2\" >MIN</td> \n",
       "        <td id=\"T_e31a45c6_d416_11e9_88f0_f7f7b2b3d2c7row6_col3\" class=\"data row6 col3\" >48</td> \n",
       "        <td id=\"T_e31a45c6_d416_11e9_88f0_f7f7b2b3d2c7row6_col4\" class=\"data row6 col4\" >ORL</td> \n",
       "        <td id=\"T_e31a45c6_d416_11e9_88f0_f7f7b2b3d2c7row6_col5\" class=\"data row6 col5\" >42</td> \n",
       "        <td id=\"T_e31a45c6_d416_11e9_88f0_f7f7b2b3d2c7row6_col6\" class=\"data row6 col6\" >WAS</td> \n",
       "        <td id=\"T_e31a45c6_d416_11e9_88f0_f7f7b2b3d2c7row6_col7\" class=\"data row6 col7\" >48</td> \n",
       "    </tr>    <tr> \n",
       "        <th id=\"T_e31a45c6_d416_11e9_88f0_f7f7b2b3d2c7level0_row7\" class=\"row_heading level0 row7\" >8</th> \n",
       "        <td id=\"T_e31a45c6_d416_11e9_88f0_f7f7b2b3d2c7row7_col0\" class=\"data row7 col0\" >SAS</td> \n",
       "        <td id=\"T_e31a45c6_d416_11e9_88f0_f7f7b2b3d2c7row7_col1\" class=\"data row7 col1\" >48</td> \n",
       "        <td id=\"T_e31a45c6_d416_11e9_88f0_f7f7b2b3d2c7row7_col2\" class=\"data row7 col2\" >MEM</td> \n",
       "        <td id=\"T_e31a45c6_d416_11e9_88f0_f7f7b2b3d2c7row7_col3\" class=\"data row7 col3\" >46</td> \n",
       "        <td id=\"T_e31a45c6_d416_11e9_88f0_f7f7b2b3d2c7row7_col4\" class=\"data row7 col4\" >DET</td> \n",
       "        <td id=\"T_e31a45c6_d416_11e9_88f0_f7f7b2b3d2c7row7_col5\" class=\"data row7 col5\" >41</td> \n",
       "        <td id=\"T_e31a45c6_d416_11e9_88f0_f7f7b2b3d2c7row7_col6\" class=\"data row7 col6\" >ORL</td> \n",
       "        <td id=\"T_e31a45c6_d416_11e9_88f0_f7f7b2b3d2c7row7_col7\" class=\"data row7 col7\" >48</td> \n",
       "    </tr></tbody> \n",
       "</table> "
      ],
      "text/plain": [
       "<pandas.io.formats.style.Styler at 0x1234c954390>"
      ]
     },
     "execution_count": 93,
     "metadata": {},
     "output_type": "execute_result"
    }
   ],
   "source": [
    "# call get_west_east() function to combine new dataframe table\n",
    "combined_tb = get_west_east(west_df, east_df, 'west','east')\n",
    "\n",
    "# show west_east_tb\n",
    "combined_tb"
   ]
  },
  {
   "cell_type": "markdown",
   "metadata": {},
   "source": [
    "We can see from the table above that the model correctly predicted 12 of the 16 playoff teams. However, the model did not predict wins values well at all and was only able to accurately predict the playoff standing (i.e. playoff position ranking) of 4 teams &mdash; Golden State Warriors (GSW), Houston Rockets (HOU), Milwaukee Bucks (MIL), Toronto Raptors (TOR)."
   ]
  },
  {
   "cell_type": "code",
   "execution_count": 94,
   "metadata": {},
   "outputs": [
    {
     "name": "stdout",
     "output_type": "stream",
     "text": [
      "Loading page (1/2)\r\n",
      "[>                                                           ] 0%\r",
      "[======>                                                     ] 10%\r",
      "[==============================>                             ] 50%\r",
      "[============================================================] 100%\r",
      "Rendering (2/2)                                                    \r\n",
      "[>                                                           ] 0%\r",
      "[===============>                                            ] 25%\r",
      "[============================================================] 100%\r",
      "Done                                                               \r\n"
     ]
    },
    {
     "data": {
      "text/plain": [
       "True"
      ]
     },
     "execution_count": 94,
     "metadata": {},
     "output_type": "execute_result"
    }
   ],
   "source": [
    "# call render_tb() function to convert & save dataframe table to .png file\n",
    "render_tb(combined_tb, 'west_east')"
   ]
  }
 ],
 "metadata": {
  "kernelspec": {
   "display_name": "Python 3",
   "language": "python",
   "name": "python3"
  },
  "language_info": {
   "codemirror_mode": {
    "name": "ipython",
    "version": 3
   },
   "file_extension": ".py",
   "mimetype": "text/x-python",
   "name": "python",
   "nbconvert_exporter": "python",
   "pygments_lexer": "ipython3",
   "version": "3.7.1"
  }
 },
 "nbformat": 4,
 "nbformat_minor": 2
}
