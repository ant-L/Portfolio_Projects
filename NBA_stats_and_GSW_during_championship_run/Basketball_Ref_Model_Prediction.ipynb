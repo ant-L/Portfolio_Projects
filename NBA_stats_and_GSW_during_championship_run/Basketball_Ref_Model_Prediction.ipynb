{
 "cells": [
  {
   "cell_type": "markdown",
   "metadata": {},
   "source": [
    "## NBA Statistics During Golden State Warriors (GSW) Championship Run Project - Model Prediction"
   ]
  },
  {
   "cell_type": "markdown",
   "metadata": {},
   "source": [
    "### Introduction:"
   ]
  },
  {
   "cell_type": "markdown",
   "metadata": {},
   "source": [
    "This section of the project utilizes the findings from the exploratory analysis section of the project to build a predictive model. The model will attempt to predict season performance (measured in wins) of NBA teams and thereby determine whether a team is able to make it into the playoffs.\n",
    "\n",
    "Imported libraries are Pandas, Numpy, Matplotlib, Seaborn, Scikit-Learn, Statsmodels along with select associated modules; in addition, the copy and plotting modules, and imgkit wrapper have been imported."
   ]
  },
  {
   "cell_type": "code",
   "execution_count": 1,
   "metadata": {},
   "outputs": [],
   "source": [
    "# Import libraries to perform split on data and linear regression model fitting\n",
    "import pandas as pd # library for data manipulation and analysis\n",
    "import numpy as np # library adding support for large arrays and matrices, including mathematical functions\n",
    "import matplotlib.pyplot as plt # library for general plotting of data\n",
    "import matplotlib.patches as mpatches # module to manipulate legend in graphs\n",
    "%matplotlib inline\n",
    "import copy # module for deep copy as needed\n",
    "from pandas.plotting import table as tb # module for plotting table\n",
    "\n",
    "# Machine learning algorithms and stats libraries \n",
    "from sklearn.model_selection import train_test_split # module to split data into train & test sets\n",
    "from sklearn.linear_model import LinearRegression # module to perform LinearRegression model fitting on data\n",
    "from sklearn.preprocessing import StandardScaler # module to perform preprocessing of data; scale data\n",
    "from sklearn import metrics # module to perform calculations for metrics of model\n",
    "import statsmodels.api as sm # stats library tool\n",
    "import statsmodels.formula.api as smf # module with R-style formulas"
   ]
  },
  {
   "cell_type": "code",
   "execution_count": 2,
   "metadata": {},
   "outputs": [],
   "source": [
    "# read in csv file to view data in pandas\n",
    "all_teams_df = pd.read_csv(\"all_teams_df_stats.csv\")"
   ]
  },
  {
   "cell_type": "code",
   "execution_count": 3,
   "metadata": {},
   "outputs": [
    {
     "data": {
      "text/html": [
       "<div>\n",
       "<style scoped>\n",
       "    .dataframe tbody tr th:only-of-type {\n",
       "        vertical-align: middle;\n",
       "    }\n",
       "\n",
       "    .dataframe tbody tr th {\n",
       "        vertical-align: top;\n",
       "    }\n",
       "\n",
       "    .dataframe thead th {\n",
       "        text-align: right;\n",
       "    }\n",
       "</style>\n",
       "<table border=\"1\" class=\"dataframe\">\n",
       "  <thead>\n",
       "    <tr style=\"text-align: right;\">\n",
       "      <th></th>\n",
       "      <th>Season</th>\n",
       "      <th>Tm</th>\n",
       "      <th>W</th>\n",
       "      <th>Age</th>\n",
       "      <th>3P</th>\n",
       "      <th>3P%</th>\n",
       "      <th>DRB</th>\n",
       "      <th>AST</th>\n",
       "      <th>BLK</th>\n",
       "      <th>AstTOVr</th>\n",
       "      <th>TS%</th>\n",
       "    </tr>\n",
       "  </thead>\n",
       "  <tbody>\n",
       "    <tr>\n",
       "      <th>0</th>\n",
       "      <td>2019</td>\n",
       "      <td>ATL</td>\n",
       "      <td>29</td>\n",
       "      <td>25.1</td>\n",
       "      <td>1067.0</td>\n",
       "      <td>0.352</td>\n",
       "      <td>2825.0</td>\n",
       "      <td>2118</td>\n",
       "      <td>419.0</td>\n",
       "      <td>1.516106</td>\n",
       "      <td>0.555335</td>\n",
       "    </tr>\n",
       "    <tr>\n",
       "      <th>1</th>\n",
       "      <td>2018</td>\n",
       "      <td>ATL</td>\n",
       "      <td>24</td>\n",
       "      <td>25.4</td>\n",
       "      <td>917.0</td>\n",
       "      <td>0.360</td>\n",
       "      <td>2693.0</td>\n",
       "      <td>1946</td>\n",
       "      <td>348.0</td>\n",
       "      <td>1.525078</td>\n",
       "      <td>0.547285</td>\n",
       "    </tr>\n",
       "    <tr>\n",
       "      <th>2</th>\n",
       "      <td>2017</td>\n",
       "      <td>ATL</td>\n",
       "      <td>43</td>\n",
       "      <td>27.9</td>\n",
       "      <td>729.0</td>\n",
       "      <td>0.341</td>\n",
       "      <td>2793.0</td>\n",
       "      <td>1938</td>\n",
       "      <td>397.0</td>\n",
       "      <td>1.497682</td>\n",
       "      <td>0.541192</td>\n",
       "    </tr>\n",
       "    <tr>\n",
       "      <th>3</th>\n",
       "      <td>2016</td>\n",
       "      <td>ATL</td>\n",
       "      <td>48</td>\n",
       "      <td>28.2</td>\n",
       "      <td>815.0</td>\n",
       "      <td>0.350</td>\n",
       "      <td>2772.0</td>\n",
       "      <td>2100</td>\n",
       "      <td>486.0</td>\n",
       "      <td>1.712887</td>\n",
       "      <td>0.551629</td>\n",
       "    </tr>\n",
       "    <tr>\n",
       "      <th>4</th>\n",
       "      <td>2015</td>\n",
       "      <td>ATL</td>\n",
       "      <td>60</td>\n",
       "      <td>27.8</td>\n",
       "      <td>818.0</td>\n",
       "      <td>0.380</td>\n",
       "      <td>2611.0</td>\n",
       "      <td>2111</td>\n",
       "      <td>380.0</td>\n",
       "      <td>1.808912</td>\n",
       "      <td>0.563425</td>\n",
       "    </tr>\n",
       "    <tr>\n",
       "      <th>5</th>\n",
       "      <td>2019</td>\n",
       "      <td>BOS</td>\n",
       "      <td>49</td>\n",
       "      <td>25.7</td>\n",
       "      <td>1032.0</td>\n",
       "      <td>0.365</td>\n",
       "      <td>2849.0</td>\n",
       "      <td>2155</td>\n",
       "      <td>435.0</td>\n",
       "      <td>2.048479</td>\n",
       "      <td>0.567060</td>\n",
       "    </tr>\n",
       "    <tr>\n",
       "      <th>6</th>\n",
       "      <td>2018</td>\n",
       "      <td>BOS</td>\n",
       "      <td>55</td>\n",
       "      <td>24.7</td>\n",
       "      <td>939.0</td>\n",
       "      <td>0.377</td>\n",
       "      <td>2878.0</td>\n",
       "      <td>1842</td>\n",
       "      <td>373.0</td>\n",
       "      <td>1.603133</td>\n",
       "      <td>0.552276</td>\n",
       "    </tr>\n",
       "    <tr>\n",
       "      <th>7</th>\n",
       "      <td>2017</td>\n",
       "      <td>BOS</td>\n",
       "      <td>53</td>\n",
       "      <td>25.9</td>\n",
       "      <td>985.0</td>\n",
       "      <td>0.359</td>\n",
       "      <td>2698.0</td>\n",
       "      <td>2069</td>\n",
       "      <td>340.0</td>\n",
       "      <td>1.901654</td>\n",
       "      <td>0.566643</td>\n",
       "    </tr>\n",
       "    <tr>\n",
       "      <th>8</th>\n",
       "      <td>2016</td>\n",
       "      <td>BOS</td>\n",
       "      <td>48</td>\n",
       "      <td>25.2</td>\n",
       "      <td>717.0</td>\n",
       "      <td>0.335</td>\n",
       "      <td>2733.0</td>\n",
       "      <td>1981</td>\n",
       "      <td>348.0</td>\n",
       "      <td>1.757764</td>\n",
       "      <td>0.530749</td>\n",
       "    </tr>\n",
       "    <tr>\n",
       "      <th>9</th>\n",
       "      <td>2015</td>\n",
       "      <td>BOS</td>\n",
       "      <td>40</td>\n",
       "      <td>25.0</td>\n",
       "      <td>660.0</td>\n",
       "      <td>0.327</td>\n",
       "      <td>2685.0</td>\n",
       "      <td>2009</td>\n",
       "      <td>294.0</td>\n",
       "      <td>1.773169</td>\n",
       "      <td>0.522812</td>\n",
       "    </tr>\n",
       "  </tbody>\n",
       "</table>\n",
       "</div>"
      ],
      "text/plain": [
       "   Season   Tm   W   Age      3P    3P%     DRB   AST    BLK   AstTOVr  \\\n",
       "0    2019  ATL  29  25.1  1067.0  0.352  2825.0  2118  419.0  1.516106   \n",
       "1    2018  ATL  24  25.4   917.0  0.360  2693.0  1946  348.0  1.525078   \n",
       "2    2017  ATL  43  27.9   729.0  0.341  2793.0  1938  397.0  1.497682   \n",
       "3    2016  ATL  48  28.2   815.0  0.350  2772.0  2100  486.0  1.712887   \n",
       "4    2015  ATL  60  27.8   818.0  0.380  2611.0  2111  380.0  1.808912   \n",
       "5    2019  BOS  49  25.7  1032.0  0.365  2849.0  2155  435.0  2.048479   \n",
       "6    2018  BOS  55  24.7   939.0  0.377  2878.0  1842  373.0  1.603133   \n",
       "7    2017  BOS  53  25.9   985.0  0.359  2698.0  2069  340.0  1.901654   \n",
       "8    2016  BOS  48  25.2   717.0  0.335  2733.0  1981  348.0  1.757764   \n",
       "9    2015  BOS  40  25.0   660.0  0.327  2685.0  2009  294.0  1.773169   \n",
       "\n",
       "        TS%  \n",
       "0  0.555335  \n",
       "1  0.547285  \n",
       "2  0.541192  \n",
       "3  0.551629  \n",
       "4  0.563425  \n",
       "5  0.567060  \n",
       "6  0.552276  \n",
       "7  0.566643  \n",
       "8  0.530749  \n",
       "9  0.522812  "
      ]
     },
     "execution_count": 3,
     "metadata": {},
     "output_type": "execute_result"
    }
   ],
   "source": [
    "# take a look at data frame\n",
    "all_teams_df.head(10)"
   ]
  },
  {
   "cell_type": "code",
   "execution_count": 4,
   "metadata": {
    "scrolled": true
   },
   "outputs": [
    {
     "name": "stdout",
     "output_type": "stream",
     "text": [
      "Season     False\n",
      "Tm         False\n",
      "W          False\n",
      "Age        False\n",
      "3P         False\n",
      "3P%        False\n",
      "DRB        False\n",
      "AST        False\n",
      "BLK        False\n",
      "AstTOVr    False\n",
      "TS%        False\n",
      "dtype: bool\n"
     ]
    }
   ],
   "source": [
    "# double check if any data is null\n",
    "print(all_teams_df.isnull().any())"
   ]
  },
  {
   "cell_type": "markdown",
   "metadata": {},
   "source": [
    "The statsmodels library doesn't properly interpret features with special characters (e.g. %) and that begin with numerical values &mdash; rename column names 3P, 3P%, TS%."
   ]
  },
  {
   "cell_type": "code",
   "execution_count": 5,
   "metadata": {},
   "outputs": [],
   "source": [
    "# change column names with special characters and that begin with numerical values\n",
    "all_teams_df.rename(columns={'3P':'ThreePT', '3P%':'ThreePCT', 'TS%':'TSpct'}, inplace=True)"
   ]
  },
  {
   "cell_type": "code",
   "execution_count": 6,
   "metadata": {
    "scrolled": true
   },
   "outputs": [
    {
     "name": "stdout",
     "output_type": "stream",
     "text": [
      "Index(['Season', 'Tm', 'W', 'Age', 'ThreePT', 'ThreePCT', 'DRB', 'AST', 'BLK',\n",
      "       'AstTOVr', 'TSpct'],\n",
      "      dtype='object')\n"
     ]
    }
   ],
   "source": [
    "# double check data frame\n",
    "print(all_teams_df.columns)"
   ]
  },
  {
   "cell_type": "code",
   "execution_count": 7,
   "metadata": {},
   "outputs": [],
   "source": [
    "# create two data frames seasons < 2019 and seasons == 2019\n",
    "\n",
    "# data frame to be used to fit model to train/test data\n",
    "model_data = all_teams_df[all_teams_df['Season']<2019].copy(deep=True)\n",
    "\n",
    "# data frame to be used to see how well model predicts new \"unseen\" data\n",
    "pred_model_data = all_teams_df[all_teams_df['Season']==2019].copy(deep=True)"
   ]
  },
  {
   "cell_type": "markdown",
   "metadata": {},
   "source": [
    "**Using the Scikit-Learn train_test_split algorithm, split the model_data data frame into training and testing sets to analyze feature selection.**"
   ]
  },
  {
   "cell_type": "code",
   "execution_count": 8,
   "metadata": {},
   "outputs": [],
   "source": [
    "# create X matrix & y vector data to split for training and testing\n",
    "X_data = model_data[['Age', 'ThreePT', 'ThreePCT', 'DRB', 'AST', 'BLK', 'AstTOVr', 'TSpct']]\n",
    "y_data = model_data['W']"
   ]
  },
  {
   "cell_type": "code",
   "execution_count": 9,
   "metadata": {},
   "outputs": [],
   "source": [
    "# split data into training and testing sets for X and y values\n",
    "# 70/30 split on data\n",
    "X_train, X_test, y_train, y_test = train_test_split(X_data, y_data, test_size=0.3, random_state=101)"
   ]
  },
  {
   "cell_type": "markdown",
   "metadata": {},
   "source": [
    "Since the statistics have different magnitudes of values, standardize them using StandardScaler."
   ]
  },
  {
   "cell_type": "code",
   "execution_count": 10,
   "metadata": {},
   "outputs": [],
   "source": [
    "# standardize the X train and test sets\n",
    "scaler = StandardScaler()\n",
    "stand_X_train = scaler.fit_transform(X_train.values)\n",
    "stand_X_test = scaler.transform(X_test.values)"
   ]
  },
  {
   "cell_type": "code",
   "execution_count": 11,
   "metadata": {},
   "outputs": [],
   "source": [
    "# convert standardized X_train data array to data frame\n",
    "train_model_df = pd.DataFrame(stand_X_train, index=X_train.index, columns=['Age', 'ThreePT', 'ThreePCT', 'DRB', 'AST', 'BLK', 'AstTOVr', 'TSpct'])\n",
    "\n",
    "# combine stand_X_train and y_train into one data frame for feature selection analysis\n",
    "train_model_df.insert(0, 'W', y_train, True)"
   ]
  },
  {
   "cell_type": "code",
   "execution_count": 12,
   "metadata": {
    "scrolled": false
   },
   "outputs": [
    {
     "data": {
      "text/html": [
       "<div>\n",
       "<style scoped>\n",
       "    .dataframe tbody tr th:only-of-type {\n",
       "        vertical-align: middle;\n",
       "    }\n",
       "\n",
       "    .dataframe tbody tr th {\n",
       "        vertical-align: top;\n",
       "    }\n",
       "\n",
       "    .dataframe thead th {\n",
       "        text-align: right;\n",
       "    }\n",
       "</style>\n",
       "<table border=\"1\" class=\"dataframe\">\n",
       "  <thead>\n",
       "    <tr style=\"text-align: right;\">\n",
       "      <th></th>\n",
       "      <th>W</th>\n",
       "      <th>Age</th>\n",
       "      <th>ThreePT</th>\n",
       "      <th>ThreePCT</th>\n",
       "      <th>DRB</th>\n",
       "      <th>AST</th>\n",
       "      <th>BLK</th>\n",
       "      <th>AstTOVr</th>\n",
       "      <th>TSpct</th>\n",
       "    </tr>\n",
       "  </thead>\n",
       "  <tbody>\n",
       "    <tr>\n",
       "      <th>4</th>\n",
       "      <td>60</td>\n",
       "      <td>0.574172</td>\n",
       "      <td>0.471696</td>\n",
       "      <td>1.419029</td>\n",
       "      <td>-1.049407</td>\n",
       "      <td>1.435433</td>\n",
       "      <td>-0.375074</td>\n",
       "      <td>1.204784</td>\n",
       "      <td>0.843416</td>\n",
       "    </tr>\n",
       "    <tr>\n",
       "      <th>53</th>\n",
       "      <td>41</td>\n",
       "      <td>0.574172</td>\n",
       "      <td>0.866080</td>\n",
       "      <td>-0.439926</td>\n",
       "      <td>-1.137338</td>\n",
       "      <td>-0.163211</td>\n",
       "      <td>0.391873</td>\n",
       "      <td>-1.075968</td>\n",
       "      <td>0.302557</td>\n",
       "    </tr>\n",
       "    <tr>\n",
       "      <th>101</th>\n",
       "      <td>48</td>\n",
       "      <td>0.310329</td>\n",
       "      <td>0.885799</td>\n",
       "      <td>-0.045602</td>\n",
       "      <td>-0.521825</td>\n",
       "      <td>-0.554604</td>\n",
       "      <td>0.115772</td>\n",
       "      <td>-0.349168</td>\n",
       "      <td>-0.008067</td>\n",
       "    </tr>\n",
       "    <tr>\n",
       "      <th>118</th>\n",
       "      <td>23</td>\n",
       "      <td>-0.375662</td>\n",
       "      <td>-0.054150</td>\n",
       "      <td>-0.383594</td>\n",
       "      <td>0.023343</td>\n",
       "      <td>-0.824720</td>\n",
       "      <td>-1.402782</td>\n",
       "      <td>-2.101449</td>\n",
       "      <td>-0.997961</td>\n",
       "    </tr>\n",
       "    <tr>\n",
       "      <th>73</th>\n",
       "      <td>42</td>\n",
       "      <td>1.998922</td>\n",
       "      <td>-1.592248</td>\n",
       "      <td>-1.341237</td>\n",
       "      <td>-2.051814</td>\n",
       "      <td>-0.846770</td>\n",
       "      <td>-0.835242</td>\n",
       "      <td>-0.178177</td>\n",
       "      <td>-1.102982</td>\n",
       "    </tr>\n",
       "  </tbody>\n",
       "</table>\n",
       "</div>"
      ],
      "text/plain": [
       "      W       Age   ThreePT  ThreePCT       DRB       AST       BLK   AstTOVr  \\\n",
       "4    60  0.574172  0.471696  1.419029 -1.049407  1.435433 -0.375074  1.204784   \n",
       "53   41  0.574172  0.866080 -0.439926 -1.137338 -0.163211  0.391873 -1.075968   \n",
       "101  48  0.310329  0.885799 -0.045602 -0.521825 -0.554604  0.115772 -0.349168   \n",
       "118  23 -0.375662 -0.054150 -0.383594  0.023343 -0.824720 -1.402782 -2.101449   \n",
       "73   42  1.998922 -1.592248 -1.341237 -2.051814 -0.846770 -0.835242 -0.178177   \n",
       "\n",
       "        TSpct  \n",
       "4    0.843416  \n",
       "53   0.302557  \n",
       "101 -0.008067  \n",
       "118 -0.997961  \n",
       "73  -1.102982  "
      ]
     },
     "execution_count": 12,
     "metadata": {},
     "output_type": "execute_result"
    }
   ],
   "source": [
    "# check data frame head\n",
    "train_model_df.head()"
   ]
  },
  {
   "cell_type": "code",
   "execution_count": 13,
   "metadata": {
    "scrolled": true
   },
   "outputs": [],
   "source": [
    "# convert stand_X_test data array to data frame; should have column headings similar to train_model_df for OLS model to predict values\n",
    "test_model_df = pd.DataFrame(stand_X_test, index=X_test.index, columns=['Age', 'ThreePT', 'ThreePCT', 'DRB', 'AST', 'BLK', 'AstTOVr', 'TSpct'])"
   ]
  },
  {
   "cell_type": "code",
   "execution_count": 14,
   "metadata": {},
   "outputs": [
    {
     "data": {
      "text/html": [
       "<div>\n",
       "<style scoped>\n",
       "    .dataframe tbody tr th:only-of-type {\n",
       "        vertical-align: middle;\n",
       "    }\n",
       "\n",
       "    .dataframe tbody tr th {\n",
       "        vertical-align: top;\n",
       "    }\n",
       "\n",
       "    .dataframe thead th {\n",
       "        text-align: right;\n",
       "    }\n",
       "</style>\n",
       "<table border=\"1\" class=\"dataframe\">\n",
       "  <thead>\n",
       "    <tr style=\"text-align: right;\">\n",
       "      <th></th>\n",
       "      <th>Age</th>\n",
       "      <th>ThreePT</th>\n",
       "      <th>ThreePCT</th>\n",
       "      <th>DRB</th>\n",
       "      <th>AST</th>\n",
       "      <th>BLK</th>\n",
       "      <th>AstTOVr</th>\n",
       "      <th>TSpct</th>\n",
       "    </tr>\n",
       "  </thead>\n",
       "  <tbody>\n",
       "    <tr>\n",
       "      <th>17</th>\n",
       "      <td>-0.111819</td>\n",
       "      <td>0.511134</td>\n",
       "      <td>-0.214598</td>\n",
       "      <td>1.078508</td>\n",
       "      <td>0.222668</td>\n",
       "      <td>-0.221684</td>\n",
       "      <td>2.294111</td>\n",
       "      <td>0.035754</td>\n",
       "    </tr>\n",
       "    <tr>\n",
       "      <th>86</th>\n",
       "      <td>0.204792</td>\n",
       "      <td>-0.579995</td>\n",
       "      <td>0.123394</td>\n",
       "      <td>-1.207682</td>\n",
       "      <td>0.057291</td>\n",
       "      <td>-0.911936</td>\n",
       "      <td>1.280569</td>\n",
       "      <td>0.966751</td>\n",
       "    </tr>\n",
       "    <tr>\n",
       "      <th>68</th>\n",
       "      <td>-0.111819</td>\n",
       "      <td>-0.704883</td>\n",
       "      <td>-2.129885</td>\n",
       "      <td>-0.750444</td>\n",
       "      <td>-2.054022</td>\n",
       "      <td>-1.034648</td>\n",
       "      <td>-1.505732</td>\n",
       "      <td>-1.887342</td>\n",
       "    </tr>\n",
       "    <tr>\n",
       "      <th>27</th>\n",
       "      <td>1.312931</td>\n",
       "      <td>2.108390</td>\n",
       "      <td>1.644357</td>\n",
       "      <td>0.797131</td>\n",
       "      <td>0.040754</td>\n",
       "      <td>-1.188037</td>\n",
       "      <td>0.373666</td>\n",
       "      <td>1.650317</td>\n",
       "    </tr>\n",
       "    <tr>\n",
       "      <th>84</th>\n",
       "      <td>-1.114421</td>\n",
       "      <td>-1.322752</td>\n",
       "      <td>0.461386</td>\n",
       "      <td>-1.374750</td>\n",
       "      <td>0.448684</td>\n",
       "      <td>-0.022278</td>\n",
       "      <td>-0.999856</td>\n",
       "      <td>-0.523413</td>\n",
       "    </tr>\n",
       "  </tbody>\n",
       "</table>\n",
       "</div>"
      ],
      "text/plain": [
       "         Age   ThreePT  ThreePCT       DRB       AST       BLK   AstTOVr  \\\n",
       "17 -0.111819  0.511134 -0.214598  1.078508  0.222668 -0.221684  2.294111   \n",
       "86  0.204792 -0.579995  0.123394 -1.207682  0.057291 -0.911936  1.280569   \n",
       "68 -0.111819 -0.704883 -2.129885 -0.750444 -2.054022 -1.034648 -1.505732   \n",
       "27  1.312931  2.108390  1.644357  0.797131  0.040754 -1.188037  0.373666   \n",
       "84 -1.114421 -1.322752  0.461386 -1.374750  0.448684 -0.022278 -0.999856   \n",
       "\n",
       "       TSpct  \n",
       "17  0.035754  \n",
       "86  0.966751  \n",
       "68 -1.887342  \n",
       "27  1.650317  \n",
       "84 -0.523413  "
      ]
     },
     "execution_count": 14,
     "metadata": {},
     "output_type": "execute_result"
    }
   ],
   "source": [
    "# check data frame head\n",
    "test_model_df.head()"
   ]
  },
  {
   "cell_type": "markdown",
   "metadata": {},
   "source": [
    "**Using the Statsmodels ordinary least squares (OLS) regression algorithm, evaluate which stats show significance &mdash; i.e. the relationship with wins.**"
   ]
  },
  {
   "cell_type": "code",
   "execution_count": 15,
   "metadata": {},
   "outputs": [],
   "source": [
    "# fit OLS regression model to data\n",
    "OLS_lm = smf.ols(formula='W ~ Age + ThreePT + ThreePCT + DRB + AST + BLK + AstTOVr + TSpct', data=train_model_df).fit()"
   ]
  },
  {
   "cell_type": "markdown",
   "metadata": {},
   "source": [
    "Take a look at the summary of the OLS regression model."
   ]
  },
  {
   "cell_type": "code",
   "execution_count": 16,
   "metadata": {
    "scrolled": true
   },
   "outputs": [
    {
     "data": {
      "text/html": [
       "<table class=\"simpletable\">\n",
       "<caption>OLS Regression Results</caption>\n",
       "<tr>\n",
       "  <th>Dep. Variable:</th>            <td>W</td>        <th>  R-squared:         </th> <td>   0.668</td>\n",
       "</tr>\n",
       "<tr>\n",
       "  <th>Model:</th>                   <td>OLS</td>       <th>  Adj. R-squared:    </th> <td>   0.632</td>\n",
       "</tr>\n",
       "<tr>\n",
       "  <th>Method:</th>             <td>Least Squares</td>  <th>  F-statistic:       </th> <td>   18.85</td>\n",
       "</tr>\n",
       "<tr>\n",
       "  <th>Date:</th>             <td>Thu, 15 Aug 2019</td> <th>  Prob (F-statistic):</th> <td>3.59e-15</td>\n",
       "</tr>\n",
       "<tr>\n",
       "  <th>Time:</th>                 <td>11:09:52</td>     <th>  Log-Likelihood:    </th> <td> -289.68</td>\n",
       "</tr>\n",
       "<tr>\n",
       "  <th>No. Observations:</th>      <td>    84</td>      <th>  AIC:               </th> <td>   597.4</td>\n",
       "</tr>\n",
       "<tr>\n",
       "  <th>Df Residuals:</th>          <td>    75</td>      <th>  BIC:               </th> <td>   619.2</td>\n",
       "</tr>\n",
       "<tr>\n",
       "  <th>Df Model:</th>              <td>     8</td>      <th>                     </th>     <td> </td>   \n",
       "</tr>\n",
       "<tr>\n",
       "  <th>Covariance Type:</th>      <td>nonrobust</td>    <th>                     </th>     <td> </td>   \n",
       "</tr>\n",
       "</table>\n",
       "<table class=\"simpletable\">\n",
       "<tr>\n",
       "      <td></td>         <th>coef</th>     <th>std err</th>      <th>t</th>      <th>P>|t|</th>  <th>[0.025</th>    <th>0.975]</th>  \n",
       "</tr>\n",
       "<tr>\n",
       "  <th>Intercept</th> <td>   41.6429</td> <td>    0.879</td> <td>   47.384</td> <td> 0.000</td> <td>   39.892</td> <td>   43.394</td>\n",
       "</tr>\n",
       "<tr>\n",
       "  <th>Age</th>       <td>    2.2426</td> <td>    1.133</td> <td>    1.979</td> <td> 0.052</td> <td>   -0.015</td> <td>    4.500</td>\n",
       "</tr>\n",
       "<tr>\n",
       "  <th>ThreePT</th>   <td>   -2.1118</td> <td>    1.311</td> <td>   -1.611</td> <td> 0.111</td> <td>   -4.723</td> <td>    0.500</td>\n",
       "</tr>\n",
       "<tr>\n",
       "  <th>ThreePCT</th>  <td>    2.5124</td> <td>    1.477</td> <td>    1.701</td> <td> 0.093</td> <td>   -0.431</td> <td>    5.455</td>\n",
       "</tr>\n",
       "<tr>\n",
       "  <th>DRB</th>       <td>    1.4050</td> <td>    1.062</td> <td>    1.322</td> <td> 0.190</td> <td>   -0.711</td> <td>    3.521</td>\n",
       "</tr>\n",
       "<tr>\n",
       "  <th>AST</th>       <td>   -4.6143</td> <td>    1.648</td> <td>   -2.800</td> <td> 0.006</td> <td>   -7.897</td> <td>   -1.332</td>\n",
       "</tr>\n",
       "<tr>\n",
       "  <th>BLK</th>       <td>    2.0803</td> <td>    1.011</td> <td>    2.057</td> <td> 0.043</td> <td>    0.066</td> <td>    4.095</td>\n",
       "</tr>\n",
       "<tr>\n",
       "  <th>AstTOVr</th>   <td>    4.5830</td> <td>    1.660</td> <td>    2.761</td> <td> 0.007</td> <td>    1.276</td> <td>    7.890</td>\n",
       "</tr>\n",
       "<tr>\n",
       "  <th>TSpct</th>     <td>    7.0175</td> <td>    1.718</td> <td>    4.086</td> <td> 0.000</td> <td>    3.596</td> <td>   10.439</td>\n",
       "</tr>\n",
       "</table>\n",
       "<table class=\"simpletable\">\n",
       "<tr>\n",
       "  <th>Omnibus:</th>       <td> 2.585</td> <th>  Durbin-Watson:     </th> <td>   2.105</td>\n",
       "</tr>\n",
       "<tr>\n",
       "  <th>Prob(Omnibus):</th> <td> 0.275</td> <th>  Jarque-Bera (JB):  </th> <td>   1.822</td>\n",
       "</tr>\n",
       "<tr>\n",
       "  <th>Skew:</th>          <td>-0.161</td> <th>  Prob(JB):          </th> <td>   0.402</td>\n",
       "</tr>\n",
       "<tr>\n",
       "  <th>Kurtosis:</th>      <td> 2.354</td> <th>  Cond. No.          </th> <td>    5.38</td>\n",
       "</tr>\n",
       "</table><br/><br/>Warnings:<br/>[1] Standard Errors assume that the covariance matrix of the errors is correctly specified."
      ],
      "text/plain": [
       "<class 'statsmodels.iolib.summary.Summary'>\n",
       "\"\"\"\n",
       "                            OLS Regression Results                            \n",
       "==============================================================================\n",
       "Dep. Variable:                      W   R-squared:                       0.668\n",
       "Model:                            OLS   Adj. R-squared:                  0.632\n",
       "Method:                 Least Squares   F-statistic:                     18.85\n",
       "Date:                Thu, 15 Aug 2019   Prob (F-statistic):           3.59e-15\n",
       "Time:                        11:09:52   Log-Likelihood:                -289.68\n",
       "No. Observations:                  84   AIC:                             597.4\n",
       "Df Residuals:                      75   BIC:                             619.2\n",
       "Df Model:                           8                                         \n",
       "Covariance Type:            nonrobust                                         \n",
       "==============================================================================\n",
       "                 coef    std err          t      P>|t|      [0.025      0.975]\n",
       "------------------------------------------------------------------------------\n",
       "Intercept     41.6429      0.879     47.384      0.000      39.892      43.394\n",
       "Age            2.2426      1.133      1.979      0.052      -0.015       4.500\n",
       "ThreePT       -2.1118      1.311     -1.611      0.111      -4.723       0.500\n",
       "ThreePCT       2.5124      1.477      1.701      0.093      -0.431       5.455\n",
       "DRB            1.4050      1.062      1.322      0.190      -0.711       3.521\n",
       "AST           -4.6143      1.648     -2.800      0.006      -7.897      -1.332\n",
       "BLK            2.0803      1.011      2.057      0.043       0.066       4.095\n",
       "AstTOVr        4.5830      1.660      2.761      0.007       1.276       7.890\n",
       "TSpct          7.0175      1.718      4.086      0.000       3.596      10.439\n",
       "==============================================================================\n",
       "Omnibus:                        2.585   Durbin-Watson:                   2.105\n",
       "Prob(Omnibus):                  0.275   Jarque-Bera (JB):                1.822\n",
       "Skew:                          -0.161   Prob(JB):                        0.402\n",
       "Kurtosis:                       2.354   Cond. No.                         5.38\n",
       "==============================================================================\n",
       "\n",
       "Warnings:\n",
       "[1] Standard Errors assume that the covariance matrix of the errors is correctly specified.\n",
       "\"\"\""
      ]
     },
     "execution_count": 16,
     "metadata": {},
     "output_type": "execute_result"
    }
   ],
   "source": [
    "# check summary of model\n",
    "OLS_lm.summary()"
   ]
  },
  {
   "cell_type": "code",
   "execution_count": 17,
   "metadata": {},
   "outputs": [
    {
     "data": {
      "image/png": "[encoded data removed]",
      "text/plain": [
       "<Figure size 864x504 with 1 Axes>"
      ]
     },
     "metadata": {
      "needs_background": "light"
     },
     "output_type": "display_data"
    }
   ],
   "source": [
    "# save OLS_lm summary as a figure\n",
    "plt.rc('figure', figsize=(12,7))\n",
    "plt.text(0.15,0.08, str(OLS_lm.summary()), {'fontsize':75}, fontproperties='monospace')\n",
    "plt.axis('off')\n",
    "plt.tight_layout()\n",
    "\n",
    "# plt.savefig('OLS_lm1.png')"
   ]
  },
  {
   "cell_type": "markdown",
   "metadata": {},
   "source": [
    "**Hypothesis Test**\n",
    "- **Null Hypothesis:** There is ***no*** relationship between the statistics &mdash; Age, ThreePT, ThreePCT, DRB, AST, BLK, AstTOVr, TSpct &mdash; and Wins.\n",
    "    - &beta;<sub>n</sub> equals zero\n",
    "- **Alternate Hypothesis:** There ***is*** a relationship between the statistics and Wins.\n",
    "    - &beta;<sub>n</sub> *is not* equal to zero"
   ]
  },
  {
   "cell_type": "markdown",
   "metadata": {},
   "source": [
    "**Testing Hypothesis**\n",
    "- **Reject the null hypothesis:**\n",
    "    - There *is* a relationship between the statistics &mdash; Age, ThreePT, ThreePCT, DRB, AST, BLK, AstTOVr, TSpct &mdash; and Wins.\n",
    "    - If the 95% confidence interval ***does not*** include a zero\n",
    "- **Fail to reject the null hypothesis:**\n",
    "    - There is **no** relationship between the statistics\n",
    "    - If the 95% confidence interval ***includes*** a zero"
   ]
  },
  {
   "cell_type": "markdown",
   "metadata": {},
   "source": [
    "Take a look at the 95% confidence interval for each &beta;<sub>1</sub>, &beta;<sub>2</sub>, ... ,&beta;<sub>n</sub> value."
   ]
  },
  {
   "cell_type": "code",
   "execution_count": 18,
   "metadata": {
    "scrolled": false
   },
   "outputs": [
    {
     "data": {
      "text/html": [
       "<div>\n",
       "<style scoped>\n",
       "    .dataframe tbody tr th:only-of-type {\n",
       "        vertical-align: middle;\n",
       "    }\n",
       "\n",
       "    .dataframe tbody tr th {\n",
       "        vertical-align: top;\n",
       "    }\n",
       "\n",
       "    .dataframe thead th {\n",
       "        text-align: right;\n",
       "    }\n",
       "</style>\n",
       "<table border=\"1\" class=\"dataframe\">\n",
       "  <thead>\n",
       "    <tr style=\"text-align: right;\">\n",
       "      <th></th>\n",
       "      <th>0</th>\n",
       "      <th>1</th>\n",
       "    </tr>\n",
       "  </thead>\n",
       "  <tbody>\n",
       "    <tr>\n",
       "      <th>Intercept</th>\n",
       "      <td>39.892130</td>\n",
       "      <td>43.393585</td>\n",
       "    </tr>\n",
       "    <tr>\n",
       "      <th>Age</th>\n",
       "      <td>-0.015111</td>\n",
       "      <td>4.500214</td>\n",
       "    </tr>\n",
       "    <tr>\n",
       "      <th>ThreePT</th>\n",
       "      <td>-4.723276</td>\n",
       "      <td>0.499739</td>\n",
       "    </tr>\n",
       "    <tr>\n",
       "      <th>ThreePCT</th>\n",
       "      <td>-0.430712</td>\n",
       "      <td>5.455442</td>\n",
       "    </tr>\n",
       "    <tr>\n",
       "      <th>DRB</th>\n",
       "      <td>-0.711406</td>\n",
       "      <td>3.521318</td>\n",
       "    </tr>\n",
       "    <tr>\n",
       "      <th>AST</th>\n",
       "      <td>-7.896932</td>\n",
       "      <td>-1.331703</td>\n",
       "    </tr>\n",
       "    <tr>\n",
       "      <th>BLK</th>\n",
       "      <td>0.065970</td>\n",
       "      <td>4.094617</td>\n",
       "    </tr>\n",
       "    <tr>\n",
       "      <th>AstTOVr</th>\n",
       "      <td>1.276047</td>\n",
       "      <td>7.889891</td>\n",
       "    </tr>\n",
       "    <tr>\n",
       "      <th>TSpct</th>\n",
       "      <td>3.595855</td>\n",
       "      <td>10.439161</td>\n",
       "    </tr>\n",
       "  </tbody>\n",
       "</table>\n",
       "</div>"
      ],
      "text/plain": [
       "                   0          1\n",
       "Intercept  39.892130  43.393585\n",
       "Age        -0.015111   4.500214\n",
       "ThreePT    -4.723276   0.499739\n",
       "ThreePCT   -0.430712   5.455442\n",
       "DRB        -0.711406   3.521318\n",
       "AST        -7.896932  -1.331703\n",
       "BLK         0.065970   4.094617\n",
       "AstTOVr     1.276047   7.889891\n",
       "TSpct       3.595855  10.439161"
      ]
     },
     "execution_count": 18,
     "metadata": {},
     "output_type": "execute_result"
    }
   ],
   "source": [
    "# check confidence interval\n",
    "OLS_lm.conf_int()"
   ]
  },
  {
   "cell_type": "code",
   "execution_count": 19,
   "metadata": {},
   "outputs": [
    {
     "data": {
      "text/plain": [
       "Text(0.5, 1.0, 'Confidence Interval')"
      ]
     },
     "execution_count": 19,
     "metadata": {},
     "output_type": "execute_result"
    },
    {
     "data": {
      "image/png": "[encoded data removed]",
      "text/plain": [
       "<Figure size 864x504 with 1 Axes>"
      ]
     },
     "metadata": {
      "needs_background": "light"
     },
     "output_type": "display_data"
    }
   ],
   "source": [
    "# save OLS_lm confidence interval as a figure\n",
    "axt1 = plt.subplot(frame_on=False)\n",
    "axt1.xaxis.set_visible(False)\n",
    "axt1.yaxis.set_visible(False)\n",
    "OLS_conf1_tb = tb(axt1, OLS_lm.conf_int().round(3), loc='center', bbox=[0,0,1,1])\n",
    "OLS_conf1_tb.auto_set_font_size(False)\n",
    "OLS_conf1_tb.set_fontsize(12)\n",
    "\n",
    "plt.title('Confidence Interval', loc='center')\n",
    "\n",
    "# plt.savefig('OLS_lm_conf1.png')"
   ]
  },
  {
   "cell_type": "markdown",
   "metadata": {},
   "source": [
    "Looking at the confidence interval (above), we can see that Age, ThreePT, ThreePCT, DRB include a zero in their respective confidence interval."
   ]
  },
  {
   "cell_type": "markdown",
   "metadata": {},
   "source": [
    "**Take a look at the p-value**\n",
    "- p-value < 0.05 are significant\n",
    "    - Reject the null\n",
    "    - There ***is*** a relationship\n",
    "- p-value > 0.05 are not significant\n",
    "    - Fail to reject the null\n",
    "    - There is ***no*** relationship"
   ]
  },
  {
   "cell_type": "code",
   "execution_count": 20,
   "metadata": {
    "scrolled": true
   },
   "outputs": [
    {
     "name": "stdout",
     "output_type": "stream",
     "text": [
      "Intercept    1.194164e-57\n",
      "Age          5.151381e-02\n",
      "ThreePT      1.114040e-01\n",
      "ThreePCT     9.316845e-02\n",
      "DRB          1.900319e-01\n",
      "AST          6.490116e-03\n",
      "BLK          4.312980e-02\n",
      "AstTOVr      7.244793e-03\n",
      "TSpct        1.090694e-04\n",
      "dtype: float64\n"
     ]
    }
   ],
   "source": [
    "# check p-value\n",
    "print(OLS_lm.pvalues)"
   ]
  },
  {
   "cell_type": "code",
   "execution_count": 21,
   "metadata": {},
   "outputs": [
    {
     "data": {
      "image/png": "[encoded data removed]",
      "text/plain": [
       "<Figure size 864x504 with 1 Axes>"
      ]
     },
     "metadata": {
      "needs_background": "light"
     },
     "output_type": "display_data"
    }
   ],
   "source": [
    "# save OLS_lm p-value as a figure\n",
    "axp1 = plt.subplot(frame_on=False)\n",
    "axp1.xaxis.set_visible(False)\n",
    "axp1.yaxis.set_visible(False)\n",
    "OLS_pval1_tb = tb(axp1, OLS_lm.pvalues.round(3), loc='center', bbox=[0.1,0,1,1], colLabels=['p-value'])\n",
    "OLS_pval1_tb.auto_set_font_size(False)\n",
    "OLS_pval1_tb.set_fontsize(12)\n",
    "\n",
    "# plt.savefig('OLS_lm_pval1.png')"
   ]
  },
  {
   "cell_type": "markdown",
   "metadata": {},
   "source": [
    "Looking at the p-value for each statistic (above), we can see that Age, ThreePT, ThreePCT, DRB have a p-value greater than 0.05."
   ]
  },
  {
   "cell_type": "markdown",
   "metadata": {},
   "source": [
    "Based on the information provided by the confidence interval and p-value for each statistic:\n",
    "- Age, ThreePT, ThreePCT, DRB each have a zero in their respective confidence interval\n",
    "- Age, ThreePT, ThreePCT, DRB each have a p-value > 0.05"
   ]
  },
  {
   "cell_type": "markdown",
   "metadata": {},
   "source": [
    "Take a look at how well the model predicts the \"unseen\" out-of-sample test set.\n",
    "- calculate **R-squared (R2)** and **Root Mean Square Error (RMSE)** to evaluate model prediction"
   ]
  },
  {
   "cell_type": "code",
   "execution_count": 22,
   "metadata": {
    "scrolled": true
   },
   "outputs": [],
   "source": [
    "# generate predicted values using OLS model\n",
    "OLS_pred_val = OLS_lm.predict(test_model_df)\n",
    "\n",
    "# calculate residual (i.e. errors) values between true and predicted values\n",
    "OLS_lm_resid = y_test-OLS_pred_val"
   ]
  },
  {
   "cell_type": "code",
   "execution_count": 23,
   "metadata": {},
   "outputs": [],
   "source": [
    "# calculate Sum of Squared Residuals (SSR) or Sum of Squared Errors (SSE)\n",
    "# measures discrepancy between data and model's predicted values; sum of squared errors of regression model\n",
    "OLS_SSE = sum(OLS_lm_resid**2)"
   ]
  },
  {
   "cell_type": "code",
   "execution_count": 24,
   "metadata": {
    "scrolled": true
   },
   "outputs": [],
   "source": [
    "# calculate Total Sum of Squares (TSS or SST)\n",
    "# measures discrepancy between data and baseline model's predicted values (i.e. mean); sum of squared errors of baseline model\n",
    "OLS_SST = sum((np.mean(y_train)-y_test)**2)"
   ]
  },
  {
   "cell_type": "code",
   "execution_count": 25,
   "metadata": {},
   "outputs": [
    {
     "name": "stdout",
     "output_type": "stream",
     "text": [
      "0.46014369914588105\n"
     ]
    }
   ],
   "source": [
    "# calculate R-squared to measure \"goodness of fit\"; how much variance in the response data does the model account for\n",
    "OLS_R2 = 1-(OLS_SSE/OLS_SST)\n",
    "print(OLS_R2)"
   ]
  },
  {
   "cell_type": "code",
   "execution_count": 26,
   "metadata": {
    "scrolled": true
   },
   "outputs": [
    {
     "name": "stdout",
     "output_type": "stream",
     "text": [
      "7.94026509304813\n"
     ]
    }
   ],
   "source": [
    "# calculate Root Mean Squared Error (RMSE) to measure standard deviation of residuals (i.e. prediction errors)\n",
    "OLS_RMSE = np.sqrt(OLS_SSE/len(y_test))\n",
    "print(OLS_RMSE)"
   ]
  },
  {
   "cell_type": "markdown",
   "metadata": {},
   "source": [
    "To see if we can improve on the model, let's refit the model by removing DRB since it has a zero in its confidence interval and the highest p-value, 0.19."
   ]
  },
  {
   "cell_type": "markdown",
   "metadata": {},
   "source": [
    "**Fit second OLS model with removal of DRB from features**"
   ]
  },
  {
   "cell_type": "code",
   "execution_count": 27,
   "metadata": {},
   "outputs": [],
   "source": [
    "# fit second OLS regression model to data; remove DRB from features\n",
    "OLS_lm2 = smf.ols(formula='W ~ Age + ThreePT + ThreePCT + AST + BLK + AstTOVr + TSpct', data=train_model_df).fit()"
   ]
  },
  {
   "cell_type": "code",
   "execution_count": 28,
   "metadata": {
    "scrolled": true
   },
   "outputs": [
    {
     "data": {
      "text/html": [
       "<table class=\"simpletable\">\n",
       "<caption>OLS Regression Results</caption>\n",
       "<tr>\n",
       "  <th>Dep. Variable:</th>            <td>W</td>        <th>  R-squared:         </th> <td>   0.660</td>\n",
       "</tr>\n",
       "<tr>\n",
       "  <th>Model:</th>                   <td>OLS</td>       <th>  Adj. R-squared:    </th> <td>   0.629</td>\n",
       "</tr>\n",
       "<tr>\n",
       "  <th>Method:</th>             <td>Least Squares</td>  <th>  F-statistic:       </th> <td>   21.08</td>\n",
       "</tr>\n",
       "<tr>\n",
       "  <th>Date:</th>             <td>Thu, 15 Aug 2019</td> <th>  Prob (F-statistic):</th> <td>1.71e-15</td>\n",
       "</tr>\n",
       "<tr>\n",
       "  <th>Time:</th>                 <td>11:10:15</td>     <th>  Log-Likelihood:    </th> <td> -290.64</td>\n",
       "</tr>\n",
       "<tr>\n",
       "  <th>No. Observations:</th>      <td>    84</td>      <th>  AIC:               </th> <td>   597.3</td>\n",
       "</tr>\n",
       "<tr>\n",
       "  <th>Df Residuals:</th>          <td>    76</td>      <th>  BIC:               </th> <td>   616.7</td>\n",
       "</tr>\n",
       "<tr>\n",
       "  <th>Df Model:</th>              <td>     7</td>      <th>                     </th>     <td> </td>   \n",
       "</tr>\n",
       "<tr>\n",
       "  <th>Covariance Type:</th>      <td>nonrobust</td>    <th>                     </th>     <td> </td>   \n",
       "</tr>\n",
       "</table>\n",
       "<table class=\"simpletable\">\n",
       "<tr>\n",
       "      <td></td>         <th>coef</th>     <th>std err</th>      <th>t</th>      <th>P>|t|</th>  <th>[0.025</th>    <th>0.975]</th>  \n",
       "</tr>\n",
       "<tr>\n",
       "  <th>Intercept</th> <td>   41.6429</td> <td>    0.883</td> <td>   47.152</td> <td> 0.000</td> <td>   39.884</td> <td>   43.402</td>\n",
       "</tr>\n",
       "<tr>\n",
       "  <th>Age</th>       <td>    2.2204</td> <td>    1.139</td> <td>    1.950</td> <td> 0.055</td> <td>   -0.048</td> <td>    4.488</td>\n",
       "</tr>\n",
       "<tr>\n",
       "  <th>ThreePT</th>   <td>   -1.5478</td> <td>    1.246</td> <td>   -1.243</td> <td> 0.218</td> <td>   -4.029</td> <td>    0.933</td>\n",
       "</tr>\n",
       "<tr>\n",
       "  <th>ThreePCT</th>  <td>    2.5636</td> <td>    1.484</td> <td>    1.727</td> <td> 0.088</td> <td>   -0.392</td> <td>    5.519</td>\n",
       "</tr>\n",
       "<tr>\n",
       "  <th>AST</th>       <td>   -4.6858</td> <td>    1.655</td> <td>   -2.831</td> <td> 0.006</td> <td>   -7.982</td> <td>   -1.390</td>\n",
       "</tr>\n",
       "<tr>\n",
       "  <th>BLK</th>       <td>    2.5230</td> <td>    0.959</td> <td>    2.631</td> <td> 0.010</td> <td>    0.613</td> <td>    4.433</td>\n",
       "</tr>\n",
       "<tr>\n",
       "  <th>AstTOVr</th>   <td>    4.8379</td> <td>    1.657</td> <td>    2.920</td> <td> 0.005</td> <td>    1.538</td> <td>    8.138</td>\n",
       "</tr>\n",
       "<tr>\n",
       "  <th>TSpct</th>     <td>    6.9581</td> <td>    1.725</td> <td>    4.033</td> <td> 0.000</td> <td>    3.522</td> <td>   10.395</td>\n",
       "</tr>\n",
       "</table>\n",
       "<table class=\"simpletable\">\n",
       "<tr>\n",
       "  <th>Omnibus:</th>       <td> 1.285</td> <th>  Durbin-Watson:     </th> <td>   2.176</td>\n",
       "</tr>\n",
       "<tr>\n",
       "  <th>Prob(Omnibus):</th> <td> 0.526</td> <th>  Jarque-Bera (JB):  </th> <td>   1.180</td>\n",
       "</tr>\n",
       "<tr>\n",
       "  <th>Skew:</th>          <td>-0.134</td> <th>  Prob(JB):          </th> <td>   0.554</td>\n",
       "</tr>\n",
       "<tr>\n",
       "  <th>Kurtosis:</th>      <td> 2.485</td> <th>  Cond. No.          </th> <td>    5.19</td>\n",
       "</tr>\n",
       "</table><br/><br/>Warnings:<br/>[1] Standard Errors assume that the covariance matrix of the errors is correctly specified."
      ],
      "text/plain": [
       "<class 'statsmodels.iolib.summary.Summary'>\n",
       "\"\"\"\n",
       "                            OLS Regression Results                            \n",
       "==============================================================================\n",
       "Dep. Variable:                      W   R-squared:                       0.660\n",
       "Model:                            OLS   Adj. R-squared:                  0.629\n",
       "Method:                 Least Squares   F-statistic:                     21.08\n",
       "Date:                Thu, 15 Aug 2019   Prob (F-statistic):           1.71e-15\n",
       "Time:                        11:10:15   Log-Likelihood:                -290.64\n",
       "No. Observations:                  84   AIC:                             597.3\n",
       "Df Residuals:                      76   BIC:                             616.7\n",
       "Df Model:                           7                                         \n",
       "Covariance Type:            nonrobust                                         \n",
       "==============================================================================\n",
       "                 coef    std err          t      P>|t|      [0.025      0.975]\n",
       "------------------------------------------------------------------------------\n",
       "Intercept     41.6429      0.883     47.152      0.000      39.884      43.402\n",
       "Age            2.2204      1.139      1.950      0.055      -0.048       4.488\n",
       "ThreePT       -1.5478      1.246     -1.243      0.218      -4.029       0.933\n",
       "ThreePCT       2.5636      1.484      1.727      0.088      -0.392       5.519\n",
       "AST           -4.6858      1.655     -2.831      0.006      -7.982      -1.390\n",
       "BLK            2.5230      0.959      2.631      0.010       0.613       4.433\n",
       "AstTOVr        4.8379      1.657      2.920      0.005       1.538       8.138\n",
       "TSpct          6.9581      1.725      4.033      0.000       3.522      10.395\n",
       "==============================================================================\n",
       "Omnibus:                        1.285   Durbin-Watson:                   2.176\n",
       "Prob(Omnibus):                  0.526   Jarque-Bera (JB):                1.180\n",
       "Skew:                          -0.134   Prob(JB):                        0.554\n",
       "Kurtosis:                       2.485   Cond. No.                         5.19\n",
       "==============================================================================\n",
       "\n",
       "Warnings:\n",
       "[1] Standard Errors assume that the covariance matrix of the errors is correctly specified.\n",
       "\"\"\""
      ]
     },
     "execution_count": 28,
     "metadata": {},
     "output_type": "execute_result"
    }
   ],
   "source": [
    "# check summary of model\n",
    "OLS_lm2.summary()"
   ]
  },
  {
   "cell_type": "code",
   "execution_count": 29,
   "metadata": {},
   "outputs": [
    {
     "data": {
      "image/png": "[encoded data removed]",
      "text/plain": [
       "<Figure size 864x504 with 1 Axes>"
      ]
     },
     "metadata": {
      "needs_background": "light"
     },
     "output_type": "display_data"
    }
   ],
   "source": [
    "# save OLS_lm2 summary as a figure\n",
    "plt.rc('figure', figsize=(12,7))\n",
    "plt.text(0.15,0.08, str(OLS_lm2.summary()), {'fontsize':75}, fontproperties='monospace')\n",
    "plt.axis('off')\n",
    "plt.tight_layout()\n",
    "\n",
    "# plt.savefig('OLS_lm2.png')"
   ]
  },
  {
   "cell_type": "code",
   "execution_count": 30,
   "metadata": {
    "scrolled": true
   },
   "outputs": [
    {
     "data": {
      "text/html": [
       "<div>\n",
       "<style scoped>\n",
       "    .dataframe tbody tr th:only-of-type {\n",
       "        vertical-align: middle;\n",
       "    }\n",
       "\n",
       "    .dataframe tbody tr th {\n",
       "        vertical-align: top;\n",
       "    }\n",
       "\n",
       "    .dataframe thead th {\n",
       "        text-align: right;\n",
       "    }\n",
       "</style>\n",
       "<table border=\"1\" class=\"dataframe\">\n",
       "  <thead>\n",
       "    <tr style=\"text-align: right;\">\n",
       "      <th></th>\n",
       "      <th>0</th>\n",
       "      <th>1</th>\n",
       "    </tr>\n",
       "  </thead>\n",
       "  <tbody>\n",
       "    <tr>\n",
       "      <th>Intercept</th>\n",
       "      <td>39.883904</td>\n",
       "      <td>43.401810</td>\n",
       "    </tr>\n",
       "    <tr>\n",
       "      <th>Age</th>\n",
       "      <td>-0.047594</td>\n",
       "      <td>4.488451</td>\n",
       "    </tr>\n",
       "    <tr>\n",
       "      <th>ThreePT</th>\n",
       "      <td>-4.028938</td>\n",
       "      <td>0.933245</td>\n",
       "    </tr>\n",
       "    <tr>\n",
       "      <th>ThreePCT</th>\n",
       "      <td>-0.392319</td>\n",
       "      <td>5.519459</td>\n",
       "    </tr>\n",
       "    <tr>\n",
       "      <th>AST</th>\n",
       "      <td>-7.982098</td>\n",
       "      <td>-1.389577</td>\n",
       "    </tr>\n",
       "    <tr>\n",
       "      <th>BLK</th>\n",
       "      <td>0.613361</td>\n",
       "      <td>4.432669</td>\n",
       "    </tr>\n",
       "    <tr>\n",
       "      <th>AstTOVr</th>\n",
       "      <td>1.537908</td>\n",
       "      <td>8.137874</td>\n",
       "    </tr>\n",
       "    <tr>\n",
       "      <th>TSpct</th>\n",
       "      <td>3.521563</td>\n",
       "      <td>10.394670</td>\n",
       "    </tr>\n",
       "  </tbody>\n",
       "</table>\n",
       "</div>"
      ],
      "text/plain": [
       "                   0          1\n",
       "Intercept  39.883904  43.401810\n",
       "Age        -0.047594   4.488451\n",
       "ThreePT    -4.028938   0.933245\n",
       "ThreePCT   -0.392319   5.519459\n",
       "AST        -7.982098  -1.389577\n",
       "BLK         0.613361   4.432669\n",
       "AstTOVr     1.537908   8.137874\n",
       "TSpct       3.521563  10.394670"
      ]
     },
     "execution_count": 30,
     "metadata": {},
     "output_type": "execute_result"
    }
   ],
   "source": [
    "# check confidence interval\n",
    "OLS_lm2.conf_int()"
   ]
  },
  {
   "cell_type": "code",
   "execution_count": 31,
   "metadata": {},
   "outputs": [
    {
     "data": {
      "text/plain": [
       "Text(0.5, 1.0, 'Confidence Interval')"
      ]
     },
     "execution_count": 31,
     "metadata": {},
     "output_type": "execute_result"
    },
    {
     "data": {
      "image/png": "[encoded data removed]",
      "text/plain": [
       "<Figure size 864x504 with 1 Axes>"
      ]
     },
     "metadata": {
      "needs_background": "light"
     },
     "output_type": "display_data"
    }
   ],
   "source": [
    "# save OLS_lm2 confidence interval as a figure\n",
    "axt2 = plt.subplot(frame_on=False)\n",
    "axt2.xaxis.set_visible(False)\n",
    "axt2.yaxis.set_visible(False)\n",
    "OLS_conf2_tb = tb(axt2, OLS_lm2.conf_int().round(3), loc='center', bbox=[0.1,0,1,1])\n",
    "OLS_conf2_tb.auto_set_font_size(False)\n",
    "OLS_conf2_tb.set_fontsize(12)\n",
    "\n",
    "plt.title('Confidence Interval', loc='center')\n",
    "\n",
    "# plt.savefig('OLS_lm_conf2.png')"
   ]
  },
  {
   "cell_type": "code",
   "execution_count": 32,
   "metadata": {
    "scrolled": false
   },
   "outputs": [
    {
     "name": "stdout",
     "output_type": "stream",
     "text": [
      "Intercept    4.978669e-58\n",
      "Age          5.487924e-02\n",
      "ThreePT      2.178653e-01\n",
      "ThreePCT     8.817073e-02\n",
      "AST          5.930091e-03\n",
      "BLK          1.029268e-02\n",
      "AstTOVr      4.606255e-03\n",
      "TSpct        1.300379e-04\n",
      "dtype: float64\n"
     ]
    }
   ],
   "source": [
    "# check p-value\n",
    "print(OLS_lm2.pvalues)"
   ]
  },
  {
   "cell_type": "code",
   "execution_count": 33,
   "metadata": {},
   "outputs": [
    {
     "data": {
      "image/png": "[encoded data removed]",
      "text/plain": [
       "<Figure size 864x504 with 1 Axes>"
      ]
     },
     "metadata": {
      "needs_background": "light"
     },
     "output_type": "display_data"
    }
   ],
   "source": [
    "# save OLS_lm2 p-value as a figure\n",
    "axp2 = plt.subplot(frame_on=False)\n",
    "axp2.xaxis.set_visible(False)\n",
    "axp2.yaxis.set_visible(False)\n",
    "OLS_pval2_tb = tb(axp2, OLS_lm2.pvalues.round(3), loc='center', bbox=[0.1,0,1,1], colLabels=['p-value'])\n",
    "OLS_pval2_tb.auto_set_font_size(False)\n",
    "OLS_pval2_tb.set_fontsize(12)\n",
    "\n",
    "# plt.savefig('OLS_lm_pval2.png')"
   ]
  },
  {
   "cell_type": "markdown",
   "metadata": {},
   "source": [
    "Taking a look at the summary, confidence interval, p-value of the second OLS model, we can see the following:\n",
    "\n",
    "**Confidence interval:**\n",
    "- Age, ThreePT, ThreePCT have a confidence interval which includes a zero\n",
    "\n",
    "**p-value:**\n",
    "- Age, ThreePT, ThreePCT have a p-value > 0.05"
   ]
  },
  {
   "cell_type": "markdown",
   "metadata": {},
   "source": [
    "Take a look at how well the second model predicts the \"unseen\" out-of-sample test set.\n",
    "- calculate **R-squared (R2)** and **Root Mean Square Error (RMSE)** to evaluate model prediction"
   ]
  },
  {
   "cell_type": "code",
   "execution_count": 34,
   "metadata": {},
   "outputs": [],
   "source": [
    "# generate predicted values using second OLS model\n",
    "OLS_pred_val2 = OLS_lm2.predict(test_model_df)\n",
    "\n",
    "# calculate residual (i.e. errors) values between true and predicted values\n",
    "OLS_lm_resid2 = y_test-OLS_pred_val2"
   ]
  },
  {
   "cell_type": "code",
   "execution_count": 35,
   "metadata": {},
   "outputs": [],
   "source": [
    "# calculate Sum of Squared Residuals (SSR) or Sum of Squared Errors (SSE)\n",
    "# measures discrepancy between data and model's predicted values; sum of squared errors of regression model\n",
    "OLS_SSE2 = sum(OLS_lm_resid2**2)"
   ]
  },
  {
   "cell_type": "code",
   "execution_count": 36,
   "metadata": {},
   "outputs": [
    {
     "name": "stdout",
     "output_type": "stream",
     "text": [
      "0.4123766214485727\n"
     ]
    }
   ],
   "source": [
    "# calculate R-squared to measure \"goodness of fit\"; how much variance in the response data does the model account for\n",
    "OLS2_R2 = 1-(OLS_SSE2/OLS_SST)\n",
    "print(OLS2_R2)"
   ]
  },
  {
   "cell_type": "code",
   "execution_count": 37,
   "metadata": {},
   "outputs": [
    {
     "name": "stdout",
     "output_type": "stream",
     "text": [
      "8.284102191242104\n"
     ]
    }
   ],
   "source": [
    "# calculate Root Mean Squared Error (RMSE) to measure standard deviation of residuals (i.e. prediction errors)\n",
    "OLS_RMSE2 = np.sqrt(OLS_SSE2/len(y_test))\n",
    "print(OLS_RMSE2)"
   ]
  },
  {
   "cell_type": "markdown",
   "metadata": {},
   "source": [
    "To see if we can improve on the model, let's refit the model by removing ThreePT since it has a zero in its confidence interval and the highest p-value, 0.218."
   ]
  },
  {
   "cell_type": "markdown",
   "metadata": {},
   "source": [
    "**Fit third OLS model with removal of ThreePT from features**"
   ]
  },
  {
   "cell_type": "code",
   "execution_count": 38,
   "metadata": {},
   "outputs": [],
   "source": [
    "# fit third OLS regression model to data; remove ThreePT from features\n",
    "OLS_lm3 = smf.ols(formula='W ~ Age + ThreePCT + AST + BLK + AstTOVr + TSpct', data=train_model_df).fit()"
   ]
  },
  {
   "cell_type": "code",
   "execution_count": 39,
   "metadata": {
    "scrolled": true
   },
   "outputs": [
    {
     "data": {
      "text/html": [
       "<table class=\"simpletable\">\n",
       "<caption>OLS Regression Results</caption>\n",
       "<tr>\n",
       "  <th>Dep. Variable:</th>            <td>W</td>        <th>  R-squared:         </th> <td>   0.653</td>\n",
       "</tr>\n",
       "<tr>\n",
       "  <th>Model:</th>                   <td>OLS</td>       <th>  Adj. R-squared:    </th> <td>   0.626</td>\n",
       "</tr>\n",
       "<tr>\n",
       "  <th>Method:</th>             <td>Least Squares</td>  <th>  F-statistic:       </th> <td>   24.17</td>\n",
       "</tr>\n",
       "<tr>\n",
       "  <th>Date:</th>             <td>Thu, 15 Aug 2019</td> <th>  Prob (F-statistic):</th> <td>6.92e-16</td>\n",
       "</tr>\n",
       "<tr>\n",
       "  <th>Time:</th>                 <td>11:10:32</td>     <th>  Log-Likelihood:    </th> <td> -291.49</td>\n",
       "</tr>\n",
       "<tr>\n",
       "  <th>No. Observations:</th>      <td>    84</td>      <th>  AIC:               </th> <td>   597.0</td>\n",
       "</tr>\n",
       "<tr>\n",
       "  <th>Df Residuals:</th>          <td>    77</td>      <th>  BIC:               </th> <td>   614.0</td>\n",
       "</tr>\n",
       "<tr>\n",
       "  <th>Df Model:</th>              <td>     6</td>      <th>                     </th>     <td> </td>   \n",
       "</tr>\n",
       "<tr>\n",
       "  <th>Covariance Type:</th>      <td>nonrobust</td>    <th>                     </th>     <td> </td>   \n",
       "</tr>\n",
       "</table>\n",
       "<table class=\"simpletable\">\n",
       "<tr>\n",
       "      <td></td>         <th>coef</th>     <th>std err</th>      <th>t</th>      <th>P>|t|</th>  <th>[0.025</th>    <th>0.975]</th>  \n",
       "</tr>\n",
       "<tr>\n",
       "  <th>Intercept</th> <td>   41.6429</td> <td>    0.886</td> <td>   46.987</td> <td> 0.000</td> <td>   39.878</td> <td>   43.408</td>\n",
       "</tr>\n",
       "<tr>\n",
       "  <th>Age</th>       <td>    2.4927</td> <td>    1.121</td> <td>    2.223</td> <td> 0.029</td> <td>    0.260</td> <td>    4.726</td>\n",
       "</tr>\n",
       "<tr>\n",
       "  <th>ThreePCT</th>  <td>    2.3135</td> <td>    1.476</td> <td>    1.568</td> <td> 0.121</td> <td>   -0.625</td> <td>    5.252</td>\n",
       "</tr>\n",
       "<tr>\n",
       "  <th>AST</th>       <td>   -4.8867</td> <td>    1.653</td> <td>   -2.956</td> <td> 0.004</td> <td>   -8.178</td> <td>   -1.595</td>\n",
       "</tr>\n",
       "<tr>\n",
       "  <th>BLK</th>       <td>    2.7563</td> <td>    0.944</td> <td>    2.921</td> <td> 0.005</td> <td>    0.877</td> <td>    4.635</td>\n",
       "</tr>\n",
       "<tr>\n",
       "  <th>AstTOVr</th>   <td>    4.9957</td> <td>    1.658</td> <td>    3.013</td> <td> 0.003</td> <td>    1.695</td> <td>    8.297</td>\n",
       "</tr>\n",
       "<tr>\n",
       "  <th>TSpct</th>     <td>    6.0115</td> <td>    1.554</td> <td>    3.869</td> <td> 0.000</td> <td>    2.918</td> <td>    9.105</td>\n",
       "</tr>\n",
       "</table>\n",
       "<table class=\"simpletable\">\n",
       "<tr>\n",
       "  <th>Omnibus:</th>       <td> 0.810</td> <th>  Durbin-Watson:     </th> <td>   2.201</td>\n",
       "</tr>\n",
       "<tr>\n",
       "  <th>Prob(Omnibus):</th> <td> 0.667</td> <th>  Jarque-Bera (JB):  </th> <td>   0.892</td>\n",
       "</tr>\n",
       "<tr>\n",
       "  <th>Skew:</th>          <td>-0.218</td> <th>  Prob(JB):          </th> <td>   0.640</td>\n",
       "</tr>\n",
       "<tr>\n",
       "  <th>Kurtosis:</th>      <td> 2.745</td> <th>  Cond. No.          </th> <td>    4.91</td>\n",
       "</tr>\n",
       "</table><br/><br/>Warnings:<br/>[1] Standard Errors assume that the covariance matrix of the errors is correctly specified."
      ],
      "text/plain": [
       "<class 'statsmodels.iolib.summary.Summary'>\n",
       "\"\"\"\n",
       "                            OLS Regression Results                            \n",
       "==============================================================================\n",
       "Dep. Variable:                      W   R-squared:                       0.653\n",
       "Model:                            OLS   Adj. R-squared:                  0.626\n",
       "Method:                 Least Squares   F-statistic:                     24.17\n",
       "Date:                Thu, 15 Aug 2019   Prob (F-statistic):           6.92e-16\n",
       "Time:                        11:10:32   Log-Likelihood:                -291.49\n",
       "No. Observations:                  84   AIC:                             597.0\n",
       "Df Residuals:                      77   BIC:                             614.0\n",
       "Df Model:                           6                                         \n",
       "Covariance Type:            nonrobust                                         \n",
       "==============================================================================\n",
       "                 coef    std err          t      P>|t|      [0.025      0.975]\n",
       "------------------------------------------------------------------------------\n",
       "Intercept     41.6429      0.886     46.987      0.000      39.878      43.408\n",
       "Age            2.4927      1.121      2.223      0.029       0.260       4.726\n",
       "ThreePCT       2.3135      1.476      1.568      0.121      -0.625       5.252\n",
       "AST           -4.8867      1.653     -2.956      0.004      -8.178      -1.595\n",
       "BLK            2.7563      0.944      2.921      0.005       0.877       4.635\n",
       "AstTOVr        4.9957      1.658      3.013      0.003       1.695       8.297\n",
       "TSpct          6.0115      1.554      3.869      0.000       2.918       9.105\n",
       "==============================================================================\n",
       "Omnibus:                        0.810   Durbin-Watson:                   2.201\n",
       "Prob(Omnibus):                  0.667   Jarque-Bera (JB):                0.892\n",
       "Skew:                          -0.218   Prob(JB):                        0.640\n",
       "Kurtosis:                       2.745   Cond. No.                         4.91\n",
       "==============================================================================\n",
       "\n",
       "Warnings:\n",
       "[1] Standard Errors assume that the covariance matrix of the errors is correctly specified.\n",
       "\"\"\""
      ]
     },
     "execution_count": 39,
     "metadata": {},
     "output_type": "execute_result"
    }
   ],
   "source": [
    "# check summary of model\n",
    "OLS_lm3.summary()"
   ]
  },
  {
   "cell_type": "code",
   "execution_count": 40,
   "metadata": {},
   "outputs": [
    {
     "data": {
      "image/png": "[encoded data removed]",
      "text/plain": [
       "<Figure size 864x504 with 1 Axes>"
      ]
     },
     "metadata": {
      "needs_background": "light"
     },
     "output_type": "display_data"
    }
   ],
   "source": [
    "# save OLS_lm3 summary as a figure\n",
    "plt.rc('figure', figsize=(12,7))\n",
    "plt.text(0.15,0.08, str(OLS_lm3.summary()), {'fontsize':75}, fontproperties='monospace')\n",
    "plt.axis('off')\n",
    "plt.tight_layout()\n",
    "\n",
    "# plt.savefig('OLS_lm3.png')"
   ]
  },
  {
   "cell_type": "code",
   "execution_count": 41,
   "metadata": {},
   "outputs": [
    {
     "data": {
      "text/html": [
       "<div>\n",
       "<style scoped>\n",
       "    .dataframe tbody tr th:only-of-type {\n",
       "        vertical-align: middle;\n",
       "    }\n",
       "\n",
       "    .dataframe tbody tr th {\n",
       "        vertical-align: top;\n",
       "    }\n",
       "\n",
       "    .dataframe thead th {\n",
       "        text-align: right;\n",
       "    }\n",
       "</style>\n",
       "<table border=\"1\" class=\"dataframe\">\n",
       "  <thead>\n",
       "    <tr style=\"text-align: right;\">\n",
       "      <th></th>\n",
       "      <th>0</th>\n",
       "      <th>1</th>\n",
       "    </tr>\n",
       "  </thead>\n",
       "  <tbody>\n",
       "    <tr>\n",
       "      <th>Intercept</th>\n",
       "      <td>39.878074</td>\n",
       "      <td>43.407640</td>\n",
       "    </tr>\n",
       "    <tr>\n",
       "      <th>Age</th>\n",
       "      <td>0.259710</td>\n",
       "      <td>4.725724</td>\n",
       "    </tr>\n",
       "    <tr>\n",
       "      <th>ThreePCT</th>\n",
       "      <td>-0.624798</td>\n",
       "      <td>5.251779</td>\n",
       "    </tr>\n",
       "    <tr>\n",
       "      <th>AST</th>\n",
       "      <td>-8.178090</td>\n",
       "      <td>-1.595353</td>\n",
       "    </tr>\n",
       "    <tr>\n",
       "      <th>BLK</th>\n",
       "      <td>0.877440</td>\n",
       "      <td>4.635208</td>\n",
       "    </tr>\n",
       "    <tr>\n",
       "      <th>AstTOVr</th>\n",
       "      <td>1.694534</td>\n",
       "      <td>8.296889</td>\n",
       "    </tr>\n",
       "    <tr>\n",
       "      <th>TSpct</th>\n",
       "      <td>2.917847</td>\n",
       "      <td>9.105084</td>\n",
       "    </tr>\n",
       "  </tbody>\n",
       "</table>\n",
       "</div>"
      ],
      "text/plain": [
       "                   0          1\n",
       "Intercept  39.878074  43.407640\n",
       "Age         0.259710   4.725724\n",
       "ThreePCT   -0.624798   5.251779\n",
       "AST        -8.178090  -1.595353\n",
       "BLK         0.877440   4.635208\n",
       "AstTOVr     1.694534   8.296889\n",
       "TSpct       2.917847   9.105084"
      ]
     },
     "execution_count": 41,
     "metadata": {},
     "output_type": "execute_result"
    }
   ],
   "source": [
    "# check confidence interval\n",
    "OLS_lm3.conf_int()"
   ]
  },
  {
   "cell_type": "code",
   "execution_count": 42,
   "metadata": {},
   "outputs": [
    {
     "data": {
      "text/plain": [
       "Text(0.5, 1.0, 'Confidence Interval')"
      ]
     },
     "execution_count": 42,
     "metadata": {},
     "output_type": "execute_result"
    },
    {
     "data": {
      "image/png": "[encoded data removed]",
      "text/plain": [
       "<Figure size 864x504 with 1 Axes>"
      ]
     },
     "metadata": {
      "needs_background": "light"
     },
     "output_type": "display_data"
    }
   ],
   "source": [
    "# save OLS_lm3 confidence interval as a figure\n",
    "axt3 = plt.subplot(frame_on=False)\n",
    "axt3.xaxis.set_visible(False)\n",
    "axt3.yaxis.set_visible(False)\n",
    "OLS_conf3_tb = tb(axt3, OLS_lm3.conf_int().round(3), loc='center', bbox=[0.1,0,1,1])\n",
    "OLS_conf3_tb.auto_set_font_size(False)\n",
    "OLS_conf3_tb.set_fontsize(12)\n",
    "\n",
    "plt.title('Confidence Interval', loc='center')\n",
    "\n",
    "# plt.savefig('OLS_lm_conf3.png')"
   ]
  },
  {
   "cell_type": "code",
   "execution_count": 43,
   "metadata": {
    "scrolled": true
   },
   "outputs": [
    {
     "name": "stdout",
     "output_type": "stream",
     "text": [
      "Intercept    1.901383e-58\n",
      "Age          2.915982e-02\n",
      "ThreePCT     1.210206e-01\n",
      "AST          4.129638e-03\n",
      "BLK          4.573637e-03\n",
      "AstTOVr      3.495817e-03\n",
      "TSpct        2.269031e-04\n",
      "dtype: float64\n"
     ]
    }
   ],
   "source": [
    "# check p-value\n",
    "print(OLS_lm3.pvalues)"
   ]
  },
  {
   "cell_type": "code",
   "execution_count": 44,
   "metadata": {},
   "outputs": [
    {
     "data": {
      "image/png": "[encoded data removed]",
      "text/plain": [
       "<Figure size 864x504 with 1 Axes>"
      ]
     },
     "metadata": {
      "needs_background": "light"
     },
     "output_type": "display_data"
    }
   ],
   "source": [
    "# save OLS_lm3 p-value as a figure\n",
    "axp3 = plt.subplot(frame_on=False)\n",
    "axp3.xaxis.set_visible(False)\n",
    "axp3.yaxis.set_visible(False)\n",
    "OLS_pval3_tb = tb(axp3, OLS_lm3.pvalues.round(3), loc='center', bbox=[0.1,0,1,1], colLabels=['p-value'])\n",
    "OLS_pval3_tb.auto_set_font_size(False)\n",
    "OLS_pval3_tb.set_fontsize(12)\n",
    "\n",
    "# plt.savefig('OLS_lm_pval3.png')"
   ]
  },
  {
   "cell_type": "markdown",
   "metadata": {},
   "source": [
    "Taking a look at the summary, confidence interval, p-value of the third OLS model, we can see the following:\n",
    "\n",
    "**Confidence interval:**\n",
    "- ThreePCT has a confidence interval which includes a zero\n",
    "\n",
    "**p-value:**\n",
    "- ThreePCT has a p-value > 0.05 "
   ]
  },
  {
   "cell_type": "markdown",
   "metadata": {},
   "source": [
    "Take a look at how well the third model predicts the \"unseen\" out-of-sample test set.\n",
    "- calculate **R-squared (R2)** and **Root Mean Square Error (RMSE)** to evaluate model prediction"
   ]
  },
  {
   "cell_type": "code",
   "execution_count": 45,
   "metadata": {},
   "outputs": [],
   "source": [
    "# generate predicted values using third OLS model\n",
    "OLS_pred_val3 = OLS_lm3.predict(test_model_df)\n",
    "\n",
    "# calculate residual (i.e. errors) values between true and predicted values\n",
    "OLS_lm_resid3 = y_test-OLS_pred_val3"
   ]
  },
  {
   "cell_type": "code",
   "execution_count": 46,
   "metadata": {},
   "outputs": [],
   "source": [
    "# calculate Sum of Squared Residuals (SSR) or Sum of Squared Errors (SSE)\n",
    "# measures discrepancy between data and model's predicted values; sum of squared errors of regression model\n",
    "OLS_SSE3 = sum(OLS_lm_resid3**2)"
   ]
  },
  {
   "cell_type": "code",
   "execution_count": 47,
   "metadata": {},
   "outputs": [
    {
     "name": "stdout",
     "output_type": "stream",
     "text": [
      "0.4373785151125201\n"
     ]
    }
   ],
   "source": [
    "# calculate R-squared to measure \"goodness of fit\"; how much variance in the response data does the model account for\n",
    "OLS3_R2 = 1-(OLS_SSE3/OLS_SST)\n",
    "print(OLS3_R2)"
   ]
  },
  {
   "cell_type": "code",
   "execution_count": 48,
   "metadata": {},
   "outputs": [
    {
     "name": "stdout",
     "output_type": "stream",
     "text": [
      "8.105952808368277\n"
     ]
    }
   ],
   "source": [
    "# calculate Root Mean Squared Error (RMSE) to measure standard deviation of residuals (i.e. prediction errors)\n",
    "OLS_RMSE3 = np.sqrt(OLS_SSE3/len(y_test))\n",
    "print(OLS_RMSE3)"
   ]
  },
  {
   "cell_type": "markdown",
   "metadata": {},
   "source": [
    "To see if we can improve on the model, let's refit the model by removing ThreePCT since it has a zero in its confidence interval and the highest p-value, 0.121."
   ]
  },
  {
   "cell_type": "markdown",
   "metadata": {},
   "source": [
    "**Fit fourth OLS model with removal of ThreePCT from features**"
   ]
  },
  {
   "cell_type": "code",
   "execution_count": 49,
   "metadata": {},
   "outputs": [],
   "source": [
    "# fit third OLS regression model to data; remove AST from features\n",
    "OLS_lm4 = smf.ols(formula='W ~ Age + AST + BLK + AstTOVr + TSpct', data=train_model_df).fit()"
   ]
  },
  {
   "cell_type": "code",
   "execution_count": 50,
   "metadata": {
    "scrolled": true
   },
   "outputs": [
    {
     "data": {
      "text/html": [
       "<table class=\"simpletable\">\n",
       "<caption>OLS Regression Results</caption>\n",
       "<tr>\n",
       "  <th>Dep. Variable:</th>            <td>W</td>        <th>  R-squared:         </th> <td>   0.642</td>\n",
       "</tr>\n",
       "<tr>\n",
       "  <th>Model:</th>                   <td>OLS</td>       <th>  Adj. R-squared:    </th> <td>   0.619</td>\n",
       "</tr>\n",
       "<tr>\n",
       "  <th>Method:</th>             <td>Least Squares</td>  <th>  F-statistic:       </th> <td>   27.98</td>\n",
       "</tr>\n",
       "<tr>\n",
       "  <th>Date:</th>             <td>Thu, 15 Aug 2019</td> <th>  Prob (F-statistic):</th> <td>4.00e-16</td>\n",
       "</tr>\n",
       "<tr>\n",
       "  <th>Time:</th>                 <td>11:10:45</td>     <th>  Log-Likelihood:    </th> <td> -292.81</td>\n",
       "</tr>\n",
       "<tr>\n",
       "  <th>No. Observations:</th>      <td>    84</td>      <th>  AIC:               </th> <td>   597.6</td>\n",
       "</tr>\n",
       "<tr>\n",
       "  <th>Df Residuals:</th>          <td>    78</td>      <th>  BIC:               </th> <td>   612.2</td>\n",
       "</tr>\n",
       "<tr>\n",
       "  <th>Df Model:</th>              <td>     5</td>      <th>                     </th>     <td> </td>   \n",
       "</tr>\n",
       "<tr>\n",
       "  <th>Covariance Type:</th>      <td>nonrobust</td>    <th>                     </th>     <td> </td>   \n",
       "</tr>\n",
       "</table>\n",
       "<table class=\"simpletable\">\n",
       "<tr>\n",
       "      <td></td>         <th>coef</th>     <th>std err</th>      <th>t</th>      <th>P>|t|</th>  <th>[0.025</th>    <th>0.975]</th>  \n",
       "</tr>\n",
       "<tr>\n",
       "  <th>Intercept</th> <td>   41.6429</td> <td>    0.895</td> <td>   46.554</td> <td> 0.000</td> <td>   39.862</td> <td>   43.424</td>\n",
       "</tr>\n",
       "<tr>\n",
       "  <th>Age</th>       <td>    2.3744</td> <td>    1.129</td> <td>    2.103</td> <td> 0.039</td> <td>    0.126</td> <td>    4.623</td>\n",
       "</tr>\n",
       "<tr>\n",
       "  <th>AST</th>       <td>   -5.0187</td> <td>    1.666</td> <td>   -3.012</td> <td> 0.003</td> <td>   -8.336</td> <td>   -1.702</td>\n",
       "</tr>\n",
       "<tr>\n",
       "  <th>BLK</th>       <td>    2.8970</td> <td>    0.948</td> <td>    3.056</td> <td> 0.003</td> <td>    1.010</td> <td>    4.784</td>\n",
       "</tr>\n",
       "<tr>\n",
       "  <th>AstTOVr</th>   <td>    5.6837</td> <td>    1.614</td> <td>    3.522</td> <td> 0.001</td> <td>    2.471</td> <td>    8.896</td>\n",
       "</tr>\n",
       "<tr>\n",
       "  <th>TSpct</th>     <td>    7.5158</td> <td>    1.233</td> <td>    6.094</td> <td> 0.000</td> <td>    5.061</td> <td>    9.971</td>\n",
       "</tr>\n",
       "</table>\n",
       "<table class=\"simpletable\">\n",
       "<tr>\n",
       "  <th>Omnibus:</th>       <td> 0.782</td> <th>  Durbin-Watson:     </th> <td>   2.185</td>\n",
       "</tr>\n",
       "<tr>\n",
       "  <th>Prob(Omnibus):</th> <td> 0.677</td> <th>  Jarque-Bera (JB):  </th> <td>   0.890</td>\n",
       "</tr>\n",
       "<tr>\n",
       "  <th>Skew:</th>          <td>-0.155</td> <th>  Prob(JB):          </th> <td>   0.641</td>\n",
       "</tr>\n",
       "<tr>\n",
       "  <th>Kurtosis:</th>      <td> 2.603</td> <th>  Cond. No.          </th> <td>    4.13</td>\n",
       "</tr>\n",
       "</table><br/><br/>Warnings:<br/>[1] Standard Errors assume that the covariance matrix of the errors is correctly specified."
      ],
      "text/plain": [
       "<class 'statsmodels.iolib.summary.Summary'>\n",
       "\"\"\"\n",
       "                            OLS Regression Results                            \n",
       "==============================================================================\n",
       "Dep. Variable:                      W   R-squared:                       0.642\n",
       "Model:                            OLS   Adj. R-squared:                  0.619\n",
       "Method:                 Least Squares   F-statistic:                     27.98\n",
       "Date:                Thu, 15 Aug 2019   Prob (F-statistic):           4.00e-16\n",
       "Time:                        11:10:45   Log-Likelihood:                -292.81\n",
       "No. Observations:                  84   AIC:                             597.6\n",
       "Df Residuals:                      78   BIC:                             612.2\n",
       "Df Model:                           5                                         \n",
       "Covariance Type:            nonrobust                                         \n",
       "==============================================================================\n",
       "                 coef    std err          t      P>|t|      [0.025      0.975]\n",
       "------------------------------------------------------------------------------\n",
       "Intercept     41.6429      0.895     46.554      0.000      39.862      43.424\n",
       "Age            2.3744      1.129      2.103      0.039       0.126       4.623\n",
       "AST           -5.0187      1.666     -3.012      0.003      -8.336      -1.702\n",
       "BLK            2.8970      0.948      3.056      0.003       1.010       4.784\n",
       "AstTOVr        5.6837      1.614      3.522      0.001       2.471       8.896\n",
       "TSpct          7.5158      1.233      6.094      0.000       5.061       9.971\n",
       "==============================================================================\n",
       "Omnibus:                        0.782   Durbin-Watson:                   2.185\n",
       "Prob(Omnibus):                  0.677   Jarque-Bera (JB):                0.890\n",
       "Skew:                          -0.155   Prob(JB):                        0.641\n",
       "Kurtosis:                       2.603   Cond. No.                         4.13\n",
       "==============================================================================\n",
       "\n",
       "Warnings:\n",
       "[1] Standard Errors assume that the covariance matrix of the errors is correctly specified.\n",
       "\"\"\""
      ]
     },
     "execution_count": 50,
     "metadata": {},
     "output_type": "execute_result"
    }
   ],
   "source": [
    "# check summary of model\n",
    "OLS_lm4.summary()"
   ]
  },
  {
   "cell_type": "code",
   "execution_count": 51,
   "metadata": {},
   "outputs": [
    {
     "data": {
      "image/png": "[encoded data removed]",
      "text/plain": [
       "<Figure size 864x504 with 1 Axes>"
      ]
     },
     "metadata": {
      "needs_background": "light"
     },
     "output_type": "display_data"
    }
   ],
   "source": [
    "# save OLS_lm4 summary as a figure\n",
    "plt.rc('figure', figsize=(12,7))\n",
    "plt.text(0.15,0.08, str(OLS_lm4.summary()), {'fontsize':75}, fontproperties='monospace')\n",
    "plt.axis('off')\n",
    "plt.tight_layout()\n",
    "\n",
    "# plt.savefig('OLS_lm4.png')"
   ]
  },
  {
   "cell_type": "code",
   "execution_count": 52,
   "metadata": {
    "scrolled": false
   },
   "outputs": [
    {
     "data": {
      "text/html": [
       "<div>\n",
       "<style scoped>\n",
       "    .dataframe tbody tr th:only-of-type {\n",
       "        vertical-align: middle;\n",
       "    }\n",
       "\n",
       "    .dataframe tbody tr th {\n",
       "        vertical-align: top;\n",
       "    }\n",
       "\n",
       "    .dataframe thead th {\n",
       "        text-align: right;\n",
       "    }\n",
       "</style>\n",
       "<table border=\"1\" class=\"dataframe\">\n",
       "  <thead>\n",
       "    <tr style=\"text-align: right;\">\n",
       "      <th></th>\n",
       "      <th>0</th>\n",
       "      <th>1</th>\n",
       "    </tr>\n",
       "  </thead>\n",
       "  <tbody>\n",
       "    <tr>\n",
       "      <th>Intercept</th>\n",
       "      <td>39.862020</td>\n",
       "      <td>43.423695</td>\n",
       "    </tr>\n",
       "    <tr>\n",
       "      <th>Age</th>\n",
       "      <td>0.126201</td>\n",
       "      <td>4.622630</td>\n",
       "    </tr>\n",
       "    <tr>\n",
       "      <th>AST</th>\n",
       "      <td>-8.335671</td>\n",
       "      <td>-1.701666</td>\n",
       "    </tr>\n",
       "    <tr>\n",
       "      <th>BLK</th>\n",
       "      <td>1.009661</td>\n",
       "      <td>4.784420</td>\n",
       "    </tr>\n",
       "    <tr>\n",
       "      <th>AstTOVr</th>\n",
       "      <td>2.471271</td>\n",
       "      <td>8.896080</td>\n",
       "    </tr>\n",
       "    <tr>\n",
       "      <th>TSpct</th>\n",
       "      <td>5.060631</td>\n",
       "      <td>9.971051</td>\n",
       "    </tr>\n",
       "  </tbody>\n",
       "</table>\n",
       "</div>"
      ],
      "text/plain": [
       "                   0          1\n",
       "Intercept  39.862020  43.423695\n",
       "Age         0.126201   4.622630\n",
       "AST        -8.335671  -1.701666\n",
       "BLK         1.009661   4.784420\n",
       "AstTOVr     2.471271   8.896080\n",
       "TSpct       5.060631   9.971051"
      ]
     },
     "execution_count": 52,
     "metadata": {},
     "output_type": "execute_result"
    }
   ],
   "source": [
    "# check confidence interval\n",
    "OLS_lm4.conf_int()"
   ]
  },
  {
   "cell_type": "code",
   "execution_count": 53,
   "metadata": {},
   "outputs": [
    {
     "data": {
      "text/plain": [
       "Text(0.5, 1.0, 'Confidence Interval')"
      ]
     },
     "execution_count": 53,
     "metadata": {},
     "output_type": "execute_result"
    },
    {
     "data": {
      "image/png": "[encoded data removed]",
      "text/plain": [
       "<Figure size 864x504 with 1 Axes>"
      ]
     },
     "metadata": {
      "needs_background": "light"
     },
     "output_type": "display_data"
    }
   ],
   "source": [
    "# save OLS_lm4 confidence interval as a figure\n",
    "axt4 = plt.subplot(frame_on=False)\n",
    "axt4.xaxis.set_visible(False)\n",
    "axt4.yaxis.set_visible(False)\n",
    "OLS_conf4_tb = tb(axt4, OLS_lm4.conf_int().round(3), loc='center', bbox=[0.1,0,1,1])\n",
    "OLS_conf4_tb.auto_set_font_size(False)\n",
    "OLS_conf4_tb.set_fontsize(12)\n",
    "\n",
    "plt.title('Confidence Interval', loc='center')\n",
    "\n",
    "# plt.savefig('OLS_lm_conf4.png')"
   ]
  },
  {
   "cell_type": "code",
   "execution_count": 54,
   "metadata": {},
   "outputs": [
    {
     "data": {
      "text/plain": [
       "Intercept    1.133389e-58\n",
       "Age          3.872620e-02\n",
       "AST          3.495664e-03\n",
       "BLK          3.071653e-03\n",
       "AstTOVr      7.182875e-04\n",
       "TSpct        3.918829e-08\n",
       "dtype: float64"
      ]
     },
     "execution_count": 54,
     "metadata": {},
     "output_type": "execute_result"
    }
   ],
   "source": [
    "# check p-value\n",
    "OLS_lm4.pvalues"
   ]
  },
  {
   "cell_type": "code",
   "execution_count": 55,
   "metadata": {},
   "outputs": [
    {
     "data": {
      "image/png": "[encoded data removed]",
      "text/plain": [
       "<Figure size 864x504 with 1 Axes>"
      ]
     },
     "metadata": {
      "needs_background": "light"
     },
     "output_type": "display_data"
    }
   ],
   "source": [
    "# save OLS_lm4 p-value as a figure\n",
    "axp4 = plt.subplot(frame_on=False)\n",
    "axp4.xaxis.set_visible(False)\n",
    "axp4.yaxis.set_visible(False)\n",
    "OLS_pval4_tb = tb(axp4, OLS_lm4.pvalues.round(3), loc='center', bbox=[0.1,0,1,1], colLabels=['p-value'])\n",
    "OLS_pval4_tb.auto_set_font_size(False)\n",
    "OLS_pval4_tb.set_fontsize(12)\n",
    "\n",
    "# plt.savefig('OLS_lm_pval4.png')"
   ]
  },
  {
   "cell_type": "markdown",
   "metadata": {},
   "source": [
    "Taking a look at the summary, confidence interval, p-value of the fourth OLS model, we can see the following:\n",
    "\n",
    "**Confidence interval:**\n",
    "- The remaining features &mdash; Age, AST, BLK, AstTOVr, TSpct &mdash; ***do not*** have a zero\n",
    "\n",
    "**p-value:**\n",
    "- The remaining features &mdash; Age, AST, BLK, AstTOVr, TSpct &mdash; have a p-value < 0.05\n",
    "\n",
    "Interpreting the results from the fourth OLS model, we can ***reject the null hypothesis***; based on the information from the confidence interval and p-value, we can believe that there is a relationship between these statistics &mdash; Age, AST, BLK, AstTOVr, TSpct &mdash; and Wins."
   ]
  },
  {
   "cell_type": "markdown",
   "metadata": {},
   "source": [
    "Take a look at how well the fourth model predicts the \"unseen\" out-of-sample test set.\n",
    "- calculate **R-squared (R2)** and **Root Mean Square Error (RMSE)** to evaluate model prediction"
   ]
  },
  {
   "cell_type": "code",
   "execution_count": 56,
   "metadata": {},
   "outputs": [],
   "source": [
    "# generate predicted values using fourth OLS model\n",
    "OLS_pred_val4 = OLS_lm4.predict(test_model_df)\n",
    "\n",
    "# calculate residual (i.e. errors) values between true and predicted values\n",
    "OLS_lm_resid4 = y_test-OLS_pred_val4"
   ]
  },
  {
   "cell_type": "code",
   "execution_count": 57,
   "metadata": {},
   "outputs": [],
   "source": [
    "# calculate Sum of Squared Residuals (SSR) or Sum of Squared Errors (SSE)\n",
    "# measures discrepancy between data and model's predicted values; sum of squared errors of regression model\n",
    "OLS_SSE4 = sum(OLS_lm_resid4**2)"
   ]
  },
  {
   "cell_type": "code",
   "execution_count": 58,
   "metadata": {},
   "outputs": [
    {
     "name": "stdout",
     "output_type": "stream",
     "text": [
      "0.44973877552207664\n"
     ]
    }
   ],
   "source": [
    "# calculate R-squared to measure \"goodness of fit\"; how much variance in the response data does the model account for\n",
    "OLS4_R2 = 1-(OLS_SSE4/OLS_SST)\n",
    "print(OLS4_R2)"
   ]
  },
  {
   "cell_type": "code",
   "execution_count": 59,
   "metadata": {},
   "outputs": [
    {
     "name": "stdout",
     "output_type": "stream",
     "text": [
      "8.016418282740473\n"
     ]
    }
   ],
   "source": [
    "# calculate Root Mean Squared Error (RMSE) to measure standard deviation of residuals (i.e. prediction errors)\n",
    "OLS_RMSE4 = np.sqrt(OLS_SSE4/len(y_test))\n",
    "print(OLS_RMSE4)"
   ]
  },
  {
   "cell_type": "markdown",
   "metadata": {},
   "source": [
    "**Using the Scikit-Learn linear regression algorithm, build a regression model utilizing selected features for 2019 prediction.**"
   ]
  },
  {
   "cell_type": "code",
   "execution_count": 60,
   "metadata": {},
   "outputs": [],
   "source": [
    "# using features selected from the final OLS_model_data data frame, create X matrix & y vector data to perform sklearn linear regression\n",
    "# features: Age, AST, BLK, AstTOVr, TSpct\n",
    "\n",
    "# X & y for model training\n",
    "X = train_model_df[['Age', 'AST', 'BLK', 'AstTOVr', 'TSpct']]\n",
    "y = train_model_df['W']\n",
    "\n",
    "# X for model testing\n",
    "X_test2 = test_model_df[['Age', 'AST', 'BLK', 'AstTOVr', 'TSpct']]"
   ]
  },
  {
   "cell_type": "code",
   "execution_count": 61,
   "metadata": {},
   "outputs": [
    {
     "data": {
      "text/plain": [
       "LinearRegression(copy_X=True, fit_intercept=True, n_jobs=None,\n",
       "         normalize=False)"
      ]
     },
     "execution_count": 61,
     "metadata": {},
     "output_type": "execute_result"
    }
   ],
   "source": [
    "# create an instance of LinearRegression object & train model\n",
    "lm = LinearRegression()\n",
    "lm.fit(X, y)"
   ]
  },
  {
   "cell_type": "code",
   "execution_count": 62,
   "metadata": {},
   "outputs": [
    {
     "data": {
      "text/html": [
       "<div>\n",
       "<style scoped>\n",
       "    .dataframe tbody tr th:only-of-type {\n",
       "        vertical-align: middle;\n",
       "    }\n",
       "\n",
       "    .dataframe tbody tr th {\n",
       "        vertical-align: top;\n",
       "    }\n",
       "\n",
       "    .dataframe thead th {\n",
       "        text-align: right;\n",
       "    }\n",
       "</style>\n",
       "<table border=\"1\" class=\"dataframe\">\n",
       "  <thead>\n",
       "    <tr style=\"text-align: right;\">\n",
       "      <th></th>\n",
       "      <th>Coefficient</th>\n",
       "    </tr>\n",
       "  </thead>\n",
       "  <tbody>\n",
       "    <tr>\n",
       "      <th>Age</th>\n",
       "      <td>2.374416</td>\n",
       "    </tr>\n",
       "    <tr>\n",
       "      <th>AST</th>\n",
       "      <td>-5.018668</td>\n",
       "    </tr>\n",
       "    <tr>\n",
       "      <th>BLK</th>\n",
       "      <td>2.897041</td>\n",
       "    </tr>\n",
       "    <tr>\n",
       "      <th>AstTOVr</th>\n",
       "      <td>5.683676</td>\n",
       "    </tr>\n",
       "    <tr>\n",
       "      <th>TSpct</th>\n",
       "      <td>7.515841</td>\n",
       "    </tr>\n",
       "  </tbody>\n",
       "</table>\n",
       "</div>"
      ],
      "text/plain": [
       "         Coefficient\n",
       "Age         2.374416\n",
       "AST        -5.018668\n",
       "BLK         2.897041\n",
       "AstTOVr     5.683676\n",
       "TSpct       7.515841"
      ]
     },
     "execution_count": 62,
     "metadata": {},
     "output_type": "execute_result"
    }
   ],
   "source": [
    "# create table to view coefficient values\n",
    "coeff_df = pd.DataFrame(data=lm.coef_, index=['Age', 'AST', 'BLK', 'AstTOVr', 'TSpct'], columns=['Coefficient'])\n",
    "coeff_df "
   ]
  },
  {
   "cell_type": "code",
   "execution_count": 63,
   "metadata": {},
   "outputs": [
    {
     "data": {
      "image/png": "[encoded data removed]",
      "text/plain": [
       "<Figure size 864x504 with 1 Axes>"
      ]
     },
     "metadata": {
      "needs_background": "light"
     },
     "output_type": "display_data"
    }
   ],
   "source": [
    "# save Scikit-Learn lm coefficients as a figure\n",
    "axcoef = plt.subplot(frame_on=False)\n",
    "axcoef.xaxis.set_visible(False)\n",
    "axcoef.yaxis.set_visible(False)\n",
    "lm_coef_tb = tb(axcoef, coeff_df.round(3), loc='center', bbox=[0,0,1,1], colLabels=['Coefficients'])\n",
    "lm_coef_tb.auto_set_font_size(False)\n",
    "lm_coef_tb.set_fontsize(12)\n",
    "\n",
    "# plt.savefig('Scikit_lm_coeff.png')"
   ]
  },
  {
   "cell_type": "code",
   "execution_count": 64,
   "metadata": {
    "scrolled": true
   },
   "outputs": [],
   "source": [
    "# generate prediction values\n",
    "y_pred = lm.predict(X_test2)"
   ]
  },
  {
   "cell_type": "code",
   "execution_count": 65,
   "metadata": {},
   "outputs": [
    {
     "data": {
      "text/html": [
       "<div>\n",
       "<style scoped>\n",
       "    .dataframe tbody tr th:only-of-type {\n",
       "        vertical-align: middle;\n",
       "    }\n",
       "\n",
       "    .dataframe tbody tr th {\n",
       "        vertical-align: top;\n",
       "    }\n",
       "\n",
       "    .dataframe thead th {\n",
       "        text-align: right;\n",
       "    }\n",
       "</style>\n",
       "<table border=\"1\" class=\"dataframe\">\n",
       "  <thead>\n",
       "    <tr style=\"text-align: right;\">\n",
       "      <th></th>\n",
       "      <th>Actual</th>\n",
       "      <th>Predicted</th>\n",
       "    </tr>\n",
       "  </thead>\n",
       "  <tbody>\n",
       "    <tr>\n",
       "      <th>17</th>\n",
       "      <td>36</td>\n",
       "      <td>52.925331</td>\n",
       "    </tr>\n",
       "    <tr>\n",
       "      <th>86</th>\n",
       "      <td>47</td>\n",
       "      <td>53.743958</td>\n",
       "    </tr>\n",
       "    <tr>\n",
       "      <th>68</th>\n",
       "      <td>17</td>\n",
       "      <td>25.945333</td>\n",
       "    </tr>\n",
       "    <tr>\n",
       "      <th>27</th>\n",
       "      <td>51</td>\n",
       "      <td>55.641300</td>\n",
       "    </tr>\n",
       "    <tr>\n",
       "      <th>84</th>\n",
       "      <td>41</td>\n",
       "      <td>27.063681</td>\n",
       "    </tr>\n",
       "  </tbody>\n",
       "</table>\n",
       "</div>"
      ],
      "text/plain": [
       "    Actual  Predicted\n",
       "17      36  52.925331\n",
       "86      47  53.743958\n",
       "68      17  25.945333\n",
       "27      51  55.641300\n",
       "84      41  27.063681"
      ]
     },
     "execution_count": 65,
     "metadata": {},
     "output_type": "execute_result"
    }
   ],
   "source": [
    "# create table to view actual vs predicted values\n",
    "actual_v_pred = pd.DataFrame({'Actual':y_test, 'Predicted':y_pred})\n",
    "actual_v_pred.head()"
   ]
  },
  {
   "cell_type": "code",
   "execution_count": 66,
   "metadata": {},
   "outputs": [
    {
     "name": "stdout",
     "output_type": "stream",
     "text": [
      "8.016418282740476\n"
     ]
    }
   ],
   "source": [
    "# calculate Root Mean Squared Error to measure standard deviation of residuals (i.e. prediction errors)\n",
    "lm_RMSE = np.sqrt(metrics.mean_squared_error(y_test, y_pred))\n",
    "print(lm_RMSE)"
   ]
  },
  {
   "cell_type": "markdown",
   "metadata": {},
   "source": [
    "Root Mean Squared Error (RMSE) value is 8.02 (~8); the fitted regression line has an approximate deviation of ~8 wins."
   ]
  },
  {
   "cell_type": "code",
   "execution_count": 67,
   "metadata": {},
   "outputs": [
    {
     "name": "stdout",
     "output_type": "stream",
     "text": [
      "0.42721796607605655\n"
     ]
    }
   ],
   "source": [
    "# calculate R-squared to measure \"goodness of fit\"; how close the data are to the regression line \n",
    "lm_R2 = lm.score(X_test2,y_test) # can also use metrics.r2_score(y_test, y_pred)\n",
    "print(lm_R2)"
   ]
  },
  {
   "cell_type": "markdown",
   "metadata": {},
   "source": [
    "R-squared value shows that the fitted regression line accounts for 42.72% of the variance in the response data."
   ]
  },
  {
   "cell_type": "code",
   "execution_count": 68,
   "metadata": {
    "scrolled": false
   },
   "outputs": [
    {
     "data": {
      "image/png": "[encoded data removed]",
      "text/plain": [
       "<Figure size 864x504 with 1 Axes>"
      ]
     },
     "metadata": {
      "needs_background": "light"
     },
     "output_type": "display_data"
    }
   ],
   "source": [
    "# visualize actual values vs predicted values\n",
    "plt.scatter(y_test, y_pred)\n",
    "plt.xlabel('Actual # Wins')\n",
    "plt.ylabel('Predicted # Wins')\n",
    "plt.title('Linear Regression Model - Actual vs Predicted')\n",
    "plt.show()"
   ]
  },
  {
   "cell_type": "markdown",
   "metadata": {},
   "source": [
    "**Let's see how well the model can predict season performance in the 2019 NBA season.**"
   ]
  },
  {
   "cell_type": "code",
   "execution_count": 69,
   "metadata": {},
   "outputs": [],
   "source": [
    "# Using linear regression model with features Age, AST, BLK, AstTOVr, TSpct \n",
    "pred_X_data = pred_model_data[['Age', 'ThreePT', 'ThreePCT', 'DRB', 'AST', 'BLK', 'AstTOVr', 'TSpct']]\n",
    "pred_y_data = pred_model_data['W']"
   ]
  },
  {
   "cell_type": "code",
   "execution_count": 70,
   "metadata": {
    "scrolled": true
   },
   "outputs": [],
   "source": [
    "# standardize 2019 X data for selected model prediction; utilize scale parameters performed on training data\n",
    "stand_X_pred = scaler.transform(pred_X_data.values)"
   ]
  },
  {
   "cell_type": "code",
   "execution_count": 71,
   "metadata": {
    "scrolled": true
   },
   "outputs": [],
   "source": [
    "# convert standardized pred_X_data to data frame; should have matrix shape same as selected linear model to predict values\n",
    "pred_model_df = pd.DataFrame(stand_X_pred, index=pred_X_data.index, columns=['Age', 'ThreePT', 'ThreePCT', 'DRB', 'AST', 'BLK', 'AstTOVr', 'TSpct'])"
   ]
  },
  {
   "cell_type": "markdown",
   "metadata": {},
   "source": [
    "Predict 2019 season performance with Scikit-Learn linear model features &mdash; Age, AST, BLK, AstTOVr, TSpct."
   ]
  },
  {
   "cell_type": "code",
   "execution_count": 72,
   "metadata": {
    "scrolled": true
   },
   "outputs": [],
   "source": [
    "# create variable holding selected features\n",
    "pred_X = pred_model_df[['Age','AST','BLK','AstTOVr','TSpct']]"
   ]
  },
  {
   "cell_type": "code",
   "execution_count": 73,
   "metadata": {
    "scrolled": false
   },
   "outputs": [],
   "source": [
    "# generate predicted values\n",
    "lm_pred_val = lm.predict(pred_X)"
   ]
  },
  {
   "cell_type": "code",
   "execution_count": 74,
   "metadata": {
    "scrolled": true
   },
   "outputs": [
    {
     "name": "stdout",
     "output_type": "stream",
     "text": [
      "9.087225144216074\n"
     ]
    }
   ],
   "source": [
    "# calculate Root Mean Squared Error to measure standard deviation of residuals (i.e. prediction errors)\n",
    "pred_RMSE = np.sqrt(metrics.mean_squared_error(pred_y_data, lm_pred_val))\n",
    "print(pred_RMSE)"
   ]
  },
  {
   "cell_type": "markdown",
   "metadata": {},
   "source": [
    "Root Mean Squared Error (RMSE) value is 9.08 (~9); the fitted regression line has an approximate deviation of ~9 wins."
   ]
  },
  {
   "cell_type": "code",
   "execution_count": 75,
   "metadata": {},
   "outputs": [
    {
     "name": "stdout",
     "output_type": "stream",
     "text": [
      "0.4095972772521007\n"
     ]
    }
   ],
   "source": [
    "# calculate R-squared to measure \"goodness of fit\"; how close the data are to the regression line \n",
    "pred_R2 = lm.score(pred_X,pred_y_data) # can also use metrics.r2_score(y_test, y_pred)\n",
    "print(pred_R2)"
   ]
  },
  {
   "cell_type": "markdown",
   "metadata": {},
   "source": [
    "R-squared value shows that the fitted regression line accounts for 40.95% of the variance in the response data."
   ]
  },
  {
   "cell_type": "markdown",
   "metadata": {},
   "source": [
    "**Create a graph to visualize 2019 predicted values in comparison to actual**"
   ]
  },
  {
   "cell_type": "markdown",
   "metadata": {},
   "source": [
    "To create the graphs:\n",
    "- Adjust data frame with standardized values to include Tm, W, Predicted Wins columns\n",
    "- Establish Western and Eastern Conference NBA teams for playoff prediction evaluation"
   ]
  },
  {
   "cell_type": "code",
   "execution_count": 76,
   "metadata": {
    "scrolled": false
   },
   "outputs": [
    {
     "data": {
      "text/html": [
       "<div>\n",
       "<style scoped>\n",
       "    .dataframe tbody tr th:only-of-type {\n",
       "        vertical-align: middle;\n",
       "    }\n",
       "\n",
       "    .dataframe tbody tr th {\n",
       "        vertical-align: top;\n",
       "    }\n",
       "\n",
       "    .dataframe thead th {\n",
       "        text-align: right;\n",
       "    }\n",
       "</style>\n",
       "<table border=\"1\" class=\"dataframe\">\n",
       "  <thead>\n",
       "    <tr style=\"text-align: right;\">\n",
       "      <th></th>\n",
       "      <th>Tm</th>\n",
       "      <th>W</th>\n",
       "      <th>Predicted_W</th>\n",
       "      <th>Age</th>\n",
       "      <th>ThreePT</th>\n",
       "      <th>ThreePCT</th>\n",
       "      <th>DRB</th>\n",
       "      <th>AST</th>\n",
       "      <th>BLK</th>\n",
       "      <th>AstTOVr</th>\n",
       "      <th>TSpct</th>\n",
       "    </tr>\n",
       "  </thead>\n",
       "  <tbody>\n",
       "    <tr>\n",
       "      <th>0</th>\n",
       "      <td>ATL</td>\n",
       "      <td>29</td>\n",
       "      <td>33.902926</td>\n",
       "      <td>-0.850578</td>\n",
       "      <td>2.108390</td>\n",
       "      <td>-0.158266</td>\n",
       "      <td>0.832303</td>\n",
       "      <td>1.474021</td>\n",
       "      <td>0.223145</td>\n",
       "      <td>-0.401918</td>\n",
       "      <td>0.441099</td>\n",
       "    </tr>\n",
       "    <tr>\n",
       "      <th>5</th>\n",
       "      <td>BOS</td>\n",
       "      <td>49</td>\n",
       "      <td>55.328324</td>\n",
       "      <td>-0.533967</td>\n",
       "      <td>1.878333</td>\n",
       "      <td>0.574049</td>\n",
       "      <td>1.043336</td>\n",
       "      <td>1.677986</td>\n",
       "      <td>0.468568</td>\n",
       "      <td>2.519352</td>\n",
       "      <td>1.024229</td>\n",
       "    </tr>\n",
       "    <tr>\n",
       "      <th>10</th>\n",
       "      <td>BRK</td>\n",
       "      <td>42</td>\n",
       "      <td>37.536973</td>\n",
       "      <td>-0.692273</td>\n",
       "      <td>1.976929</td>\n",
       "      <td>-0.101934</td>\n",
       "      <td>1.658849</td>\n",
       "      <td>0.569960</td>\n",
       "      <td>-1.003970</td>\n",
       "      <td>-0.046343</td>\n",
       "      <td>0.475029</td>\n",
       "    </tr>\n",
       "    <tr>\n",
       "      <th>15</th>\n",
       "      <td>CHO</td>\n",
       "      <td>39</td>\n",
       "      <td>52.624590</td>\n",
       "      <td>-0.059050</td>\n",
       "      <td>1.516814</td>\n",
       "      <td>-0.214598</td>\n",
       "      <td>0.419030</td>\n",
       "      <td>0.299844</td>\n",
       "      <td>0.008400</td>\n",
       "      <td>1.721602</td>\n",
       "      <td>0.374861</td>\n",
       "    </tr>\n",
       "    <tr>\n",
       "      <th>20</th>\n",
       "      <td>CHI</td>\n",
       "      <td>22</td>\n",
       "      <td>34.150517</td>\n",
       "      <td>-1.431032</td>\n",
       "      <td>-0.008138</td>\n",
       "      <td>-0.214598</td>\n",
       "      <td>0.603684</td>\n",
       "      <td>-0.301026</td>\n",
       "      <td>-0.819903</td>\n",
       "      <td>-0.218063</td>\n",
       "      <td>-0.264844</td>\n",
       "    </tr>\n",
       "  </tbody>\n",
       "</table>\n",
       "</div>"
      ],
      "text/plain": [
       "     Tm   W  Predicted_W       Age   ThreePT  ThreePCT       DRB       AST  \\\n",
       "0   ATL  29    33.902926 -0.850578  2.108390 -0.158266  0.832303  1.474021   \n",
       "5   BOS  49    55.328324 -0.533967  1.878333  0.574049  1.043336  1.677986   \n",
       "10  BRK  42    37.536973 -0.692273  1.976929 -0.101934  1.658849  0.569960   \n",
       "15  CHO  39    52.624590 -0.059050  1.516814 -0.214598  0.419030  0.299844   \n",
       "20  CHI  22    34.150517 -1.431032 -0.008138 -0.214598  0.603684 -0.301026   \n",
       "\n",
       "         BLK   AstTOVr     TSpct  \n",
       "0   0.223145 -0.401918  0.441099  \n",
       "5   0.468568  2.519352  1.024229  \n",
       "10 -1.003970 -0.046343  0.475029  \n",
       "15  0.008400  1.721602  0.374861  \n",
       "20 -0.819903 -0.218063 -0.264844  "
      ]
     },
     "execution_count": 76,
     "metadata": {},
     "output_type": "execute_result"
    }
   ],
   "source": [
    "# Add-in columns for Tm, W, Predicted to data frame with scaled values\n",
    "pred_model_df.insert(0, 'Tm', pred_model_data['Tm'].values, True)\n",
    "pred_model_df.insert(1, 'W', pred_y_data, True)\n",
    "pred_model_df.insert(2, 'Predicted_W', lm_pred_val, True)\n",
    "\n",
    "#take a look at data frame head\n",
    "pred_model_df.head()"
   ]
  },
  {
   "cell_type": "code",
   "execution_count": 77,
   "metadata": {},
   "outputs": [],
   "source": [
    "# create lists for western and eastern conferences \n",
    "west_conf = ['DAL','DEN','GSW','HOU','LAC','LAL','MEM','MIN','NOP','OKC','PHO','POR','SAC','SAS','UTA']\n",
    "east_conf = ['ATL','BOS','BRK','CHO','CHI','CLE', 'DET','IND','MIA','MIL','NYK','ORL','PHI','TOR','WAS']"
   ]
  },
  {
   "cell_type": "code",
   "execution_count": 78,
   "metadata": {
    "scrolled": true
   },
   "outputs": [],
   "source": [
    "# create lists with team name, actual win values, predicted win values for each conference\n",
    "west_list = []\n",
    "east_list = []\n",
    "\n",
    "for i in west_conf:\n",
    "    for e, team in enumerate(pred_model_df['Tm']):\n",
    "        if i == team:\n",
    "            west_list.append([pred_model_df['Tm'].iloc[e], pred_model_df['W'].iloc[e], pred_model_df['Predicted_W'].iloc[e]])\n",
    "\n",
    "for i in east_conf:\n",
    "    for e, team in enumerate(pred_model_df['Tm']):\n",
    "        if i == team:\n",
    "            east_list.append([pred_model_df['Tm'].iloc[e], pred_model_df['W'].iloc[e], pred_model_df['Predicted_W'].iloc[e]])"
   ]
  },
  {
   "cell_type": "code",
   "execution_count": 79,
   "metadata": {},
   "outputs": [],
   "source": [
    "# sort each conference actual wins and predicted wins descending from greatest to lowest; will be used to determine playoff teams\n",
    "west_W_sorted = []\n",
    "east_W_sorted = []\n",
    "\n",
    "west_P_sorted = []\n",
    "east_P_sorted = []\n",
    "\n",
    "# sort lists by actual wins\n",
    "west_W_sorted = sorted(west_list, key=lambda x:x[1], reverse=True)\n",
    "east_W_sorted = sorted(east_list, key=lambda x:x[1], reverse=True)\n",
    "\n",
    "# sort lists by predicted wins\n",
    "west_P_sorted = sorted(west_list, key=lambda x:x[2], reverse=True)\n",
    "east_P_sorted = sorted(east_list, key=lambda x:x[2], reverse=True)"
   ]
  },
  {
   "cell_type": "code",
   "execution_count": 80,
   "metadata": {},
   "outputs": [],
   "source": [
    "# determine which teams made it into the playoffs for actual & predicted values in each conference\n",
    "# only 8 teams from each conference qualify for the playoffs based on their win records in their respective conference\n",
    "west_playoffs_actual = []\n",
    "east_playoffs_actual = []\n",
    "west_playoffs_pred = []\n",
    "east_playoffs_pred = []\n",
    "\n",
    "# append teams from actual wins that place into playoffs\n",
    "for i, team in enumerate(west_W_sorted):\n",
    "    if west_W_sorted[i][1] >= west_W_sorted[7][1]:\n",
    "        west_playoffs_actual.append(team)\n",
    "\n",
    "for i, team in enumerate(east_W_sorted):        \n",
    "    if east_W_sorted[i][1] >= east_W_sorted[7][1]:\n",
    "        east_playoffs_actual.append(team)\n",
    "\n",
    "# append teams from predicted wins that place into playoffs\n",
    "for i, team in enumerate(west_P_sorted):\n",
    "    if west_P_sorted[i][2] >= west_P_sorted[7][2]:\n",
    "        west_playoffs_pred.append(team)\n",
    "\n",
    "for i, team in enumerate(east_P_sorted):\n",
    "    if east_P_sorted[i][2] >= east_P_sorted[7][2]:\n",
    "        east_playoffs_pred.append(team)"
   ]
  },
  {
   "cell_type": "code",
   "execution_count": 81,
   "metadata": {},
   "outputs": [],
   "source": [
    "# determine whether predictions were correct or incorrect in evaluating ability to qualify for playoffs\n",
    "west_corr = []\n",
    "east_corr = []\n",
    "west_incorr = []\n",
    "east_incorr = []\n",
    "\n",
    "# append western conference teams from predictions into lists identifying correctly or incorrectly predicted\n",
    "for i, team in enumerate(west_playoffs_pred):\n",
    "    count = 0 # utilize counter to identify teams that do not match with any team in actual playoff list \n",
    "    for e, team2 in enumerate(west_playoffs_actual):\n",
    "        if team[0] == team2[0]: # boolean check whether predicted playoff team matches with any team in actual playoff team list\n",
    "            west_corr.append(team) \n",
    "        elif team[0] != team2[0]:\n",
    "            count += 1\n",
    "            if count == 8:\n",
    "                west_incorr.append(team)\n",
    "                \n",
    "# append eastern conference teams from predictions into lists identifying correctly or incorrectly predicted\n",
    "for i, team in enumerate(east_playoffs_pred):\n",
    "    count = 0 # utilize counter to identify teams that do not match with any team in actual playoff list \n",
    "    for e, team2 in enumerate(east_playoffs_actual):\n",
    "        if team[0] == team2[0]: # boolean check whether predicted playoff team matches with any team in actual playoff team list\n",
    "            east_corr.append(team) \n",
    "        elif team[0] != team2[0]:\n",
    "            count += 1\n",
    "            if count == 8:\n",
    "                east_incorr.append(team)"
   ]
  },
  {
   "cell_type": "code",
   "execution_count": 82,
   "metadata": {},
   "outputs": [
    {
     "data": {
      "image/png": "[encoded data removed]",
      "text/plain": [
       "<Figure size 864x504 with 1 Axes>"
      ]
     },
     "metadata": {
      "needs_background": "light"
     },
     "output_type": "display_data"
    }
   ],
   "source": [
    "# create graph to help visualize actual vs predicted values; correct vs incorrect playoff predictions\n",
    "\n",
    "# plot data to graph\n",
    "plt.scatter(pred_y_data, lm_pred_val) # actual vs predicted win values\n",
    "plt.plot([e for i,e,f in east_incorr], [f for i,e,f in east_incorr], 'ro') # incorrect east playoff predictions\n",
    "plt.plot([e for i,e,f in west_incorr], [f for i,e,f in west_incorr], 'ro') # incorrect west playoff predictions\n",
    "plt.plot([e for i,e,f in east_corr], [f for i,e,f in east_corr], 'go') # correct east playoff predictions\n",
    "plt.plot([e for i,e,f in west_corr], [f for i,e,f in west_corr], 'go') # correct west playoff predictions\n",
    "\n",
    "# generate \"y=mx+b\" values to plot best-fit line\n",
    "y_slope, y_int = np.polyfit(pred_y_data, lm_pred_val, 1)\n",
    "plt.plot(pred_y_data, y_slope*pred_y_data+y_int, '-y')\n",
    "\n",
    "# annotate team labels for predicted playoff teams to graph; adjust location of label as needed\n",
    "for label, x, y in east_incorr:\n",
    "    if label == 'WAS':\n",
    "        plt.annotate(s=label, xy=(x,y), xytext=(-20,8), textcoords='offset points')\n",
    "    else:\n",
    "        plt.annotate(s=label, xy=(x,y), xytext=(-2,8), textcoords='offset points')\n",
    "for label, x, y in west_incorr:\n",
    "    if label == 'MEM':\n",
    "        plt.annotate(s=label, xy=(x,y), xytext=(5,-8), textcoords='offset points')\n",
    "    else:\n",
    "        plt.annotate(s=label, xy=(x,y), xytext=(-2,8), textcoords='offset points')\n",
    "for label, x, y in east_corr:\n",
    "    if label == 'TOR':\n",
    "        plt.annotate(s=label, xy=(x,y), xytext=(5,0), textcoords='offset points')\n",
    "    elif label == 'IND':\n",
    "        plt.annotate(s=label, xy=(x,y), xytext=(-10,-15), textcoords='offset points')\n",
    "    elif label == 'PHI':\n",
    "        plt.annotate(s=label, xy=(x,y), xytext=(0,-15), textcoords='offset points')\n",
    "    else:\n",
    "        plt.annotate(s=label, xy=(x,y), xytext=(-2,8), textcoords='offset points')\n",
    "for label, x, y in west_corr:\n",
    "    if label == 'LAC':\n",
    "        plt.annotate(s=label, xy=(x,y), xytext=(-10,8), textcoords='offset points')\n",
    "    elif label == 'POR':\n",
    "        plt.annotate(s=label, xy=(x,y), xytext=(2,8), textcoords='offset points')\n",
    "    else:\n",
    "        plt.annotate(s=label, xy=(x,y), xytext=(-2,8), textcoords='offset points')\n",
    "\n",
    "plt.xlabel('Actual # Wins')\n",
    "plt.ylabel('Predicted # Wins')\n",
    "plt.title('Predicted Playoff Teams')\n",
    "        \n",
    "# adjust graph paramaters\n",
    "plt.xlim(right=65)\n",
    "plt.ylim(top=70)\n",
    "\n",
    "# create legend\n",
    "pred_incorr = mpatches.Patch(color='red', label='Incorrect Playoff Predictions')\n",
    "pred_corr = mpatches.Patch(color='green', label='Correct Playoff Predictions')\n",
    "\n",
    "plt.legend(loc='upper left', handles=[pred_incorr, pred_corr])\n",
    "\n",
    "plt.show()\n",
    "\n",
    "# plt.savefig('scatter_pred_18-19.png')"
   ]
  },
  {
   "cell_type": "markdown",
   "metadata": {},
   "source": [
    "From the graph above, we can see that there are 4 teams that the linear model did not correctly predict the results of season performance and making it into the playoffs.\n",
    "\n",
    "Incorrectly predicted teams: Charlotte Hornets (CHO), Washington Wizards (WAS), Minnesota Timberwolves (MIN), Memphis Grizzlies (MEM)."
   ]
  },
  {
   "cell_type": "markdown",
   "metadata": {},
   "source": [
    "**Create a table for each conference to help identify incorrectly predicted playoff teams vs actual playoff teams**"
   ]
  },
  {
   "cell_type": "markdown",
   "metadata": {},
   "source": [
    " Observations of tables:\n",
    "- Season performance (wins) results of actual vs. predicted playoff teams\n",
    "- Which teams were the actual playoff teams in relation to the incorrectly predicted playoff teams"
   ]
  },
  {
   "cell_type": "code",
   "execution_count": 83,
   "metadata": {
    "scrolled": true
   },
   "outputs": [],
   "source": [
    "# import imgkit tool for html to other file type (e.g. png, pdf, etc.) conversion\n",
    "import imgkit"
   ]
  },
  {
   "cell_type": "code",
   "execution_count": 84,
   "metadata": {},
   "outputs": [],
   "source": [
    "# create path to wkhtmltopdf tool so that imgkit tool can convert html object\n",
    "path_wkhtmltoimage = r'C:\\Users\\aliu4\\Programs\\Anaconda3\\wkhtmltopdf\\bin\\wkhtmltoimage.exe'\n",
    "config_img = imgkit.config(wkhtmltoimage=path_wkhtmltoimage)"
   ]
  },
  {
   "cell_type": "markdown",
   "metadata": {},
   "source": [
    "**West playoffs teams**"
   ]
  },
  {
   "cell_type": "code",
   "execution_count": 85,
   "metadata": {
    "scrolled": false
   },
   "outputs": [],
   "source": [
    "# create western conference teams data frame table\n",
    "west_df = pd.merge(pd.DataFrame(west_playoffs_actual, columns=['West_Tm_Actual', 'West_Actual_W', 'Predicted_W']).drop('Predicted_W', axis=1), \n",
    "pd.DataFrame(west_playoffs_pred, columns=['West_Tm_Pred', 'Actual_W', 'West_Pred_W']).drop('Actual_W', axis=1), left_index=True, right_index=True)"
   ]
  },
  {
   "cell_type": "code",
   "execution_count": 86,
   "metadata": {},
   "outputs": [],
   "source": [
    "# round predicted values\n",
    "west_df['West_Pred_W'] = np.round(west_df['West_Pred_W'])\n",
    "\n",
    "# convert predicted values from float to integer\n",
    "west_df['West_Pred_W'] = west_df['West_Pred_W'].astype('int64')"
   ]
  },
  {
   "cell_type": "code",
   "execution_count": 87,
   "metadata": {},
   "outputs": [
    {
     "data": {
      "text/html": [
       "<div>\n",
       "<style scoped>\n",
       "    .dataframe tbody tr th:only-of-type {\n",
       "        vertical-align: middle;\n",
       "    }\n",
       "\n",
       "    .dataframe tbody tr th {\n",
       "        vertical-align: top;\n",
       "    }\n",
       "\n",
       "    .dataframe thead th {\n",
       "        text-align: right;\n",
       "    }\n",
       "</style>\n",
       "<table border=\"1\" class=\"dataframe\">\n",
       "  <thead>\n",
       "    <tr style=\"text-align: right;\">\n",
       "      <th></th>\n",
       "      <th>West_Tm_Actual</th>\n",
       "      <th>West_Actual_W</th>\n",
       "      <th>West_Tm_Pred</th>\n",
       "      <th>West_Pred_W</th>\n",
       "    </tr>\n",
       "  </thead>\n",
       "  <tbody>\n",
       "    <tr>\n",
       "      <th>1</th>\n",
       "      <td>GSW</td>\n",
       "      <td>57</td>\n",
       "      <td>GSW</td>\n",
       "      <td>67</td>\n",
       "    </tr>\n",
       "    <tr>\n",
       "      <th>2</th>\n",
       "      <td>DEN</td>\n",
       "      <td>54</td>\n",
       "      <td>SAS</td>\n",
       "      <td>62</td>\n",
       "    </tr>\n",
       "    <tr>\n",
       "      <th>3</th>\n",
       "      <td>HOU</td>\n",
       "      <td>53</td>\n",
       "      <td>HOU</td>\n",
       "      <td>61</td>\n",
       "    </tr>\n",
       "    <tr>\n",
       "      <th>4</th>\n",
       "      <td>POR</td>\n",
       "      <td>53</td>\n",
       "      <td>UTA</td>\n",
       "      <td>52</td>\n",
       "    </tr>\n",
       "    <tr>\n",
       "      <th>5</th>\n",
       "      <td>UTA</td>\n",
       "      <td>50</td>\n",
       "      <td>POR</td>\n",
       "      <td>51</td>\n",
       "    </tr>\n",
       "    <tr>\n",
       "      <th>6</th>\n",
       "      <td>OKC</td>\n",
       "      <td>49</td>\n",
       "      <td>LAC</td>\n",
       "      <td>51</td>\n",
       "    </tr>\n",
       "    <tr>\n",
       "      <th>7</th>\n",
       "      <td>LAC</td>\n",
       "      <td>48</td>\n",
       "      <td>MIN</td>\n",
       "      <td>48</td>\n",
       "    </tr>\n",
       "    <tr>\n",
       "      <th>8</th>\n",
       "      <td>SAS</td>\n",
       "      <td>48</td>\n",
       "      <td>MEM</td>\n",
       "      <td>46</td>\n",
       "    </tr>\n",
       "  </tbody>\n",
       "</table>\n",
       "</div>"
      ],
      "text/plain": [
       "  West_Tm_Actual  West_Actual_W West_Tm_Pred  West_Pred_W\n",
       "1            GSW             57          GSW           67\n",
       "2            DEN             54          SAS           62\n",
       "3            HOU             53          HOU           61\n",
       "4            POR             53          UTA           52\n",
       "5            UTA             50          POR           51\n",
       "6            OKC             49          LAC           51\n",
       "7            LAC             48          MIN           48\n",
       "8            SAS             48          MEM           46"
      ]
     },
     "execution_count": 87,
     "metadata": {},
     "output_type": "execute_result"
    }
   ],
   "source": [
    "# adjust index to start with 1 to show which playoff teams #1-#8\n",
    "west_df.index += 1\n",
    "\n",
    "# view new table\n",
    "west_df"
   ]
  },
  {
   "cell_type": "code",
   "execution_count": 88,
   "metadata": {},
   "outputs": [],
   "source": [
    "# define function to color (red) incorrectly predicted playoff team(s)\n",
    "def color_west_df(val):\n",
    "    return ['color: red' if v not in list(west_df['West_Tm_Actual']) else 'color: black' for v in west_df['West_Tm_Pred']]\n",
    "\n",
    "# define function to color (darkorange) correctly predicted playoff team(s)\n",
    "def color_west_df2(val):\n",
    "    return ['color:darkorange' if v not in list(west_df['West_Tm_Pred']) else 'color: black' for v in west_df['West_Tm_Actual']]"
   ]
  },
  {
   "cell_type": "markdown",
   "metadata": {},
   "source": [
    "To create West playoffs teams only, use code below."
   ]
  },
  {
   "cell_type": "code",
   "execution_count": 89,
   "metadata": {
    "scrolled": false
   },
   "outputs": [],
   "source": [
    "# create a styler object with colored text of incorrectly predicted playoff teams vs actual teams\n",
    "west_df_tb = west_df.style.apply(color_west_df2, subset=['West_Tm_Actual'])\\\n",
    "                        .apply(color_west_df, subset=['West_Tm_Pred'])"
   ]
  },
  {
   "cell_type": "code",
   "execution_count": 90,
   "metadata": {
    "scrolled": false
   },
   "outputs": [],
   "source": [
    "# set table properties\n",
    "west_df_tb.set_properties(**{'border-collapse':'collapse'})\n",
    "\n",
    "# set table styles\n",
    "west_df_tb.set_table_styles([{'selector':' ', 'props':[('border-collapse','collapse'),('border-bottom','1px solid black'),('border-left', '1px solid black'),('border-right', '1px solid black'),('border-top', '1px solid black')]}\\\n",
    "                        ,{'selector':'th', 'props':[('text-align','center'),('border-bottom','1px solid black'),('border-left', '1px solid black'),('border-right', '1px solid black'),('border-top', '1px solid black')]}\\\n",
    "                        ,{'selector':'td', 'props':[('text-align','center'),('border-bottom','1px solid black'),('border-left', '1px solid black'),('border-right', '1px solid black'),('border-top', '1px solid black')]}])"
   ]
  },
  {
   "cell_type": "code",
   "execution_count": 91,
   "metadata": {},
   "outputs": [],
   "source": [
    "# render west_df_tb to html\n",
    "west_html = west_df_tb.render()"
   ]
  },
  {
   "cell_type": "code",
   "execution_count": 92,
   "metadata": {
    "scrolled": true
   },
   "outputs": [],
   "source": [
    "# convert and save to png file\n",
    "imgkit.from_string(west_html, 'West_Playoffs_TB.png', config=config_img)"
   ]
  },
  {
   "cell_type": "markdown",
   "metadata": {},
   "source": [
    "**East playoffs teams**"
   ]
  },
  {
   "cell_type": "code",
   "execution_count": 93,
   "metadata": {},
   "outputs": [],
   "source": [
    "# create eastern conference teams data frame table\n",
    "east_df = pd.merge(pd.DataFrame(east_playoffs_actual, columns=['East_Tm_Actual', 'East_Actual_W', 'Predicted_W']).drop('Predicted_W', axis=1), \n",
    "pd.DataFrame(east_playoffs_pred, columns=['East_Tm_Pred', 'Actual_W', 'East_Pred_W']).drop('Actual_W', axis=1), left_index=True, right_index=True)"
   ]
  },
  {
   "cell_type": "code",
   "execution_count": 94,
   "metadata": {},
   "outputs": [],
   "source": [
    "# round predicted values\n",
    "east_df['East_Pred_W'] = np.round(east_df['East_Pred_W'])\n",
    "\n",
    "# convert predicted values from float to integer\n",
    "east_df['East_Pred_W'] = east_df['East_Pred_W'].astype('int64')"
   ]
  },
  {
   "cell_type": "code",
   "execution_count": 95,
   "metadata": {
    "scrolled": true
   },
   "outputs": [
    {
     "data": {
      "text/html": [
       "<div>\n",
       "<style scoped>\n",
       "    .dataframe tbody tr th:only-of-type {\n",
       "        vertical-align: middle;\n",
       "    }\n",
       "\n",
       "    .dataframe tbody tr th {\n",
       "        vertical-align: top;\n",
       "    }\n",
       "\n",
       "    .dataframe thead th {\n",
       "        text-align: right;\n",
       "    }\n",
       "</style>\n",
       "<table border=\"1\" class=\"dataframe\">\n",
       "  <thead>\n",
       "    <tr style=\"text-align: right;\">\n",
       "      <th></th>\n",
       "      <th>East_Tm_Actual</th>\n",
       "      <th>East_Actual_W</th>\n",
       "      <th>East_Tm_Pred</th>\n",
       "      <th>East_Pred_W</th>\n",
       "    </tr>\n",
       "  </thead>\n",
       "  <tbody>\n",
       "    <tr>\n",
       "      <th>1</th>\n",
       "      <td>MIL</td>\n",
       "      <td>60</td>\n",
       "      <td>MIL</td>\n",
       "      <td>60</td>\n",
       "    </tr>\n",
       "    <tr>\n",
       "      <th>2</th>\n",
       "      <td>TOR</td>\n",
       "      <td>58</td>\n",
       "      <td>TOR</td>\n",
       "      <td>57</td>\n",
       "    </tr>\n",
       "    <tr>\n",
       "      <th>3</th>\n",
       "      <td>PHI</td>\n",
       "      <td>51</td>\n",
       "      <td>BOS</td>\n",
       "      <td>55</td>\n",
       "    </tr>\n",
       "    <tr>\n",
       "      <th>4</th>\n",
       "      <td>BOS</td>\n",
       "      <td>49</td>\n",
       "      <td>CHO</td>\n",
       "      <td>53</td>\n",
       "    </tr>\n",
       "    <tr>\n",
       "      <th>5</th>\n",
       "      <td>IND</td>\n",
       "      <td>48</td>\n",
       "      <td>PHI</td>\n",
       "      <td>50</td>\n",
       "    </tr>\n",
       "    <tr>\n",
       "      <th>6</th>\n",
       "      <td>BRK</td>\n",
       "      <td>42</td>\n",
       "      <td>IND</td>\n",
       "      <td>49</td>\n",
       "    </tr>\n",
       "    <tr>\n",
       "      <th>7</th>\n",
       "      <td>ORL</td>\n",
       "      <td>42</td>\n",
       "      <td>WAS</td>\n",
       "      <td>48</td>\n",
       "    </tr>\n",
       "    <tr>\n",
       "      <th>8</th>\n",
       "      <td>DET</td>\n",
       "      <td>41</td>\n",
       "      <td>ORL</td>\n",
       "      <td>48</td>\n",
       "    </tr>\n",
       "  </tbody>\n",
       "</table>\n",
       "</div>"
      ],
      "text/plain": [
       "  East_Tm_Actual  East_Actual_W East_Tm_Pred  East_Pred_W\n",
       "1            MIL             60          MIL           60\n",
       "2            TOR             58          TOR           57\n",
       "3            PHI             51          BOS           55\n",
       "4            BOS             49          CHO           53\n",
       "5            IND             48          PHI           50\n",
       "6            BRK             42          IND           49\n",
       "7            ORL             42          WAS           48\n",
       "8            DET             41          ORL           48"
      ]
     },
     "execution_count": 95,
     "metadata": {},
     "output_type": "execute_result"
    }
   ],
   "source": [
    "# adjust index to start with 1 to show which playoff teams #1-#8\n",
    "east_df.index += 1\n",
    "\n",
    "# view new table\n",
    "east_df"
   ]
  },
  {
   "cell_type": "code",
   "execution_count": 96,
   "metadata": {},
   "outputs": [],
   "source": [
    "# define function to color (red) incorrectly predicted playoff team(s)\n",
    "def color_east_df(val):\n",
    "    return ['color: red' if v not in list(east_df['East_Tm_Actual']) else 'color: black' for v in east_df['East_Tm_Pred']]\n",
    "\n",
    "# define function to color (darkorange) correctly predicted playoff team(s)\n",
    "def color_east_df2(val):\n",
    "    return ['color:darkorange' if v not in list(east_df['East_Tm_Pred']) else 'color: black' for v in east_df['East_Tm_Actual']]"
   ]
  },
  {
   "cell_type": "markdown",
   "metadata": {},
   "source": [
    "To create East playoffs teams only, use code below."
   ]
  },
  {
   "cell_type": "code",
   "execution_count": 97,
   "metadata": {},
   "outputs": [],
   "source": [
    "# create a styler object with colored text of incorrectly predicted playoff teams vs actual teams\n",
    "east_df_tb = east_df.style.apply(color_east_df2, subset=['East_Tm_Actual'])\\\n",
    "                        .apply(color_east_df, subset=['East_Tm_Pred'])"
   ]
  },
  {
   "cell_type": "code",
   "execution_count": 98,
   "metadata": {
    "scrolled": true
   },
   "outputs": [],
   "source": [
    "# set table properties\n",
    "east_df_tb.set_properties(**{'border-collapse':'collapse'})\n",
    "\n",
    "# set table styles\n",
    "east_df_tb.set_table_styles([{'selector':' ', 'props':[('border-collapse','collapse'),('border-bottom','1px solid black'),('border-left', '1px solid black'),('border-right', '1px solid black'),('border-top', '1px solid black')]}\\\n",
    "                        ,{'selector':'th', 'props':[('text-align','center'),('border-bottom','1px solid black'),('border-left', '1px solid black'),('border-right', '1px solid black'),('border-top', '1px solid black')]}\\\n",
    "                        ,{'selector':'td', 'props':[('text-align','center'),('border-bottom','1px solid black'),('border-left', '1px solid black'),('border-right', '1px solid black'),('border-top', '1px solid black')]}])"
   ]
  },
  {
   "cell_type": "code",
   "execution_count": 99,
   "metadata": {},
   "outputs": [],
   "source": [
    "# render east_df_tb to html\n",
    "east_html = east_df_tb.render()"
   ]
  },
  {
   "cell_type": "code",
   "execution_count": 100,
   "metadata": {
    "scrolled": true
   },
   "outputs": [],
   "source": [
    "# convert and save to png file\n",
    "imgkit.from_string(east_html, 'East_Playoffs_TB.png', config=config_img)"
   ]
  },
  {
   "cell_type": "markdown",
   "metadata": {},
   "source": [
    "Combine West and East data frames; create table highlighting incorrect predictions vs correct playoff teams."
   ]
  },
  {
   "cell_type": "code",
   "execution_count": 101,
   "metadata": {
    "scrolled": true
   },
   "outputs": [
    {
     "data": {
      "text/html": [
       "<div>\n",
       "<style scoped>\n",
       "    .dataframe tbody tr th:only-of-type {\n",
       "        vertical-align: middle;\n",
       "    }\n",
       "\n",
       "    .dataframe tbody tr th {\n",
       "        vertical-align: top;\n",
       "    }\n",
       "\n",
       "    .dataframe thead th {\n",
       "        text-align: right;\n",
       "    }\n",
       "</style>\n",
       "<table border=\"1\" class=\"dataframe\">\n",
       "  <thead>\n",
       "    <tr style=\"text-align: right;\">\n",
       "      <th></th>\n",
       "      <th>West_Tm_Actual</th>\n",
       "      <th>West_Actual_W</th>\n",
       "      <th>West_Tm_Pred</th>\n",
       "      <th>West_Pred_W</th>\n",
       "      <th>East_Tm_Actual</th>\n",
       "      <th>East_Actual_W</th>\n",
       "      <th>East_Tm_Pred</th>\n",
       "      <th>East_Pred_W</th>\n",
       "    </tr>\n",
       "  </thead>\n",
       "  <tbody>\n",
       "    <tr>\n",
       "      <th>1</th>\n",
       "      <td>GSW</td>\n",
       "      <td>57</td>\n",
       "      <td>GSW</td>\n",
       "      <td>67</td>\n",
       "      <td>MIL</td>\n",
       "      <td>60</td>\n",
       "      <td>MIL</td>\n",
       "      <td>60</td>\n",
       "    </tr>\n",
       "    <tr>\n",
       "      <th>2</th>\n",
       "      <td>DEN</td>\n",
       "      <td>54</td>\n",
       "      <td>SAS</td>\n",
       "      <td>62</td>\n",
       "      <td>TOR</td>\n",
       "      <td>58</td>\n",
       "      <td>TOR</td>\n",
       "      <td>57</td>\n",
       "    </tr>\n",
       "    <tr>\n",
       "      <th>3</th>\n",
       "      <td>HOU</td>\n",
       "      <td>53</td>\n",
       "      <td>HOU</td>\n",
       "      <td>61</td>\n",
       "      <td>PHI</td>\n",
       "      <td>51</td>\n",
       "      <td>BOS</td>\n",
       "      <td>55</td>\n",
       "    </tr>\n",
       "    <tr>\n",
       "      <th>4</th>\n",
       "      <td>POR</td>\n",
       "      <td>53</td>\n",
       "      <td>UTA</td>\n",
       "      <td>52</td>\n",
       "      <td>BOS</td>\n",
       "      <td>49</td>\n",
       "      <td>CHO</td>\n",
       "      <td>53</td>\n",
       "    </tr>\n",
       "    <tr>\n",
       "      <th>5</th>\n",
       "      <td>UTA</td>\n",
       "      <td>50</td>\n",
       "      <td>POR</td>\n",
       "      <td>51</td>\n",
       "      <td>IND</td>\n",
       "      <td>48</td>\n",
       "      <td>PHI</td>\n",
       "      <td>50</td>\n",
       "    </tr>\n",
       "    <tr>\n",
       "      <th>6</th>\n",
       "      <td>OKC</td>\n",
       "      <td>49</td>\n",
       "      <td>LAC</td>\n",
       "      <td>51</td>\n",
       "      <td>BRK</td>\n",
       "      <td>42</td>\n",
       "      <td>IND</td>\n",
       "      <td>49</td>\n",
       "    </tr>\n",
       "    <tr>\n",
       "      <th>7</th>\n",
       "      <td>LAC</td>\n",
       "      <td>48</td>\n",
       "      <td>MIN</td>\n",
       "      <td>48</td>\n",
       "      <td>ORL</td>\n",
       "      <td>42</td>\n",
       "      <td>WAS</td>\n",
       "      <td>48</td>\n",
       "    </tr>\n",
       "    <tr>\n",
       "      <th>8</th>\n",
       "      <td>SAS</td>\n",
       "      <td>48</td>\n",
       "      <td>MEM</td>\n",
       "      <td>46</td>\n",
       "      <td>DET</td>\n",
       "      <td>41</td>\n",
       "      <td>ORL</td>\n",
       "      <td>48</td>\n",
       "    </tr>\n",
       "  </tbody>\n",
       "</table>\n",
       "</div>"
      ],
      "text/plain": [
       "  West_Tm_Actual  West_Actual_W West_Tm_Pred  West_Pred_W East_Tm_Actual  \\\n",
       "1            GSW             57          GSW           67            MIL   \n",
       "2            DEN             54          SAS           62            TOR   \n",
       "3            HOU             53          HOU           61            PHI   \n",
       "4            POR             53          UTA           52            BOS   \n",
       "5            UTA             50          POR           51            IND   \n",
       "6            OKC             49          LAC           51            BRK   \n",
       "7            LAC             48          MIN           48            ORL   \n",
       "8            SAS             48          MEM           46            DET   \n",
       "\n",
       "   East_Actual_W East_Tm_Pred  East_Pred_W  \n",
       "1             60          MIL           60  \n",
       "2             58          TOR           57  \n",
       "3             51          BOS           55  \n",
       "4             49          CHO           53  \n",
       "5             48          PHI           50  \n",
       "6             42          IND           49  \n",
       "7             42          WAS           48  \n",
       "8             41          ORL           48  "
      ]
     },
     "execution_count": 101,
     "metadata": {},
     "output_type": "execute_result"
    }
   ],
   "source": [
    "# combine west and east data frames\n",
    "west_east_df = pd.merge(west_df, east_df, left_index=True, right_index=True)\n",
    "west_east_df"
   ]
  },
  {
   "cell_type": "code",
   "execution_count": 102,
   "metadata": {},
   "outputs": [],
   "source": [
    "# create a styler object with colored text of incorrectly predicted playoff teams vs actual teams\n",
    "west_east_tb = west_east_df.style.apply(color_east_df2, subset=['East_Tm_Actual'])\\\n",
    "                        .apply(color_east_df, subset=['East_Tm_Pred'])\\\n",
    "                        .apply(color_west_df2, subset=['West_Tm_Actual'])\\\n",
    "                        .apply(color_west_df, subset=['West_Tm_Pred'])"
   ]
  },
  {
   "cell_type": "code",
   "execution_count": 103,
   "metadata": {},
   "outputs": [
    {
     "data": {
      "text/html": [
       "<style  type=\"text/css\" >\n",
       "    #T_5179c47a_bf88_11e9_abbe_a47f1c205fdc   {\n",
       "          border-collapse: collapse;\n",
       "          border-bottom: 1px solid black;\n",
       "          border-left: 1px solid black;\n",
       "          border-right: 1px solid black;\n",
       "          border-top: 1px solid black;\n",
       "    }    #T_5179c47a_bf88_11e9_abbe_a47f1c205fdc th {\n",
       "          text-align: center;\n",
       "          border-bottom: 1px solid black;\n",
       "          border-left: 1px solid black;\n",
       "          border-right: 1px solid black;\n",
       "          border-top: 1px solid black;\n",
       "    }    #T_5179c47a_bf88_11e9_abbe_a47f1c205fdc td {\n",
       "          text-align: center;\n",
       "          border-bottom: 1px solid black;\n",
       "          border-left: 1px solid black;\n",
       "          border-right: 1px solid black;\n",
       "          border-top: 1px solid black;\n",
       "    }    #T_5179c47a_bf88_11e9_abbe_a47f1c205fdcrow0_col0 {\n",
       "            color:  black;\n",
       "            border-collapse:  collapse;\n",
       "        }    #T_5179c47a_bf88_11e9_abbe_a47f1c205fdcrow0_col1 {\n",
       "            border-collapse:  collapse;\n",
       "        }    #T_5179c47a_bf88_11e9_abbe_a47f1c205fdcrow0_col2 {\n",
       "            color:  black;\n",
       "            border-collapse:  collapse;\n",
       "        }    #T_5179c47a_bf88_11e9_abbe_a47f1c205fdcrow0_col3 {\n",
       "            border-collapse:  collapse;\n",
       "        }    #T_5179c47a_bf88_11e9_abbe_a47f1c205fdcrow0_col4 {\n",
       "            color:  black;\n",
       "            border-collapse:  collapse;\n",
       "        }    #T_5179c47a_bf88_11e9_abbe_a47f1c205fdcrow0_col5 {\n",
       "            border-collapse:  collapse;\n",
       "        }    #T_5179c47a_bf88_11e9_abbe_a47f1c205fdcrow0_col6 {\n",
       "            color:  black;\n",
       "            border-collapse:  collapse;\n",
       "        }    #T_5179c47a_bf88_11e9_abbe_a47f1c205fdcrow0_col7 {\n",
       "            border-collapse:  collapse;\n",
       "        }    #T_5179c47a_bf88_11e9_abbe_a47f1c205fdcrow1_col0 {\n",
       "            color: darkorange;\n",
       "            border-collapse:  collapse;\n",
       "        }    #T_5179c47a_bf88_11e9_abbe_a47f1c205fdcrow1_col1 {\n",
       "            border-collapse:  collapse;\n",
       "        }    #T_5179c47a_bf88_11e9_abbe_a47f1c205fdcrow1_col2 {\n",
       "            color:  black;\n",
       "            border-collapse:  collapse;\n",
       "        }    #T_5179c47a_bf88_11e9_abbe_a47f1c205fdcrow1_col3 {\n",
       "            border-collapse:  collapse;\n",
       "        }    #T_5179c47a_bf88_11e9_abbe_a47f1c205fdcrow1_col4 {\n",
       "            color:  black;\n",
       "            border-collapse:  collapse;\n",
       "        }    #T_5179c47a_bf88_11e9_abbe_a47f1c205fdcrow1_col5 {\n",
       "            border-collapse:  collapse;\n",
       "        }    #T_5179c47a_bf88_11e9_abbe_a47f1c205fdcrow1_col6 {\n",
       "            color:  black;\n",
       "            border-collapse:  collapse;\n",
       "        }    #T_5179c47a_bf88_11e9_abbe_a47f1c205fdcrow1_col7 {\n",
       "            border-collapse:  collapse;\n",
       "        }    #T_5179c47a_bf88_11e9_abbe_a47f1c205fdcrow2_col0 {\n",
       "            color:  black;\n",
       "            border-collapse:  collapse;\n",
       "        }    #T_5179c47a_bf88_11e9_abbe_a47f1c205fdcrow2_col1 {\n",
       "            border-collapse:  collapse;\n",
       "        }    #T_5179c47a_bf88_11e9_abbe_a47f1c205fdcrow2_col2 {\n",
       "            color:  black;\n",
       "            border-collapse:  collapse;\n",
       "        }    #T_5179c47a_bf88_11e9_abbe_a47f1c205fdcrow2_col3 {\n",
       "            border-collapse:  collapse;\n",
       "        }    #T_5179c47a_bf88_11e9_abbe_a47f1c205fdcrow2_col4 {\n",
       "            color:  black;\n",
       "            border-collapse:  collapse;\n",
       "        }    #T_5179c47a_bf88_11e9_abbe_a47f1c205fdcrow2_col5 {\n",
       "            border-collapse:  collapse;\n",
       "        }    #T_5179c47a_bf88_11e9_abbe_a47f1c205fdcrow2_col6 {\n",
       "            color:  black;\n",
       "            border-collapse:  collapse;\n",
       "        }    #T_5179c47a_bf88_11e9_abbe_a47f1c205fdcrow2_col7 {\n",
       "            border-collapse:  collapse;\n",
       "        }    #T_5179c47a_bf88_11e9_abbe_a47f1c205fdcrow3_col0 {\n",
       "            color:  black;\n",
       "            border-collapse:  collapse;\n",
       "        }    #T_5179c47a_bf88_11e9_abbe_a47f1c205fdcrow3_col1 {\n",
       "            border-collapse:  collapse;\n",
       "        }    #T_5179c47a_bf88_11e9_abbe_a47f1c205fdcrow3_col2 {\n",
       "            color:  black;\n",
       "            border-collapse:  collapse;\n",
       "        }    #T_5179c47a_bf88_11e9_abbe_a47f1c205fdcrow3_col3 {\n",
       "            border-collapse:  collapse;\n",
       "        }    #T_5179c47a_bf88_11e9_abbe_a47f1c205fdcrow3_col4 {\n",
       "            color:  black;\n",
       "            border-collapse:  collapse;\n",
       "        }    #T_5179c47a_bf88_11e9_abbe_a47f1c205fdcrow3_col5 {\n",
       "            border-collapse:  collapse;\n",
       "        }    #T_5179c47a_bf88_11e9_abbe_a47f1c205fdcrow3_col6 {\n",
       "            color:  red;\n",
       "            border-collapse:  collapse;\n",
       "        }    #T_5179c47a_bf88_11e9_abbe_a47f1c205fdcrow3_col7 {\n",
       "            border-collapse:  collapse;\n",
       "        }    #T_5179c47a_bf88_11e9_abbe_a47f1c205fdcrow4_col0 {\n",
       "            color:  black;\n",
       "            border-collapse:  collapse;\n",
       "        }    #T_5179c47a_bf88_11e9_abbe_a47f1c205fdcrow4_col1 {\n",
       "            border-collapse:  collapse;\n",
       "        }    #T_5179c47a_bf88_11e9_abbe_a47f1c205fdcrow4_col2 {\n",
       "            color:  black;\n",
       "            border-collapse:  collapse;\n",
       "        }    #T_5179c47a_bf88_11e9_abbe_a47f1c205fdcrow4_col3 {\n",
       "            border-collapse:  collapse;\n",
       "        }    #T_5179c47a_bf88_11e9_abbe_a47f1c205fdcrow4_col4 {\n",
       "            color:  black;\n",
       "            border-collapse:  collapse;\n",
       "        }    #T_5179c47a_bf88_11e9_abbe_a47f1c205fdcrow4_col5 {\n",
       "            border-collapse:  collapse;\n",
       "        }    #T_5179c47a_bf88_11e9_abbe_a47f1c205fdcrow4_col6 {\n",
       "            color:  black;\n",
       "            border-collapse:  collapse;\n",
       "        }    #T_5179c47a_bf88_11e9_abbe_a47f1c205fdcrow4_col7 {\n",
       "            border-collapse:  collapse;\n",
       "        }    #T_5179c47a_bf88_11e9_abbe_a47f1c205fdcrow5_col0 {\n",
       "            color: darkorange;\n",
       "            border-collapse:  collapse;\n",
       "        }    #T_5179c47a_bf88_11e9_abbe_a47f1c205fdcrow5_col1 {\n",
       "            border-collapse:  collapse;\n",
       "        }    #T_5179c47a_bf88_11e9_abbe_a47f1c205fdcrow5_col2 {\n",
       "            color:  black;\n",
       "            border-collapse:  collapse;\n",
       "        }    #T_5179c47a_bf88_11e9_abbe_a47f1c205fdcrow5_col3 {\n",
       "            border-collapse:  collapse;\n",
       "        }    #T_5179c47a_bf88_11e9_abbe_a47f1c205fdcrow5_col4 {\n",
       "            color: darkorange;\n",
       "            border-collapse:  collapse;\n",
       "        }    #T_5179c47a_bf88_11e9_abbe_a47f1c205fdcrow5_col5 {\n",
       "            border-collapse:  collapse;\n",
       "        }    #T_5179c47a_bf88_11e9_abbe_a47f1c205fdcrow5_col6 {\n",
       "            color:  black;\n",
       "            border-collapse:  collapse;\n",
       "        }    #T_5179c47a_bf88_11e9_abbe_a47f1c205fdcrow5_col7 {\n",
       "            border-collapse:  collapse;\n",
       "        }    #T_5179c47a_bf88_11e9_abbe_a47f1c205fdcrow6_col0 {\n",
       "            color:  black;\n",
       "            border-collapse:  collapse;\n",
       "        }    #T_5179c47a_bf88_11e9_abbe_a47f1c205fdcrow6_col1 {\n",
       "            border-collapse:  collapse;\n",
       "        }    #T_5179c47a_bf88_11e9_abbe_a47f1c205fdcrow6_col2 {\n",
       "            color:  red;\n",
       "            border-collapse:  collapse;\n",
       "        }    #T_5179c47a_bf88_11e9_abbe_a47f1c205fdcrow6_col3 {\n",
       "            border-collapse:  collapse;\n",
       "        }    #T_5179c47a_bf88_11e9_abbe_a47f1c205fdcrow6_col4 {\n",
       "            color:  black;\n",
       "            border-collapse:  collapse;\n",
       "        }    #T_5179c47a_bf88_11e9_abbe_a47f1c205fdcrow6_col5 {\n",
       "            border-collapse:  collapse;\n",
       "        }    #T_5179c47a_bf88_11e9_abbe_a47f1c205fdcrow6_col6 {\n",
       "            color:  red;\n",
       "            border-collapse:  collapse;\n",
       "        }    #T_5179c47a_bf88_11e9_abbe_a47f1c205fdcrow6_col7 {\n",
       "            border-collapse:  collapse;\n",
       "        }    #T_5179c47a_bf88_11e9_abbe_a47f1c205fdcrow7_col0 {\n",
       "            color:  black;\n",
       "            border-collapse:  collapse;\n",
       "        }    #T_5179c47a_bf88_11e9_abbe_a47f1c205fdcrow7_col1 {\n",
       "            border-collapse:  collapse;\n",
       "        }    #T_5179c47a_bf88_11e9_abbe_a47f1c205fdcrow7_col2 {\n",
       "            color:  red;\n",
       "            border-collapse:  collapse;\n",
       "        }    #T_5179c47a_bf88_11e9_abbe_a47f1c205fdcrow7_col3 {\n",
       "            border-collapse:  collapse;\n",
       "        }    #T_5179c47a_bf88_11e9_abbe_a47f1c205fdcrow7_col4 {\n",
       "            color: darkorange;\n",
       "            border-collapse:  collapse;\n",
       "        }    #T_5179c47a_bf88_11e9_abbe_a47f1c205fdcrow7_col5 {\n",
       "            border-collapse:  collapse;\n",
       "        }    #T_5179c47a_bf88_11e9_abbe_a47f1c205fdcrow7_col6 {\n",
       "            color:  black;\n",
       "            border-collapse:  collapse;\n",
       "        }    #T_5179c47a_bf88_11e9_abbe_a47f1c205fdcrow7_col7 {\n",
       "            border-collapse:  collapse;\n",
       "        }</style>  \n",
       "<table id=\"T_5179c47a_bf88_11e9_abbe_a47f1c205fdc\" > \n",
       "<thead>    <tr> \n",
       "        <th class=\"blank level0\" ></th> \n",
       "        <th class=\"col_heading level0 col0\" >West_Tm_Actual</th> \n",
       "        <th class=\"col_heading level0 col1\" >West_Actual_W</th> \n",
       "        <th class=\"col_heading level0 col2\" >West_Tm_Pred</th> \n",
       "        <th class=\"col_heading level0 col3\" >West_Pred_W</th> \n",
       "        <th class=\"col_heading level0 col4\" >East_Tm_Actual</th> \n",
       "        <th class=\"col_heading level0 col5\" >East_Actual_W</th> \n",
       "        <th class=\"col_heading level0 col6\" >East_Tm_Pred</th> \n",
       "        <th class=\"col_heading level0 col7\" >East_Pred_W</th> \n",
       "    </tr></thead> \n",
       "<tbody>    <tr> \n",
       "        <th id=\"T_5179c47a_bf88_11e9_abbe_a47f1c205fdclevel0_row0\" class=\"row_heading level0 row0\" >1</th> \n",
       "        <td id=\"T_5179c47a_bf88_11e9_abbe_a47f1c205fdcrow0_col0\" class=\"data row0 col0\" >GSW</td> \n",
       "        <td id=\"T_5179c47a_bf88_11e9_abbe_a47f1c205fdcrow0_col1\" class=\"data row0 col1\" >57</td> \n",
       "        <td id=\"T_5179c47a_bf88_11e9_abbe_a47f1c205fdcrow0_col2\" class=\"data row0 col2\" >GSW</td> \n",
       "        <td id=\"T_5179c47a_bf88_11e9_abbe_a47f1c205fdcrow0_col3\" class=\"data row0 col3\" >67</td> \n",
       "        <td id=\"T_5179c47a_bf88_11e9_abbe_a47f1c205fdcrow0_col4\" class=\"data row0 col4\" >MIL</td> \n",
       "        <td id=\"T_5179c47a_bf88_11e9_abbe_a47f1c205fdcrow0_col5\" class=\"data row0 col5\" >60</td> \n",
       "        <td id=\"T_5179c47a_bf88_11e9_abbe_a47f1c205fdcrow0_col6\" class=\"data row0 col6\" >MIL</td> \n",
       "        <td id=\"T_5179c47a_bf88_11e9_abbe_a47f1c205fdcrow0_col7\" class=\"data row0 col7\" >60</td> \n",
       "    </tr>    <tr> \n",
       "        <th id=\"T_5179c47a_bf88_11e9_abbe_a47f1c205fdclevel0_row1\" class=\"row_heading level0 row1\" >2</th> \n",
       "        <td id=\"T_5179c47a_bf88_11e9_abbe_a47f1c205fdcrow1_col0\" class=\"data row1 col0\" >DEN</td> \n",
       "        <td id=\"T_5179c47a_bf88_11e9_abbe_a47f1c205fdcrow1_col1\" class=\"data row1 col1\" >54</td> \n",
       "        <td id=\"T_5179c47a_bf88_11e9_abbe_a47f1c205fdcrow1_col2\" class=\"data row1 col2\" >SAS</td> \n",
       "        <td id=\"T_5179c47a_bf88_11e9_abbe_a47f1c205fdcrow1_col3\" class=\"data row1 col3\" >62</td> \n",
       "        <td id=\"T_5179c47a_bf88_11e9_abbe_a47f1c205fdcrow1_col4\" class=\"data row1 col4\" >TOR</td> \n",
       "        <td id=\"T_5179c47a_bf88_11e9_abbe_a47f1c205fdcrow1_col5\" class=\"data row1 col5\" >58</td> \n",
       "        <td id=\"T_5179c47a_bf88_11e9_abbe_a47f1c205fdcrow1_col6\" class=\"data row1 col6\" >TOR</td> \n",
       "        <td id=\"T_5179c47a_bf88_11e9_abbe_a47f1c205fdcrow1_col7\" class=\"data row1 col7\" >57</td> \n",
       "    </tr>    <tr> \n",
       "        <th id=\"T_5179c47a_bf88_11e9_abbe_a47f1c205fdclevel0_row2\" class=\"row_heading level0 row2\" >3</th> \n",
       "        <td id=\"T_5179c47a_bf88_11e9_abbe_a47f1c205fdcrow2_col0\" class=\"data row2 col0\" >HOU</td> \n",
       "        <td id=\"T_5179c47a_bf88_11e9_abbe_a47f1c205fdcrow2_col1\" class=\"data row2 col1\" >53</td> \n",
       "        <td id=\"T_5179c47a_bf88_11e9_abbe_a47f1c205fdcrow2_col2\" class=\"data row2 col2\" >HOU</td> \n",
       "        <td id=\"T_5179c47a_bf88_11e9_abbe_a47f1c205fdcrow2_col3\" class=\"data row2 col3\" >61</td> \n",
       "        <td id=\"T_5179c47a_bf88_11e9_abbe_a47f1c205fdcrow2_col4\" class=\"data row2 col4\" >PHI</td> \n",
       "        <td id=\"T_5179c47a_bf88_11e9_abbe_a47f1c205fdcrow2_col5\" class=\"data row2 col5\" >51</td> \n",
       "        <td id=\"T_5179c47a_bf88_11e9_abbe_a47f1c205fdcrow2_col6\" class=\"data row2 col6\" >BOS</td> \n",
       "        <td id=\"T_5179c47a_bf88_11e9_abbe_a47f1c205fdcrow2_col7\" class=\"data row2 col7\" >55</td> \n",
       "    </tr>    <tr> \n",
       "        <th id=\"T_5179c47a_bf88_11e9_abbe_a47f1c205fdclevel0_row3\" class=\"row_heading level0 row3\" >4</th> \n",
       "        <td id=\"T_5179c47a_bf88_11e9_abbe_a47f1c205fdcrow3_col0\" class=\"data row3 col0\" >POR</td> \n",
       "        <td id=\"T_5179c47a_bf88_11e9_abbe_a47f1c205fdcrow3_col1\" class=\"data row3 col1\" >53</td> \n",
       "        <td id=\"T_5179c47a_bf88_11e9_abbe_a47f1c205fdcrow3_col2\" class=\"data row3 col2\" >UTA</td> \n",
       "        <td id=\"T_5179c47a_bf88_11e9_abbe_a47f1c205fdcrow3_col3\" class=\"data row3 col3\" >52</td> \n",
       "        <td id=\"T_5179c47a_bf88_11e9_abbe_a47f1c205fdcrow3_col4\" class=\"data row3 col4\" >BOS</td> \n",
       "        <td id=\"T_5179c47a_bf88_11e9_abbe_a47f1c205fdcrow3_col5\" class=\"data row3 col5\" >49</td> \n",
       "        <td id=\"T_5179c47a_bf88_11e9_abbe_a47f1c205fdcrow3_col6\" class=\"data row3 col6\" >CHO</td> \n",
       "        <td id=\"T_5179c47a_bf88_11e9_abbe_a47f1c205fdcrow3_col7\" class=\"data row3 col7\" >53</td> \n",
       "    </tr>    <tr> \n",
       "        <th id=\"T_5179c47a_bf88_11e9_abbe_a47f1c205fdclevel0_row4\" class=\"row_heading level0 row4\" >5</th> \n",
       "        <td id=\"T_5179c47a_bf88_11e9_abbe_a47f1c205fdcrow4_col0\" class=\"data row4 col0\" >UTA</td> \n",
       "        <td id=\"T_5179c47a_bf88_11e9_abbe_a47f1c205fdcrow4_col1\" class=\"data row4 col1\" >50</td> \n",
       "        <td id=\"T_5179c47a_bf88_11e9_abbe_a47f1c205fdcrow4_col2\" class=\"data row4 col2\" >POR</td> \n",
       "        <td id=\"T_5179c47a_bf88_11e9_abbe_a47f1c205fdcrow4_col3\" class=\"data row4 col3\" >51</td> \n",
       "        <td id=\"T_5179c47a_bf88_11e9_abbe_a47f1c205fdcrow4_col4\" class=\"data row4 col4\" >IND</td> \n",
       "        <td id=\"T_5179c47a_bf88_11e9_abbe_a47f1c205fdcrow4_col5\" class=\"data row4 col5\" >48</td> \n",
       "        <td id=\"T_5179c47a_bf88_11e9_abbe_a47f1c205fdcrow4_col6\" class=\"data row4 col6\" >PHI</td> \n",
       "        <td id=\"T_5179c47a_bf88_11e9_abbe_a47f1c205fdcrow4_col7\" class=\"data row4 col7\" >50</td> \n",
       "    </tr>    <tr> \n",
       "        <th id=\"T_5179c47a_bf88_11e9_abbe_a47f1c205fdclevel0_row5\" class=\"row_heading level0 row5\" >6</th> \n",
       "        <td id=\"T_5179c47a_bf88_11e9_abbe_a47f1c205fdcrow5_col0\" class=\"data row5 col0\" >OKC</td> \n",
       "        <td id=\"T_5179c47a_bf88_11e9_abbe_a47f1c205fdcrow5_col1\" class=\"data row5 col1\" >49</td> \n",
       "        <td id=\"T_5179c47a_bf88_11e9_abbe_a47f1c205fdcrow5_col2\" class=\"data row5 col2\" >LAC</td> \n",
       "        <td id=\"T_5179c47a_bf88_11e9_abbe_a47f1c205fdcrow5_col3\" class=\"data row5 col3\" >51</td> \n",
       "        <td id=\"T_5179c47a_bf88_11e9_abbe_a47f1c205fdcrow5_col4\" class=\"data row5 col4\" >BRK</td> \n",
       "        <td id=\"T_5179c47a_bf88_11e9_abbe_a47f1c205fdcrow5_col5\" class=\"data row5 col5\" >42</td> \n",
       "        <td id=\"T_5179c47a_bf88_11e9_abbe_a47f1c205fdcrow5_col6\" class=\"data row5 col6\" >IND</td> \n",
       "        <td id=\"T_5179c47a_bf88_11e9_abbe_a47f1c205fdcrow5_col7\" class=\"data row5 col7\" >49</td> \n",
       "    </tr>    <tr> \n",
       "        <th id=\"T_5179c47a_bf88_11e9_abbe_a47f1c205fdclevel0_row6\" class=\"row_heading level0 row6\" >7</th> \n",
       "        <td id=\"T_5179c47a_bf88_11e9_abbe_a47f1c205fdcrow6_col0\" class=\"data row6 col0\" >LAC</td> \n",
       "        <td id=\"T_5179c47a_bf88_11e9_abbe_a47f1c205fdcrow6_col1\" class=\"data row6 col1\" >48</td> \n",
       "        <td id=\"T_5179c47a_bf88_11e9_abbe_a47f1c205fdcrow6_col2\" class=\"data row6 col2\" >MIN</td> \n",
       "        <td id=\"T_5179c47a_bf88_11e9_abbe_a47f1c205fdcrow6_col3\" class=\"data row6 col3\" >48</td> \n",
       "        <td id=\"T_5179c47a_bf88_11e9_abbe_a47f1c205fdcrow6_col4\" class=\"data row6 col4\" >ORL</td> \n",
       "        <td id=\"T_5179c47a_bf88_11e9_abbe_a47f1c205fdcrow6_col5\" class=\"data row6 col5\" >42</td> \n",
       "        <td id=\"T_5179c47a_bf88_11e9_abbe_a47f1c205fdcrow6_col6\" class=\"data row6 col6\" >WAS</td> \n",
       "        <td id=\"T_5179c47a_bf88_11e9_abbe_a47f1c205fdcrow6_col7\" class=\"data row6 col7\" >48</td> \n",
       "    </tr>    <tr> \n",
       "        <th id=\"T_5179c47a_bf88_11e9_abbe_a47f1c205fdclevel0_row7\" class=\"row_heading level0 row7\" >8</th> \n",
       "        <td id=\"T_5179c47a_bf88_11e9_abbe_a47f1c205fdcrow7_col0\" class=\"data row7 col0\" >SAS</td> \n",
       "        <td id=\"T_5179c47a_bf88_11e9_abbe_a47f1c205fdcrow7_col1\" class=\"data row7 col1\" >48</td> \n",
       "        <td id=\"T_5179c47a_bf88_11e9_abbe_a47f1c205fdcrow7_col2\" class=\"data row7 col2\" >MEM</td> \n",
       "        <td id=\"T_5179c47a_bf88_11e9_abbe_a47f1c205fdcrow7_col3\" class=\"data row7 col3\" >46</td> \n",
       "        <td id=\"T_5179c47a_bf88_11e9_abbe_a47f1c205fdcrow7_col4\" class=\"data row7 col4\" >DET</td> \n",
       "        <td id=\"T_5179c47a_bf88_11e9_abbe_a47f1c205fdcrow7_col5\" class=\"data row7 col5\" >41</td> \n",
       "        <td id=\"T_5179c47a_bf88_11e9_abbe_a47f1c205fdcrow7_col6\" class=\"data row7 col6\" >ORL</td> \n",
       "        <td id=\"T_5179c47a_bf88_11e9_abbe_a47f1c205fdcrow7_col7\" class=\"data row7 col7\" >48</td> \n",
       "    </tr></tbody> \n",
       "</table> "
      ],
      "text/plain": [
       "<pandas.io.formats.style.Styler at 0x141e391b438>"
      ]
     },
     "execution_count": 103,
     "metadata": {},
     "output_type": "execute_result"
    }
   ],
   "source": [
    "# set table properties\n",
    "west_east_tb.set_properties(**{'border-collapse':'collapse'})\n",
    "\n",
    "# set table styles\n",
    "west_east_tb.set_table_styles([{'selector':' ', 'props':[('border-collapse','collapse'),('border-bottom','1px solid black'),('border-left', '1px solid black'),('border-right', '1px solid black'),('border-top', '1px solid black')]}\\\n",
    "                        ,{'selector':'th', 'props':[('text-align','center'),('border-bottom','1px solid black'),('border-left', '1px solid black'),('border-right', '1px solid black'),('border-top', '1px solid black')]}\\\n",
    "                        ,{'selector':'td', 'props':[('text-align','center'),('border-bottom','1px solid black'),('border-left', '1px solid black'),('border-right', '1px solid black'),('border-top', '1px solid black')]}])"
   ]
  },
  {
   "cell_type": "markdown",
   "metadata": {},
   "source": [
    "We can see from the table above that the model correctly predicted 12 of the 16 playoff teams. However, the model did not predict wins values well at all and was only able to accurately predict the playoff standing (i.e. playoff position ranking) of 4 teams &mdash; Golden State Warriors (GSW), Houston Rockets (HOU), Milwaukee Bucks (MIL), Toronto Raptors (TOR)."
   ]
  },
  {
   "cell_type": "code",
   "execution_count": 104,
   "metadata": {},
   "outputs": [],
   "source": [
    "# render east_df_tb to html\n",
    "html = west_east_tb.render()"
   ]
  },
  {
   "cell_type": "code",
   "execution_count": 105,
   "metadata": {
    "scrolled": true
   },
   "outputs": [
    {
     "name": "stdout",
     "output_type": "stream",
     "text": [
      "Loading page (1/2)\r\n",
      "[>                                                           ] 0%\r",
      "[======>                                                     ] 10%\r",
      "[==============================>                             ] 50%\r",
      "[============================================================] 100%\r",
      "Rendering (2/2)                                                    \r\n",
      "[>                                                           ] 0%\r",
      "[===============>                                            ] 25%\r",
      "[============================================================] 100%\r",
      "Done                                                               \r\n"
     ]
    },
    {
     "data": {
      "text/plain": [
       "True"
      ]
     },
     "execution_count": 105,
     "metadata": {},
     "output_type": "execute_result"
    }
   ],
   "source": [
    "# convert and save to png file\n",
    "imgkit.from_string(html, 'west_east_tb.png', config=config_img)"
   ]
  }
 ],
 "metadata": {
  "kernelspec": {
   "display_name": "Python 3",
   "language": "python",
   "name": "python3"
  },
  "language_info": {
   "codemirror_mode": {
    "name": "ipython",
    "version": 3
   },
   "file_extension": ".py",
   "mimetype": "text/x-python",
   "name": "python",
   "nbconvert_exporter": "python",
   "pygments_lexer": "ipython3",
   "version": "3.7.1"
  }
 },
 "nbformat": 4,
 "nbformat_minor": 2
}
